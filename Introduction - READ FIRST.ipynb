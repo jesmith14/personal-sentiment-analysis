{
 "cells": [
  {
   "cell_type": "markdown",
   "metadata": {},
   "source": [
    "# Introduction"
   ]
  },
  {
   "cell_type": "markdown",
   "metadata": {},
   "source": [
    "To understand my motivation for this project, it is important to understand the background that triggered my idea. This was an interesting quarter for me because I had the really cool opportunity to take a Data Science class and a Computer Ethics class at the same time. This was the first time I had really learned anything about these subjects, so it was an incredibly eye-opening experience for me. On the one side, I was learning how to collect big data and how people can scrape this data to analyze it and then use it to gain insight on past actions or even build machine learning models to predict future values as well. Then on the other hand, I was learning what companies were doing with this big data and how easy it was to utilize it in unethical ways. It created a lot of cognitive dissonance to be so interested in a topic that can also be pretty controversial right now."
   ]
  },
  {
   "cell_type": "markdown",
   "metadata": {},
   "source": [
    "So how did this bring me to my Data Science Final project? After learning about privacy issues involving big data and social media companies, I discovered that Facebook allows all users to download a copy of all of the data that Facebook has ever stored on them. This includes (amongst many other things):\n",
    "- Every message you have ever sent or has been sent to you\n",
    "- Every timeline post you have posted or has been posted on your timeline\n",
    "- Every picture and video you have been tagged in or posted\n",
    "- Every friend you've ever had, deleted, requested, or been requested by\n",
    "- All contact information\n",
    "- All applications you've downloaded on your phone\n",
    "- All keywords that they use for targeted advertisements\n",
    "- Every advertising company that has your contact information (this list was at least several hundred companies long)\n",
    "- Your facial recognition data\n",
    "- Every instance that my account has been logged in to with the IP address, device, and cookie data for that login\n",
    "- Events, hobbies, pages liked, interests, and even more...\n",
    "\n",
    "Needless to say it was a lot of information. Not to mention the fact that Facebook still has so much more data than just this stored about me as well. And I should have known it was all there, I mean I did personally upload or create most of it. It was seeing it all in front of me that scared me quite a bit and made me suddenly realize how I have been treating social media like my personal diary, when I really should be treating it like what it is, a corporation. So I deleted my Facebook. This was about a month ago, which just happened to be at the same time that I was trying to decide what data set to analyze for my final project. It was then that I realized I had all of these files filled with data about myself, compiled neatly into HTML files, just ready to be stripped and analyzed. The perfect opportunity!"
   ]
  },
  {
   "cell_type": "markdown",
   "metadata": {},
   "source": [
    "So my project was born. It took me quite a while to decide what I wanted to do with my data. After thoughtful and careful deliberation, I decided the best idea would be to try and analyze myself through my messages and timeline posts. I had heard about sentiment analysis in the past, but not too much and I was interested in utilizing it to try and discover something about the way that I use social media. It was then that I came up with my idea:\n",
    "\n",
    "I decided to get all of the private messages that I had ever sent and all of the public timeline posts that I had ever made on Facebook and then perform a sentiment analysis for every one of them. Then I could chart out the average sentiment over years, months, days, and even down to the time of day to determine if I was more \"sentimental\" or positive publicly than I was privately. Then, I could use machine learning to create a model that allows me to predict what my sentiment might be on Facebook for any given year, month, day, or time of day. I hope you enjoy this project. I definitely learned a lot about myself throughout this process and I discovered some interesting findings about the way that I post on social media, as well as trends in the entire social media industry."
   ]
  }
 ],
 "metadata": {
  "kernelspec": {
   "display_name": "Python 3",
   "language": "python",
   "name": "python3"
  },
  "language_info": {
   "codemirror_mode": {
    "name": "ipython",
    "version": 3
   },
   "file_extension": ".py",
   "mimetype": "text/x-python",
   "name": "python",
   "nbconvert_exporter": "python",
   "pygments_lexer": "ipython3",
   "version": "3.5.2"
  }
 },
 "nbformat": 4,
 "nbformat_minor": 2
}
