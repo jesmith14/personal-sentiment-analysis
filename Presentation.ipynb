{
 "cells": [
  {
   "cell_type": "markdown",
   "metadata": {},
   "source": [
    "# Motivation and Background"
   ]
  },
  {
   "cell_type": "markdown",
   "metadata": {},
   "source": [
    "![motivation](motivation.png)"
   ]
  },
  {
   "cell_type": "markdown",
   "metadata": {},
   "source": [
    "# Scraping the Data"
   ]
  },
  {
   "cell_type": "code",
   "execution_count": 15,
   "metadata": {
    "collapsed": true
   },
   "outputs": [],
   "source": [
    "import pickle\n",
    "messages = pickle.load(open(\"messages.pkl\", \"rb\"))\n",
    "timeline = pickle.load(open(\"timeline.pkl\", \"rb\"))"
   ]
  },
  {
   "cell_type": "code",
   "execution_count": 16,
   "metadata": {
    "collapsed": false
   },
   "outputs": [
    {
     "data": {
      "text/html": [
       "<div>\n",
       "<table border=\"1\" class=\"dataframe\">\n",
       "  <thead>\n",
       "    <tr style=\"text-align: right;\">\n",
       "      <th></th>\n",
       "      <th>Year</th>\n",
       "      <th>Month</th>\n",
       "      <th>Day</th>\n",
       "      <th>Time</th>\n",
       "      <th>Text</th>\n",
       "      <th>Hour</th>\n",
       "      <th>Minutes</th>\n",
       "    </tr>\n",
       "  </thead>\n",
       "  <tbody>\n",
       "    <tr>\n",
       "      <th>50</th>\n",
       "      <td>2012</td>\n",
       "      <td>March</td>\n",
       "      <td>6</td>\n",
       "      <td>18:37</td>\n",
       "      <td>haha i try</td>\n",
       "      <td>6</td>\n",
       "      <td>37</td>\n",
       "    </tr>\n",
       "    <tr>\n",
       "      <th>51</th>\n",
       "      <td>2012</td>\n",
       "      <td>March</td>\n",
       "      <td>6</td>\n",
       "      <td>18:37</td>\n",
       "      <td>yes you are AMAZING!!!!</td>\n",
       "      <td>6</td>\n",
       "      <td>37</td>\n",
       "    </tr>\n",
       "    <tr>\n",
       "      <th>52</th>\n",
       "      <td>2012</td>\n",
       "      <td>March</td>\n",
       "      <td>6</td>\n",
       "      <td>18:36</td>\n",
       "      <td>haha ya i brought mine home just in case that ...</td>\n",
       "      <td>6</td>\n",
       "      <td>36</td>\n",
       "    </tr>\n",
       "    <tr>\n",
       "      <th>53</th>\n",
       "      <td>2012</td>\n",
       "      <td>March</td>\n",
       "      <td>6</td>\n",
       "      <td>18:36</td>\n",
       "      <td>:(</td>\n",
       "      <td>6</td>\n",
       "      <td>36</td>\n",
       "    </tr>\n",
       "    <tr>\n",
       "      <th>54</th>\n",
       "      <td>2012</td>\n",
       "      <td>March</td>\n",
       "      <td>6</td>\n",
       "      <td>18:36</td>\n",
       "      <td>oops</td>\n",
       "      <td>6</td>\n",
       "      <td>36</td>\n",
       "    </tr>\n",
       "  </tbody>\n",
       "</table>\n",
       "</div>"
      ],
      "text/plain": [
       "    Year  Month  Day   Time  \\\n",
       "50  2012  March    6  18:37   \n",
       "51  2012  March    6  18:37   \n",
       "52  2012  March    6  18:36   \n",
       "53  2012  March    6  18:36   \n",
       "54  2012  March    6  18:36   \n",
       "\n",
       "                                                 Text  Hour  Minutes  \n",
       "50                                         haha i try     6       37  \n",
       "51                            yes you are AMAZING!!!!     6       37  \n",
       "52  haha ya i brought mine home just in case that ...     6       36  \n",
       "53                                                 :(     6       36  \n",
       "54                                               oops     6       36  "
      ]
     },
     "execution_count": 16,
     "metadata": {},
     "output_type": "execute_result"
    }
   ],
   "source": [
    "messages.iloc[50:55]"
   ]
  },
  {
   "cell_type": "code",
   "execution_count": 17,
   "metadata": {
    "collapsed": false
   },
   "outputs": [
    {
     "data": {
      "text/html": [
       "<div>\n",
       "<table border=\"1\" class=\"dataframe\">\n",
       "  <thead>\n",
       "    <tr style=\"text-align: right;\">\n",
       "      <th></th>\n",
       "      <th>Year</th>\n",
       "      <th>Month</th>\n",
       "      <th>Day</th>\n",
       "      <th>Time</th>\n",
       "      <th>Text</th>\n",
       "      <th>Hour</th>\n",
       "      <th>Minutes</th>\n",
       "    </tr>\n",
       "  </thead>\n",
       "  <tbody>\n",
       "    <tr>\n",
       "      <th>0</th>\n",
       "      <td>2017</td>\n",
       "      <td>May</td>\n",
       "      <td>16</td>\n",
       "      <td>10:48</td>\n",
       "      <td>If anyone wants to see some awesome kids hitti...</td>\n",
       "      <td>10</td>\n",
       "      <td>48</td>\n",
       "    </tr>\n",
       "    <tr>\n",
       "      <th>1</th>\n",
       "      <td>2017</td>\n",
       "      <td>May</td>\n",
       "      <td>7</td>\n",
       "      <td>5:39</td>\n",
       "      <td>Just wanted to share that today at 12:45pm Eas...</td>\n",
       "      <td>5</td>\n",
       "      <td>39</td>\n",
       "    </tr>\n",
       "    <tr>\n",
       "      <th>2</th>\n",
       "      <td>2017</td>\n",
       "      <td>May</td>\n",
       "      <td>4</td>\n",
       "      <td>14:13</td>\n",
       "      <td>So I took a photo of a dog in my chem lab and ...</td>\n",
       "      <td>2</td>\n",
       "      <td>13</td>\n",
       "    </tr>\n",
       "    <tr>\n",
       "      <th>3</th>\n",
       "      <td>2017</td>\n",
       "      <td>April</td>\n",
       "      <td>30</td>\n",
       "      <td>23:21</td>\n",
       "      <td>Can't wait for this weekend! Let's go Poly Pol...</td>\n",
       "      <td>11</td>\n",
       "      <td>21</td>\n",
       "    </tr>\n",
       "    <tr>\n",
       "      <th>4</th>\n",
       "      <td>2017</td>\n",
       "      <td>April</td>\n",
       "      <td>14</td>\n",
       "      <td>12:11</td>\n",
       "      <td>Margarita is ready for tomorrow, are you?</td>\n",
       "      <td>12</td>\n",
       "      <td>11</td>\n",
       "    </tr>\n",
       "  </tbody>\n",
       "</table>\n",
       "</div>"
      ],
      "text/plain": [
       "   Year  Month  Day   Time                                               Text  \\\n",
       "0  2017    May   16  10:48  If anyone wants to see some awesome kids hitti...   \n",
       "1  2017    May    7   5:39  Just wanted to share that today at 12:45pm Eas...   \n",
       "2  2017    May    4  14:13  So I took a photo of a dog in my chem lab and ...   \n",
       "3  2017  April   30  23:21  Can't wait for this weekend! Let's go Poly Pol...   \n",
       "4  2017  April   14  12:11          Margarita is ready for tomorrow, are you?   \n",
       "\n",
       "  Hour Minutes  \n",
       "0   10      48  \n",
       "1    5      39  \n",
       "2    2      13  \n",
       "3   11      21  \n",
       "4   12      11  "
      ]
     },
     "execution_count": 17,
     "metadata": {},
     "output_type": "execute_result"
    }
   ],
   "source": [
    "timeline.head()"
   ]
  },
  {
   "cell_type": "markdown",
   "metadata": {},
   "source": [
    "##### Notes:\n",
    "- October 13\n",
    "- Converting time into army time\n",
    "- Hours and minutes for easier access in machine learning models"
   ]
  },
  {
   "cell_type": "markdown",
   "metadata": {},
   "source": [
    "# Analyzing, Visualizations, and Conclusions Drawn"
   ]
  },
  {
   "cell_type": "code",
   "execution_count": 18,
   "metadata": {
    "collapsed": true
   },
   "outputs": [],
   "source": [
    "messages = pickle.load(open(\"messages_score.pkl\", \"rb\"))\n",
    "timeline = pickle.load(open(\"timeline_score.pkl\", \"rb\"))"
   ]
  },
  {
   "cell_type": "code",
   "execution_count": 23,
   "metadata": {
    "collapsed": false
   },
   "outputs": [
    {
     "data": {
      "text/html": [
       "<div>\n",
       "<table border=\"1\" class=\"dataframe\">\n",
       "  <thead>\n",
       "    <tr style=\"text-align: right;\">\n",
       "      <th></th>\n",
       "      <th>Year</th>\n",
       "      <th>Month</th>\n",
       "      <th>Day</th>\n",
       "      <th>Time</th>\n",
       "      <th>Text</th>\n",
       "      <th>Hour</th>\n",
       "      <th>Minutes</th>\n",
       "      <th>compound_score</th>\n",
       "      <th>neg_score</th>\n",
       "      <th>neu_score</th>\n",
       "      <th>pos_score</th>\n",
       "    </tr>\n",
       "  </thead>\n",
       "  <tbody>\n",
       "    <tr>\n",
       "      <th>0</th>\n",
       "      <td>2015</td>\n",
       "      <td>May</td>\n",
       "      <td>11</td>\n",
       "      <td>24:28</td>\n",
       "      <td>smithygirl@gmail.com :) Good luck Sheridan! Ha...</td>\n",
       "      <td>12</td>\n",
       "      <td>28</td>\n",
       "      <td>0.9457</td>\n",
       "      <td>0.056</td>\n",
       "      <td>0.351</td>\n",
       "      <td>0.593</td>\n",
       "    </tr>\n",
       "  </tbody>\n",
       "</table>\n",
       "</div>"
      ],
      "text/plain": [
       "   Year Month  Day   Time                                               Text  \\\n",
       "0  2015   May   11  24:28  smithygirl@gmail.com :) Good luck Sheridan! Ha...   \n",
       "\n",
       "   Hour  Minutes  compound_score  neg_score  neu_score  pos_score  \n",
       "0    12       28          0.9457      0.056      0.351      0.593  "
      ]
     },
     "execution_count": 23,
     "metadata": {},
     "output_type": "execute_result"
    }
   ],
   "source": [
    "messages.head(1)"
   ]
  },
  {
   "cell_type": "code",
   "execution_count": 24,
   "metadata": {
    "collapsed": false
   },
   "outputs": [
    {
     "data": {
      "text/html": [
       "<div>\n",
       "<table border=\"1\" class=\"dataframe\">\n",
       "  <thead>\n",
       "    <tr style=\"text-align: right;\">\n",
       "      <th></th>\n",
       "      <th>Year</th>\n",
       "      <th>Month</th>\n",
       "      <th>Day</th>\n",
       "      <th>Time</th>\n",
       "      <th>Text</th>\n",
       "      <th>Hour</th>\n",
       "      <th>Minutes</th>\n",
       "      <th>compound_score</th>\n",
       "      <th>neg_score</th>\n",
       "      <th>neu_score</th>\n",
       "      <th>pos_score</th>\n",
       "    </tr>\n",
       "  </thead>\n",
       "  <tbody>\n",
       "    <tr>\n",
       "      <th>0</th>\n",
       "      <td>2017</td>\n",
       "      <td>May</td>\n",
       "      <td>16</td>\n",
       "      <td>10:48</td>\n",
       "      <td>If anyone wants to see some awesome kids hitti...</td>\n",
       "      <td>10</td>\n",
       "      <td>48</td>\n",
       "      <td>0.943</td>\n",
       "      <td>0.0</td>\n",
       "      <td>0.732</td>\n",
       "      <td>0.268</td>\n",
       "    </tr>\n",
       "  </tbody>\n",
       "</table>\n",
       "</div>"
      ],
      "text/plain": [
       "   Year Month  Day   Time                                               Text  \\\n",
       "0  2017   May   16  10:48  If anyone wants to see some awesome kids hitti...   \n",
       "\n",
       "  Hour Minutes  compound_score  neg_score  neu_score  pos_score  \n",
       "0   10      48           0.943        0.0      0.732      0.268  "
      ]
     },
     "execution_count": 24,
     "metadata": {},
     "output_type": "execute_result"
    }
   ],
   "source": [
    "timeline.head(1)"
   ]
  },
  {
   "cell_type": "code",
   "execution_count": 25,
   "metadata": {
    "collapsed": false
   },
   "outputs": [],
   "source": [
    "%matplotlib inline\n",
    "from graphing import *"
   ]
  },
  {
   "cell_type": "code",
   "execution_count": 27,
   "metadata": {
    "collapsed": false
   },
   "outputs": [
    {
     "data": {
      "application/vnd.plotly.v1+json": {
       "data": [
        {
         "mode": "lines",
         "name": 2010,
         "type": "scatter",
         "x": [
          "January",
          "February",
          "March",
          "April",
          "May",
          "June",
          "July",
          "August",
          "September",
          "October",
          "November",
          "December"
         ],
         "y": [
          0.15156258064516126,
          0.14776,
          0.3988,
          0.99075,
          0.30056956521739137,
          0.23230265486725657,
          0.3089592592592591,
          0.32508360655737695,
          0.2507377049180328,
          0,
          0.433385,
          0.29212015503875965
         ]
        },
        {
         "mode": "lines",
         "name": 2011,
         "type": "scatter",
         "x": [
          "January",
          "February",
          "March",
          "April",
          "May",
          "June",
          "July",
          "August",
          "September",
          "October",
          "November",
          "December"
         ],
         "y": [
          0.5497631578947368,
          0.47133181818181824,
          0.3123129032258063,
          0.27378125000000003,
          0.2584503311258278,
          0.1836222797927461,
          0.23865212947189066,
          0.05585238095238095,
          0.2196130434782608,
          0.18062874999999995,
          0.07422472527472528,
          0.13723181818181818
         ]
        },
        {
         "mode": "lines",
         "name": 2012,
         "type": "scatter",
         "x": [
          "January",
          "February",
          "March",
          "April",
          "May",
          "June",
          "July",
          "August",
          "September",
          "October",
          "November",
          "December"
         ],
         "y": [
          0.07691641791044775,
          0.15781428571428574,
          0.07871559633027521,
          0.31740157480314934,
          0.21801673640167352,
          0.38558787878787887,
          0.4604780487804878,
          0.19558529411764705,
          0.334310843373494,
          0.211174025974026,
          0.31226043956043953,
          0.35220000000000007
         ]
        },
        {
         "mode": "lines",
         "name": 2013,
         "type": "scatter",
         "x": [
          "January",
          "February",
          "March",
          "April",
          "May",
          "June",
          "July",
          "August",
          "September",
          "October",
          "November",
          "December"
         ],
         "y": [
          0.2262246376811594,
          0.2645473684210527,
          0.2713466666666667,
          0.30138695652173914,
          0.13604482758620692,
          0.25838,
          0.1468,
          0.17562909090909093,
          0.24275999999999998,
          0.23193783783783783,
          -0.14049999999999999,
          0.17414666666666667
         ]
        },
        {
         "mode": "lines",
         "name": 2014,
         "type": "scatter",
         "x": [
          "January",
          "February",
          "April",
          "May",
          "June",
          "July",
          "August",
          "September",
          "October",
          "November",
          "December"
         ],
         "y": [
          0.12476000000000001,
          0.10255624999999997,
          0.6122359999999998,
          0.2974333333333333,
          0.5555555555555555,
          0.16638620689655176,
          0.4996727272727273,
          0.6052,
          -0.02532000000000001,
          0.5751846153846153,
          0
         ]
        },
        {
         "mode": "lines",
         "name": 2015,
         "type": "scatter",
         "x": [
          "January",
          "February",
          "March",
          "April",
          "May",
          "June",
          "July",
          "August",
          "September",
          "October",
          "November",
          "December"
         ],
         "y": [
          0.235475,
          0.40385000000000004,
          0.12785806451612902,
          0.38730000000000003,
          0.24137857142857144,
          0.13020066666666666,
          0.1863200000000001,
          0.2651650485436893,
          0.2999999999999999,
          0.233375652173913,
          0.16406976744186047,
          0.20370537084398954
         ]
        },
        {
         "mode": "lines",
         "name": 2016,
         "type": "scatter",
         "x": [
          "January",
          "February",
          "March",
          "April",
          "May",
          "June",
          "July",
          "August",
          "September",
          "October",
          "November",
          "December"
         ],
         "y": [
          0.12413557692307688,
          0.17604814159292034,
          0.13367099999999982,
          0.2003168407310703,
          0.20663005366726286,
          0.2218174181593581,
          0.1995361736334402,
          0.1952612549800799,
          0.19584012638230616,
          0.17919984496124028,
          0.2092694386694385,
          0.2165922997946613
         ]
        },
        {
         "mode": "lines",
         "name": 2017,
         "type": "scatter",
         "x": [
          "January",
          "February",
          "March",
          "April",
          "May"
         ],
         "y": [
          0.10610308788598566,
          0.19427315175097265,
          0.20342560283687933,
          0.26230336842105273,
          0.26305495145631064
         ]
        }
       ],
       "layout": {
        "title": "Monthly Sentiment Analysis by Year",
        "xaxis": {
         "title": "Month"
        },
        "yaxis": {
         "title": "Mean Compound Score"
        }
       }
      },
      "text/html": [
       "<div id=\"9252d5c1-dca1-4e54-be4f-f9aeffd8456c\" style=\"height: 525px; width: 100%;\" class=\"plotly-graph-div\"></div><script type=\"text/javascript\">require([\"plotly\"], function(Plotly) { window.PLOTLYENV=window.PLOTLYENV || {};window.PLOTLYENV.BASE_URL=\"https://plot.ly\";Plotly.newPlot(\"9252d5c1-dca1-4e54-be4f-f9aeffd8456c\", [{\"name\": 2010, \"type\": \"scatter\", \"y\": [0.15156258064516126, 0.14776, 0.3988, 0.99075, 0.30056956521739137, 0.23230265486725657, 0.3089592592592591, 0.32508360655737695, 0.2507377049180328, 0.0, 0.433385, 0.29212015503875965], \"mode\": \"lines\", \"x\": [\"January\", \"February\", \"March\", \"April\", \"May\", \"June\", \"July\", \"August\", \"September\", \"October\", \"November\", \"December\"]}, {\"name\": 2011, \"type\": \"scatter\", \"y\": [0.5497631578947368, 0.47133181818181824, 0.3123129032258063, 0.27378125000000003, 0.2584503311258278, 0.1836222797927461, 0.23865212947189066, 0.05585238095238095, 0.2196130434782608, 0.18062874999999995, 0.07422472527472528, 0.13723181818181818], \"mode\": \"lines\", \"x\": [\"January\", \"February\", \"March\", \"April\", \"May\", \"June\", \"July\", \"August\", \"September\", \"October\", \"November\", \"December\"]}, {\"name\": 2012, \"type\": \"scatter\", \"y\": [0.07691641791044775, 0.15781428571428574, 0.07871559633027521, 0.31740157480314934, 0.21801673640167352, 0.38558787878787887, 0.4604780487804878, 0.19558529411764705, 0.334310843373494, 0.211174025974026, 0.31226043956043953, 0.35220000000000007], \"mode\": \"lines\", \"x\": [\"January\", \"February\", \"March\", \"April\", \"May\", \"June\", \"July\", \"August\", \"September\", \"October\", \"November\", \"December\"]}, {\"name\": 2013, \"type\": \"scatter\", \"y\": [0.2262246376811594, 0.2645473684210527, 0.2713466666666667, 0.30138695652173914, 0.13604482758620692, 0.25838, 0.1468, 0.17562909090909093, 0.24275999999999998, 0.23193783783783783, -0.14049999999999999, 0.17414666666666667], \"mode\": \"lines\", \"x\": [\"January\", \"February\", \"March\", \"April\", \"May\", \"June\", \"July\", \"August\", \"September\", \"October\", \"November\", \"December\"]}, {\"name\": 2014, \"type\": \"scatter\", \"y\": [0.12476000000000001, 0.10255624999999997, 0.6122359999999998, 0.2974333333333333, 0.5555555555555555, 0.16638620689655176, 0.4996727272727273, 0.6052, -0.02532000000000001, 0.5751846153846153, 0.0], \"mode\": \"lines\", \"x\": [\"January\", \"February\", \"April\", \"May\", \"June\", \"July\", \"August\", \"September\", \"October\", \"November\", \"December\"]}, {\"name\": 2015, \"type\": \"scatter\", \"y\": [0.235475, 0.40385000000000004, 0.12785806451612902, 0.38730000000000003, 0.24137857142857144, 0.13020066666666666, 0.1863200000000001, 0.2651650485436893, 0.2999999999999999, 0.233375652173913, 0.16406976744186047, 0.20370537084398954], \"mode\": \"lines\", \"x\": [\"January\", \"February\", \"March\", \"April\", \"May\", \"June\", \"July\", \"August\", \"September\", \"October\", \"November\", \"December\"]}, {\"name\": 2016, \"type\": \"scatter\", \"y\": [0.12413557692307688, 0.17604814159292034, 0.13367099999999982, 0.2003168407310703, 0.20663005366726286, 0.2218174181593581, 0.1995361736334402, 0.1952612549800799, 0.19584012638230616, 0.17919984496124028, 0.2092694386694385, 0.2165922997946613], \"mode\": \"lines\", \"x\": [\"January\", \"February\", \"March\", \"April\", \"May\", \"June\", \"July\", \"August\", \"September\", \"October\", \"November\", \"December\"]}, {\"name\": 2017, \"type\": \"scatter\", \"y\": [0.10610308788598566, 0.19427315175097265, 0.20342560283687933, 0.26230336842105273, 0.26305495145631064], \"mode\": \"lines\", \"x\": [\"January\", \"February\", \"March\", \"April\", \"May\"]}], {\"yaxis\": {\"title\": \"Mean Compound Score\"}, \"xaxis\": {\"title\": \"Month\"}, \"title\": \"Monthly Sentiment Analysis by Year\"}, {\"linkText\": \"Export to plot.ly\", \"showLink\": true})});</script>"
      ],
      "text/vnd.plotly.v1+html": [
       "<div id=\"9252d5c1-dca1-4e54-be4f-f9aeffd8456c\" style=\"height: 525px; width: 100%;\" class=\"plotly-graph-div\"></div><script type=\"text/javascript\">require([\"plotly\"], function(Plotly) { window.PLOTLYENV=window.PLOTLYENV || {};window.PLOTLYENV.BASE_URL=\"https://plot.ly\";Plotly.newPlot(\"9252d5c1-dca1-4e54-be4f-f9aeffd8456c\", [{\"name\": 2010, \"type\": \"scatter\", \"y\": [0.15156258064516126, 0.14776, 0.3988, 0.99075, 0.30056956521739137, 0.23230265486725657, 0.3089592592592591, 0.32508360655737695, 0.2507377049180328, 0.0, 0.433385, 0.29212015503875965], \"mode\": \"lines\", \"x\": [\"January\", \"February\", \"March\", \"April\", \"May\", \"June\", \"July\", \"August\", \"September\", \"October\", \"November\", \"December\"]}, {\"name\": 2011, \"type\": \"scatter\", \"y\": [0.5497631578947368, 0.47133181818181824, 0.3123129032258063, 0.27378125000000003, 0.2584503311258278, 0.1836222797927461, 0.23865212947189066, 0.05585238095238095, 0.2196130434782608, 0.18062874999999995, 0.07422472527472528, 0.13723181818181818], \"mode\": \"lines\", \"x\": [\"January\", \"February\", \"March\", \"April\", \"May\", \"June\", \"July\", \"August\", \"September\", \"October\", \"November\", \"December\"]}, {\"name\": 2012, \"type\": \"scatter\", \"y\": [0.07691641791044775, 0.15781428571428574, 0.07871559633027521, 0.31740157480314934, 0.21801673640167352, 0.38558787878787887, 0.4604780487804878, 0.19558529411764705, 0.334310843373494, 0.211174025974026, 0.31226043956043953, 0.35220000000000007], \"mode\": \"lines\", \"x\": [\"January\", \"February\", \"March\", \"April\", \"May\", \"June\", \"July\", \"August\", \"September\", \"October\", \"November\", \"December\"]}, {\"name\": 2013, \"type\": \"scatter\", \"y\": [0.2262246376811594, 0.2645473684210527, 0.2713466666666667, 0.30138695652173914, 0.13604482758620692, 0.25838, 0.1468, 0.17562909090909093, 0.24275999999999998, 0.23193783783783783, -0.14049999999999999, 0.17414666666666667], \"mode\": \"lines\", \"x\": [\"January\", \"February\", \"March\", \"April\", \"May\", \"June\", \"July\", \"August\", \"September\", \"October\", \"November\", \"December\"]}, {\"name\": 2014, \"type\": \"scatter\", \"y\": [0.12476000000000001, 0.10255624999999997, 0.6122359999999998, 0.2974333333333333, 0.5555555555555555, 0.16638620689655176, 0.4996727272727273, 0.6052, -0.02532000000000001, 0.5751846153846153, 0.0], \"mode\": \"lines\", \"x\": [\"January\", \"February\", \"April\", \"May\", \"June\", \"July\", \"August\", \"September\", \"October\", \"November\", \"December\"]}, {\"name\": 2015, \"type\": \"scatter\", \"y\": [0.235475, 0.40385000000000004, 0.12785806451612902, 0.38730000000000003, 0.24137857142857144, 0.13020066666666666, 0.1863200000000001, 0.2651650485436893, 0.2999999999999999, 0.233375652173913, 0.16406976744186047, 0.20370537084398954], \"mode\": \"lines\", \"x\": [\"January\", \"February\", \"March\", \"April\", \"May\", \"June\", \"July\", \"August\", \"September\", \"October\", \"November\", \"December\"]}, {\"name\": 2016, \"type\": \"scatter\", \"y\": [0.12413557692307688, 0.17604814159292034, 0.13367099999999982, 0.2003168407310703, 0.20663005366726286, 0.2218174181593581, 0.1995361736334402, 0.1952612549800799, 0.19584012638230616, 0.17919984496124028, 0.2092694386694385, 0.2165922997946613], \"mode\": \"lines\", \"x\": [\"January\", \"February\", \"March\", \"April\", \"May\", \"June\", \"July\", \"August\", \"September\", \"October\", \"November\", \"December\"]}, {\"name\": 2017, \"type\": \"scatter\", \"y\": [0.10610308788598566, 0.19427315175097265, 0.20342560283687933, 0.26230336842105273, 0.26305495145631064], \"mode\": \"lines\", \"x\": [\"January\", \"February\", \"March\", \"April\", \"May\"]}], {\"yaxis\": {\"title\": \"Mean Compound Score\"}, \"xaxis\": {\"title\": \"Month\"}, \"title\": \"Monthly Sentiment Analysis by Year\"}, {\"linkText\": \"Export to plot.ly\", \"showLink\": true})});</script>"
      ]
     },
     "metadata": {},
     "output_type": "display_data"
    }
   ],
   "source": [
    "getMonthlyData_Years(messages)"
   ]
  },
  {
   "cell_type": "code",
   "execution_count": 9,
   "metadata": {
    "collapsed": false
   },
   "outputs": [
    {
     "data": {
      "application/vnd.plotly.v1+json": {
       "data": [
        {
         "mode": "lines",
         "name": 2010,
         "type": "scatter",
         "x": [
          "January",
          "February",
          "March",
          "April",
          "May",
          "June",
          "July",
          "August",
          "September",
          "October",
          "November",
          "December"
         ],
         "y": [
          0.32370000000000004,
          0.31351111111111113,
          0.6139333333333333,
          0.32744285714285715,
          0.64115,
          0.5041,
          0.3133071428571429,
          0.12591666666666668,
          0.22821428571428573,
          0.6938351351351351,
          0.6094272727272727,
          0.09578888888888888
         ]
        },
        {
         "mode": "lines",
         "name": 2011,
         "type": "scatter",
         "x": [
          "January",
          "February",
          "March",
          "May",
          "June",
          "July",
          "August",
          "September",
          "October",
          "November",
          "December"
         ],
         "y": [
          0.2187,
          0.0851,
          0.21545,
          0.59435,
          0.4292875,
          0.4258666666666666,
          0.2892,
          -0.3072571428571429,
          0.6358112903225809,
          0.6571800000000001,
          0.028327343749999997
         ]
        },
        {
         "mode": "lines",
         "name": 2012,
         "type": "scatter",
         "x": [
          "January",
          "February",
          "March",
          "April",
          "May",
          "June",
          "July",
          "August",
          "September",
          "October",
          "November",
          "December"
         ],
         "y": [
          0.10593333333333334,
          0.700475,
          0.6047166666666667,
          -0.1423,
          0.5155666666666666,
          0.4237375,
          0.36965625,
          0.24364666666666668,
          0.4897857142857142,
          0.659005882352941,
          -0.21921666666666664,
          0.26168571428571424
         ]
        },
        {
         "mode": "lines",
         "name": 2013,
         "type": "scatter",
         "x": [
          "January",
          "February",
          "March",
          "April",
          "May",
          "June",
          "August",
          "September",
          "October",
          "November",
          "December"
         ],
         "y": [
          0.35465714285714284,
          0.45499999999999996,
          0.18980000000000002,
          0.5185000000000001,
          0.6786999999999999,
          0.5584,
          0.41509999999999997,
          0.3053407407407408,
          0.5150297297297296,
          0.4903999999999999,
          0.4756666666666667
         ]
        },
        {
         "mode": "lines",
         "name": 2014,
         "type": "scatter",
         "x": [
          "January",
          "February",
          "March",
          "April",
          "May",
          "June",
          "July",
          "August",
          "September",
          "October",
          "November"
         ],
         "y": [
          0.3016083333333333,
          0.3124,
          -0.2503444444444445,
          0.62265,
          0.2945,
          0.10094864864864865,
          0.22488000000000005,
          0.26715,
          0.6227199999999999,
          0.7073512195121953,
          0.25660000000000005
         ]
        },
        {
         "mode": "lines",
         "name": 2015,
         "type": "scatter",
         "x": [
          "January",
          "February",
          "March",
          "April",
          "May",
          "June",
          "July",
          "August",
          "September",
          "October",
          "November",
          "December"
         ],
         "y": [
          0.21915384615384614,
          0.8478,
          0.241875,
          0.30016666666666664,
          0.8118,
          0.36137,
          0.5244,
          0.91955,
          0.41973999999999995,
          0.723275,
          0.3982,
          0.16015454545454544
         ]
        },
        {
         "mode": "lines",
         "name": 2016,
         "type": "scatter",
         "x": [
          "January",
          "March",
          "April",
          "May",
          "June",
          "August",
          "September",
          "October",
          "November",
          "December"
         ],
         "y": [
          0,
          0.9248,
          0.9459,
          0.776925,
          0.8244,
          0.1191,
          0.8283333333333333,
          0.6575551724137931,
          -0.2059,
          0.3062
         ]
        },
        {
         "mode": "lines",
         "name": 2017,
         "type": "scatter",
         "x": [
          "January",
          "February",
          "March",
          "April",
          "May"
         ],
         "y": [
          0,
          0.19179999999999997,
          0.55,
          0.5235666666666666,
          0.7824
         ]
        }
       ],
       "layout": {
        "title": "Monthly Sentiment Analysis by Year",
        "xaxis": {
         "title": "Month"
        },
        "yaxis": {
         "title": "Mean Compound Score"
        }
       }
      },
      "text/html": [
       "<div id=\"a5a5f9fb-42c5-4335-b1ff-de0e6015aea6\" style=\"height: 525px; width: 100%;\" class=\"plotly-graph-div\"></div><script type=\"text/javascript\">require([\"plotly\"], function(Plotly) { window.PLOTLYENV=window.PLOTLYENV || {};window.PLOTLYENV.BASE_URL=\"https://plot.ly\";Plotly.newPlot(\"a5a5f9fb-42c5-4335-b1ff-de0e6015aea6\", [{\"name\": 2010, \"type\": \"scatter\", \"y\": [0.32370000000000004, 0.31351111111111113, 0.6139333333333333, 0.32744285714285715, 0.64115, 0.5041, 0.3133071428571429, 0.12591666666666668, 0.22821428571428573, 0.6938351351351351, 0.6094272727272727, 0.09578888888888888], \"mode\": \"lines\", \"x\": [\"January\", \"February\", \"March\", \"April\", \"May\", \"June\", \"July\", \"August\", \"September\", \"October\", \"November\", \"December\"]}, {\"name\": 2011, \"type\": \"scatter\", \"y\": [0.2187, 0.0851, 0.21545, 0.59435, 0.4292875, 0.4258666666666666, 0.2892, -0.3072571428571429, 0.6358112903225809, 0.6571800000000001, 0.028327343749999997], \"mode\": \"lines\", \"x\": [\"January\", \"February\", \"March\", \"May\", \"June\", \"July\", \"August\", \"September\", \"October\", \"November\", \"December\"]}, {\"name\": 2012, \"type\": \"scatter\", \"y\": [0.10593333333333334, 0.700475, 0.6047166666666667, -0.1423, 0.5155666666666666, 0.4237375, 0.36965625, 0.24364666666666668, 0.4897857142857142, 0.659005882352941, -0.21921666666666664, 0.26168571428571424], \"mode\": \"lines\", \"x\": [\"January\", \"February\", \"March\", \"April\", \"May\", \"June\", \"July\", \"August\", \"September\", \"October\", \"November\", \"December\"]}, {\"name\": 2013, \"type\": \"scatter\", \"y\": [0.35465714285714284, 0.45499999999999996, 0.18980000000000002, 0.5185000000000001, 0.6786999999999999, 0.5584, 0.41509999999999997, 0.3053407407407408, 0.5150297297297296, 0.4903999999999999, 0.4756666666666667], \"mode\": \"lines\", \"x\": [\"January\", \"February\", \"March\", \"April\", \"May\", \"June\", \"August\", \"September\", \"October\", \"November\", \"December\"]}, {\"name\": 2014, \"type\": \"scatter\", \"y\": [0.3016083333333333, 0.3124, -0.2503444444444445, 0.62265, 0.2945, 0.10094864864864865, 0.22488000000000005, 0.26715, 0.6227199999999999, 0.7073512195121953, 0.25660000000000005], \"mode\": \"lines\", \"x\": [\"January\", \"February\", \"March\", \"April\", \"May\", \"June\", \"July\", \"August\", \"September\", \"October\", \"November\"]}, {\"name\": 2015, \"type\": \"scatter\", \"y\": [0.21915384615384614, 0.8478, 0.241875, 0.30016666666666664, 0.8118, 0.36137, 0.5244, 0.91955, 0.41973999999999995, 0.723275, 0.3982, 0.16015454545454544], \"mode\": \"lines\", \"x\": [\"January\", \"February\", \"March\", \"April\", \"May\", \"June\", \"July\", \"August\", \"September\", \"October\", \"November\", \"December\"]}, {\"name\": 2016, \"type\": \"scatter\", \"y\": [0.0, 0.9248, 0.9459, 0.776925, 0.8244, 0.1191, 0.8283333333333333, 0.6575551724137931, -0.2059, 0.3062], \"mode\": \"lines\", \"x\": [\"January\", \"March\", \"April\", \"May\", \"June\", \"August\", \"September\", \"October\", \"November\", \"December\"]}, {\"name\": 2017, \"type\": \"scatter\", \"y\": [0.0, 0.19179999999999997, 0.55, 0.5235666666666666, 0.7824], \"mode\": \"lines\", \"x\": [\"January\", \"February\", \"March\", \"April\", \"May\"]}], {\"yaxis\": {\"title\": \"Mean Compound Score\"}, \"xaxis\": {\"title\": \"Month\"}, \"title\": \"Monthly Sentiment Analysis by Year\"}, {\"linkText\": \"Export to plot.ly\", \"showLink\": true})});</script>"
      ],
      "text/vnd.plotly.v1+html": [
       "<div id=\"a5a5f9fb-42c5-4335-b1ff-de0e6015aea6\" style=\"height: 525px; width: 100%;\" class=\"plotly-graph-div\"></div><script type=\"text/javascript\">require([\"plotly\"], function(Plotly) { window.PLOTLYENV=window.PLOTLYENV || {};window.PLOTLYENV.BASE_URL=\"https://plot.ly\";Plotly.newPlot(\"a5a5f9fb-42c5-4335-b1ff-de0e6015aea6\", [{\"name\": 2010, \"type\": \"scatter\", \"y\": [0.32370000000000004, 0.31351111111111113, 0.6139333333333333, 0.32744285714285715, 0.64115, 0.5041, 0.3133071428571429, 0.12591666666666668, 0.22821428571428573, 0.6938351351351351, 0.6094272727272727, 0.09578888888888888], \"mode\": \"lines\", \"x\": [\"January\", \"February\", \"March\", \"April\", \"May\", \"June\", \"July\", \"August\", \"September\", \"October\", \"November\", \"December\"]}, {\"name\": 2011, \"type\": \"scatter\", \"y\": [0.2187, 0.0851, 0.21545, 0.59435, 0.4292875, 0.4258666666666666, 0.2892, -0.3072571428571429, 0.6358112903225809, 0.6571800000000001, 0.028327343749999997], \"mode\": \"lines\", \"x\": [\"January\", \"February\", \"March\", \"May\", \"June\", \"July\", \"August\", \"September\", \"October\", \"November\", \"December\"]}, {\"name\": 2012, \"type\": \"scatter\", \"y\": [0.10593333333333334, 0.700475, 0.6047166666666667, -0.1423, 0.5155666666666666, 0.4237375, 0.36965625, 0.24364666666666668, 0.4897857142857142, 0.659005882352941, -0.21921666666666664, 0.26168571428571424], \"mode\": \"lines\", \"x\": [\"January\", \"February\", \"March\", \"April\", \"May\", \"June\", \"July\", \"August\", \"September\", \"October\", \"November\", \"December\"]}, {\"name\": 2013, \"type\": \"scatter\", \"y\": [0.35465714285714284, 0.45499999999999996, 0.18980000000000002, 0.5185000000000001, 0.6786999999999999, 0.5584, 0.41509999999999997, 0.3053407407407408, 0.5150297297297296, 0.4903999999999999, 0.4756666666666667], \"mode\": \"lines\", \"x\": [\"January\", \"February\", \"March\", \"April\", \"May\", \"June\", \"August\", \"September\", \"October\", \"November\", \"December\"]}, {\"name\": 2014, \"type\": \"scatter\", \"y\": [0.3016083333333333, 0.3124, -0.2503444444444445, 0.62265, 0.2945, 0.10094864864864865, 0.22488000000000005, 0.26715, 0.6227199999999999, 0.7073512195121953, 0.25660000000000005], \"mode\": \"lines\", \"x\": [\"January\", \"February\", \"March\", \"April\", \"May\", \"June\", \"July\", \"August\", \"September\", \"October\", \"November\"]}, {\"name\": 2015, \"type\": \"scatter\", \"y\": [0.21915384615384614, 0.8478, 0.241875, 0.30016666666666664, 0.8118, 0.36137, 0.5244, 0.91955, 0.41973999999999995, 0.723275, 0.3982, 0.16015454545454544], \"mode\": \"lines\", \"x\": [\"January\", \"February\", \"March\", \"April\", \"May\", \"June\", \"July\", \"August\", \"September\", \"October\", \"November\", \"December\"]}, {\"name\": 2016, \"type\": \"scatter\", \"y\": [0.0, 0.9248, 0.9459, 0.776925, 0.8244, 0.1191, 0.8283333333333333, 0.6575551724137931, -0.2059, 0.3062], \"mode\": \"lines\", \"x\": [\"January\", \"March\", \"April\", \"May\", \"June\", \"August\", \"September\", \"October\", \"November\", \"December\"]}, {\"name\": 2017, \"type\": \"scatter\", \"y\": [0.0, 0.19179999999999997, 0.55, 0.5235666666666666, 0.7824], \"mode\": \"lines\", \"x\": [\"January\", \"February\", \"March\", \"April\", \"May\"]}], {\"yaxis\": {\"title\": \"Mean Compound Score\"}, \"xaxis\": {\"title\": \"Month\"}, \"title\": \"Monthly Sentiment Analysis by Year\"}, {\"linkText\": \"Export to plot.ly\", \"showLink\": true})});</script>"
      ]
     },
     "metadata": {},
     "output_type": "display_data"
    }
   ],
   "source": [
    "getMonthlyData_Years(timeline)"
   ]
  },
  {
   "cell_type": "code",
   "execution_count": 28,
   "metadata": {
    "collapsed": false,
    "scrolled": false
   },
   "outputs": [
    {
     "data": {
      "application/vnd.plotly.v1+json": {
       "data": [
        {
         "error_y": {
          "array": [
           0.040777006042799845,
           0.02822529800298468,
           0.01801337434187778,
           0.020628434212442204,
           0.041924440485477485,
           0.056742729188457325,
           0.014609334044961154,
           0.00766572447496329,
           0.012075513021536395
          ],
          "type": "data",
          "visible": true
         },
         "marker": {
          "color": "#add8e6"
         },
         "name": "Messages",
         "type": "bar",
         "x": [
          2009,
          2010,
          2011,
          2012,
          2013,
          2014,
          2015,
          2016,
          2017
         ],
         "y": [
          0.14611799999999994,
          0.25846571719226874,
          0.19832337514253104,
          0.21071694677871164,
          0.21827821522309684,
          0.4362290598290598,
          0.18852873747494983,
          0.1936009581497795,
          0.20401575239053876
         ]
        },
        {
         "error_y": {
          "array": [
           0.07352135695169641,
           0.0854844140521864,
           0.05109065353304726,
           0.07256748730669146,
           0.06658842367534452,
           0.05999739649813546,
           0.07071523210188257,
           0.10887686215464681,
           0.21843883391037774
          ],
          "type": "data",
          "visible": true
         },
         "marker": {
          "color": "#FFA500"
         },
         "name": "Timeline",
         "type": "bar",
         "x": [
          2009,
          2010,
          2011,
          2012,
          2013,
          2014,
          2015,
          2016,
          2017
         ],
         "y": [
          0.13471867469879523,
          0.4632535433070864,
          0.24232352941176483,
          0.4446893939393936,
          0.45766506849315036,
          0.33444972375690585,
          0.48943983050847467,
          0.5870170212765957,
          0.4780928571428572
         ]
        }
       ],
       "layout": {
        "barmode": "group"
       }
      },
      "text/html": [
       "<div id=\"db9a10bb-a1e1-4187-afb6-40b3be7f2038\" style=\"height: 525px; width: 100%;\" class=\"plotly-graph-div\"></div><script type=\"text/javascript\">require([\"plotly\"], function(Plotly) { window.PLOTLYENV=window.PLOTLYENV || {};window.PLOTLYENV.BASE_URL=\"https://plot.ly\";Plotly.newPlot(\"db9a10bb-a1e1-4187-afb6-40b3be7f2038\", [{\"name\": \"Messages\", \"error_y\": {\"visible\": true, \"type\": \"data\", \"array\": [0.040777006042799845, 0.02822529800298468, 0.01801337434187778, 0.020628434212442204, 0.041924440485477485, 0.056742729188457325, 0.014609334044961154, 0.00766572447496329, 0.012075513021536395]}, \"marker\": {\"color\": \"#add8e6\"}, \"type\": \"bar\", \"y\": [0.14611799999999994, 0.25846571719226874, 0.19832337514253104, 0.21071694677871164, 0.21827821522309684, 0.4362290598290598, 0.18852873747494983, 0.1936009581497795, 0.20401575239053876], \"x\": [2009, 2010, 2011, 2012, 2013, 2014, 2015, 2016, 2017]}, {\"name\": \"Timeline\", \"error_y\": {\"visible\": true, \"type\": \"data\", \"array\": [0.07352135695169641, 0.0854844140521864, 0.05109065353304726, 0.07256748730669146, 0.06658842367534452, 0.05999739649813546, 0.07071523210188257, 0.10887686215464681, 0.21843883391037774]}, \"marker\": {\"color\": \"#FFA500\"}, \"type\": \"bar\", \"y\": [0.13471867469879523, 0.4632535433070864, 0.24232352941176483, 0.4446893939393936, 0.45766506849315036, 0.33444972375690585, 0.48943983050847467, 0.5870170212765957, 0.4780928571428572], \"x\": [2009, 2010, 2011, 2012, 2013, 2014, 2015, 2016, 2017]}], {\"barmode\": \"group\"}, {\"linkText\": \"Export to plot.ly\", \"showLink\": true})});</script>"
      ],
      "text/vnd.plotly.v1+html": [
       "<div id=\"db9a10bb-a1e1-4187-afb6-40b3be7f2038\" style=\"height: 525px; width: 100%;\" class=\"plotly-graph-div\"></div><script type=\"text/javascript\">require([\"plotly\"], function(Plotly) { window.PLOTLYENV=window.PLOTLYENV || {};window.PLOTLYENV.BASE_URL=\"https://plot.ly\";Plotly.newPlot(\"db9a10bb-a1e1-4187-afb6-40b3be7f2038\", [{\"name\": \"Messages\", \"error_y\": {\"visible\": true, \"type\": \"data\", \"array\": [0.040777006042799845, 0.02822529800298468, 0.01801337434187778, 0.020628434212442204, 0.041924440485477485, 0.056742729188457325, 0.014609334044961154, 0.00766572447496329, 0.012075513021536395]}, \"marker\": {\"color\": \"#add8e6\"}, \"type\": \"bar\", \"y\": [0.14611799999999994, 0.25846571719226874, 0.19832337514253104, 0.21071694677871164, 0.21827821522309684, 0.4362290598290598, 0.18852873747494983, 0.1936009581497795, 0.20401575239053876], \"x\": [2009, 2010, 2011, 2012, 2013, 2014, 2015, 2016, 2017]}, {\"name\": \"Timeline\", \"error_y\": {\"visible\": true, \"type\": \"data\", \"array\": [0.07352135695169641, 0.0854844140521864, 0.05109065353304726, 0.07256748730669146, 0.06658842367534452, 0.05999739649813546, 0.07071523210188257, 0.10887686215464681, 0.21843883391037774]}, \"marker\": {\"color\": \"#FFA500\"}, \"type\": \"bar\", \"y\": [0.13471867469879523, 0.4632535433070864, 0.24232352941176483, 0.4446893939393936, 0.45766506849315036, 0.33444972375690585, 0.48943983050847467, 0.5870170212765957, 0.4780928571428572], \"x\": [2009, 2010, 2011, 2012, 2013, 2014, 2015, 2016, 2017]}], {\"barmode\": \"group\"}, {\"linkText\": \"Export to plot.ly\", \"showLink\": true})});</script>"
      ]
     },
     "metadata": {},
     "output_type": "display_data"
    }
   ],
   "source": [
    "getGroupChart(messages, timeline)"
   ]
  },
  {
   "cell_type": "code",
   "execution_count": 31,
   "metadata": {
    "collapsed": false
   },
   "outputs": [
    {
     "data": {
      "application/vnd.plotly.v1+json": {
       "data": [
        {
         "line": {
          "color": "#3b5998",
          "width": 3
         },
         "name": "Messages-Year",
         "type": "scatter",
         "visible": true,
         "x": [
          2010,
          2011,
          2012,
          2013,
          2014,
          2015,
          2016,
          2017
         ],
         "y": [
          0.14611799999999994,
          0.25846571719226874,
          0.19832337514253104,
          0.21071694677871164,
          0.21827821522309684,
          0.4362290598290598,
          0.18852873747494983,
          0.1936009581497795,
          0.20401575239053876
         ]
        },
        {
         "line": {
          "color": "#FFA500",
          "width": 3
         },
         "name": "Timeline-Year",
         "type": "scatter",
         "visible": true,
         "x": [
          2010,
          2011,
          2012,
          2013,
          2014,
          2015,
          2016,
          2017
         ],
         "y": [
          0.13471867469879523,
          0.4632535433070864,
          0.24232352941176483,
          0.4446893939393936,
          0.45766506849315036,
          0.33444972375690585,
          0.48943983050847467,
          0.5870170212765957,
          0.4780928571428572
         ]
        },
        {
         "line": {
          "color": "#3b5998",
          "width": 3
         },
         "name": "Messages-Month",
         "type": "scatter",
         "visible": false,
         "x": [
          1,
          2,
          3,
          4,
          5,
          6,
          7,
          8,
          9,
          10,
          11,
          12
         ],
         "y": [
          0.26462677053824374,
          0.19961663157894724,
          0.2189482911392403,
          0.18897996254681648,
          0.12333594559585487,
          0.2324436950146626,
          0.21179807127882638,
          0.17260726119139963,
          0.23439541169076059,
          0.16707897911832909,
          0.19255072815533997,
          0.22148626728110613
         ]
        },
        {
         "line": {
          "color": "#FFA500",
          "width": 3
         },
         "name": "Timeline-Month",
         "type": "scatter",
         "visible": false,
         "x": [
          1,
          2,
          3,
          4,
          5,
          6,
          7,
          8,
          9,
          10,
          11,
          12
         ],
         "y": [
          0.4215900000000001,
          0.1703277108433735,
          0.0776230769230769,
          0.3493181818181818,
          0.25367058823529415,
          0.20595392156862743,
          0.2636630136986302,
          0.2846216216216216,
          0.522054347826087,
          0.2725590163934426,
          0.6038215633423191,
          0.32652450980392145
         ]
        },
        {
         "line": {
          "color": "#3b5998",
          "width": 3
         },
         "name": "Messages-Day",
         "type": "scatter",
         "visible": false,
         "x": [
          1,
          2,
          3,
          4,
          5,
          6,
          7,
          8,
          9,
          10,
          11,
          12,
          13,
          14,
          15,
          16,
          17,
          18,
          19,
          20,
          21,
          22,
          23,
          24,
          25,
          26,
          27,
          28,
          29,
          30,
          31
         ],
         "y": [
          0.17235637663885559,
          0.28840267857142865,
          0.1719943181818178,
          0.2142562962962961,
          0.1949820662768028,
          0.19849416498993938,
          0.26927981651376165,
          0.20037766233766222,
          0.17690630323679718,
          0.22414265734265723,
          0.22891930501930505,
          0.18645424292845258,
          0.22390678336980294,
          0.1776762745098037,
          0.23012939999999957,
          0.21437878192534363,
          0.1769693055555553,
          0.21550627218934912,
          0.22162187159956476,
          0.19308365591397858,
          0.17084268537074165,
          0.1410374673629242,
          0.22106241007194224,
          0.1759185567010308,
          0.14109879310344814,
          0.2046895113230034,
          0.2261106104651159,
          0.17467057101024866,
          0.25417788778877876,
          0.21210282485875676,
          0.1767814732142857
         ]
        },
        {
         "line": {
          "color": "#FFA500",
          "width": 3
         },
         "name": "Timeline-Day",
         "type": "scatter",
         "visible": false,
         "x": [
          1,
          2,
          3,
          4,
          5,
          6,
          7,
          8,
          9,
          10,
          11,
          12,
          13,
          14,
          15,
          16,
          17,
          18,
          19,
          20,
          21,
          22,
          23,
          24,
          25,
          26,
          27,
          28,
          29,
          30,
          31
         ],
         "y": [
          0.24568500000000001,
          0.18037843137254908,
          0.4041933333333334,
          0.25031315789473685,
          0.24097333333333334,
          0.36729130434782614,
          0.32376428571428567,
          0.19699811320754715,
          0.38514000000000004,
          0.2901357142857143,
          0.5628294117647058,
          0.4033857142857143,
          0.4833202531645577,
          0.4942439999999999,
          0.30151818181818185,
          0.41322121212121216,
          0.4077066666666667,
          0.37948421052631565,
          0.28924666666666676,
          0.3294027027027028,
          0.3482333333333334,
          0.14024347826086958,
          -0.013191666666666697,
          0.30886315789473684,
          0.3152125,
          0.13757000000000003,
          0.3366470588235294,
          0.5662,
          0.265925,
          0.28264210526315786,
          0.31924285714285716
         ]
        }
       ],
       "layout": {
        "title": "Messages Sentiment Analysis",
        "updatemenus": [
         {
          "buttons": [
           {
            "args": [
             "visible",
             [
              true,
              true,
              false,
              false,
              false,
              false
             ]
            ],
            "label": "Year",
            "method": "restyle"
           },
           {
            "args": [
             "visible",
             [
              false,
              false,
              true,
              true,
              false,
              false
             ]
            ],
            "label": "Month",
            "method": "restyle"
           },
           {
            "args": [
             "visible",
             [
              false,
              false,
              false,
              false,
              true,
              true
             ]
            ],
            "label": "Day",
            "method": "restyle"
           }
          ],
          "x": -0.05,
          "y": 1,
          "yanchor": "top"
         }
        ]
       }
      },
      "text/html": [
       "<div id=\"2863279a-804c-49db-bb88-1c8c66b3761d\" style=\"height: 525px; width: 100%;\" class=\"plotly-graph-div\"></div><script type=\"text/javascript\">require([\"plotly\"], function(Plotly) { window.PLOTLYENV=window.PLOTLYENV || {};window.PLOTLYENV.BASE_URL=\"https://plot.ly\";Plotly.newPlot(\"2863279a-804c-49db-bb88-1c8c66b3761d\", [{\"name\": \"Messages-Year\", \"line\": {\"width\": 3, \"color\": \"#3b5998\"}, \"visible\": true, \"type\": \"scatter\", \"y\": [0.14611799999999994, 0.25846571719226874, 0.19832337514253104, 0.21071694677871164, 0.21827821522309684, 0.4362290598290598, 0.18852873747494983, 0.1936009581497795, 0.20401575239053876], \"x\": [2010, 2011, 2012, 2013, 2014, 2015, 2016, 2017]}, {\"name\": \"Timeline-Year\", \"line\": {\"width\": 3, \"color\": \"#FFA500\"}, \"visible\": true, \"type\": \"scatter\", \"y\": [0.13471867469879523, 0.4632535433070864, 0.24232352941176483, 0.4446893939393936, 0.45766506849315036, 0.33444972375690585, 0.48943983050847467, 0.5870170212765957, 0.4780928571428572], \"x\": [2010, 2011, 2012, 2013, 2014, 2015, 2016, 2017]}, {\"name\": \"Messages-Month\", \"line\": {\"width\": 3, \"color\": \"#3b5998\"}, \"visible\": false, \"type\": \"scatter\", \"y\": [0.26462677053824374, 0.19961663157894724, 0.2189482911392403, 0.18897996254681648, 0.12333594559585487, 0.2324436950146626, 0.21179807127882638, 0.17260726119139963, 0.23439541169076059, 0.16707897911832909, 0.19255072815533997, 0.22148626728110613], \"x\": [1, 2, 3, 4, 5, 6, 7, 8, 9, 10, 11, 12]}, {\"name\": \"Timeline-Month\", \"line\": {\"width\": 3, \"color\": \"#FFA500\"}, \"visible\": false, \"type\": \"scatter\", \"y\": [0.4215900000000001, 0.1703277108433735, 0.0776230769230769, 0.3493181818181818, 0.25367058823529415, 0.20595392156862743, 0.2636630136986302, 0.2846216216216216, 0.522054347826087, 0.2725590163934426, 0.6038215633423191, 0.32652450980392145], \"x\": [1, 2, 3, 4, 5, 6, 7, 8, 9, 10, 11, 12]}, {\"name\": \"Messages-Day\", \"line\": {\"width\": 3, \"color\": \"#3b5998\"}, \"visible\": false, \"type\": \"scatter\", \"y\": [0.17235637663885559, 0.28840267857142865, 0.1719943181818178, 0.2142562962962961, 0.1949820662768028, 0.19849416498993938, 0.26927981651376165, 0.20037766233766222, 0.17690630323679718, 0.22414265734265723, 0.22891930501930505, 0.18645424292845258, 0.22390678336980294, 0.1776762745098037, 0.23012939999999957, 0.21437878192534363, 0.1769693055555553, 0.21550627218934912, 0.22162187159956476, 0.19308365591397858, 0.17084268537074165, 0.1410374673629242, 0.22106241007194224, 0.1759185567010308, 0.14109879310344814, 0.2046895113230034, 0.2261106104651159, 0.17467057101024866, 0.25417788778877876, 0.21210282485875676, 0.1767814732142857], \"x\": [1, 2, 3, 4, 5, 6, 7, 8, 9, 10, 11, 12, 13, 14, 15, 16, 17, 18, 19, 20, 21, 22, 23, 24, 25, 26, 27, 28, 29, 30, 31]}, {\"name\": \"Timeline-Day\", \"line\": {\"width\": 3, \"color\": \"#FFA500\"}, \"visible\": false, \"type\": \"scatter\", \"y\": [0.24568500000000001, 0.18037843137254908, 0.4041933333333334, 0.25031315789473685, 0.24097333333333334, 0.36729130434782614, 0.32376428571428567, 0.19699811320754715, 0.38514000000000004, 0.2901357142857143, 0.5628294117647058, 0.4033857142857143, 0.4833202531645577, 0.4942439999999999, 0.30151818181818185, 0.41322121212121216, 0.4077066666666667, 0.37948421052631565, 0.28924666666666676, 0.3294027027027028, 0.3482333333333334, 0.14024347826086958, -0.013191666666666697, 0.30886315789473684, 0.3152125, 0.13757000000000003, 0.3366470588235294, 0.5662, 0.265925, 0.28264210526315786, 0.31924285714285716], \"x\": [1, 2, 3, 4, 5, 6, 7, 8, 9, 10, 11, 12, 13, 14, 15, 16, 17, 18, 19, 20, 21, 22, 23, 24, 25, 26, 27, 28, 29, 30, 31]}], {\"title\": \"Messages Sentiment Analysis\", \"updatemenus\": [{\"x\": -0.05, \"buttons\": [{\"args\": [\"visible\", [true, true, false, false, false, false]], \"method\": \"restyle\", \"label\": \"Year\"}, {\"args\": [\"visible\", [false, false, true, true, false, false]], \"method\": \"restyle\", \"label\": \"Month\"}, {\"args\": [\"visible\", [false, false, false, false, true, true]], \"method\": \"restyle\", \"label\": \"Day\"}], \"y\": 1, \"yanchor\": \"top\"}]}, {\"linkText\": \"Export to plot.ly\", \"showLink\": true})});</script>"
      ],
      "text/vnd.plotly.v1+html": [
       "<div id=\"2863279a-804c-49db-bb88-1c8c66b3761d\" style=\"height: 525px; width: 100%;\" class=\"plotly-graph-div\"></div><script type=\"text/javascript\">require([\"plotly\"], function(Plotly) { window.PLOTLYENV=window.PLOTLYENV || {};window.PLOTLYENV.BASE_URL=\"https://plot.ly\";Plotly.newPlot(\"2863279a-804c-49db-bb88-1c8c66b3761d\", [{\"name\": \"Messages-Year\", \"line\": {\"width\": 3, \"color\": \"#3b5998\"}, \"visible\": true, \"type\": \"scatter\", \"y\": [0.14611799999999994, 0.25846571719226874, 0.19832337514253104, 0.21071694677871164, 0.21827821522309684, 0.4362290598290598, 0.18852873747494983, 0.1936009581497795, 0.20401575239053876], \"x\": [2010, 2011, 2012, 2013, 2014, 2015, 2016, 2017]}, {\"name\": \"Timeline-Year\", \"line\": {\"width\": 3, \"color\": \"#FFA500\"}, \"visible\": true, \"type\": \"scatter\", \"y\": [0.13471867469879523, 0.4632535433070864, 0.24232352941176483, 0.4446893939393936, 0.45766506849315036, 0.33444972375690585, 0.48943983050847467, 0.5870170212765957, 0.4780928571428572], \"x\": [2010, 2011, 2012, 2013, 2014, 2015, 2016, 2017]}, {\"name\": \"Messages-Month\", \"line\": {\"width\": 3, \"color\": \"#3b5998\"}, \"visible\": false, \"type\": \"scatter\", \"y\": [0.26462677053824374, 0.19961663157894724, 0.2189482911392403, 0.18897996254681648, 0.12333594559585487, 0.2324436950146626, 0.21179807127882638, 0.17260726119139963, 0.23439541169076059, 0.16707897911832909, 0.19255072815533997, 0.22148626728110613], \"x\": [1, 2, 3, 4, 5, 6, 7, 8, 9, 10, 11, 12]}, {\"name\": \"Timeline-Month\", \"line\": {\"width\": 3, \"color\": \"#FFA500\"}, \"visible\": false, \"type\": \"scatter\", \"y\": [0.4215900000000001, 0.1703277108433735, 0.0776230769230769, 0.3493181818181818, 0.25367058823529415, 0.20595392156862743, 0.2636630136986302, 0.2846216216216216, 0.522054347826087, 0.2725590163934426, 0.6038215633423191, 0.32652450980392145], \"x\": [1, 2, 3, 4, 5, 6, 7, 8, 9, 10, 11, 12]}, {\"name\": \"Messages-Day\", \"line\": {\"width\": 3, \"color\": \"#3b5998\"}, \"visible\": false, \"type\": \"scatter\", \"y\": [0.17235637663885559, 0.28840267857142865, 0.1719943181818178, 0.2142562962962961, 0.1949820662768028, 0.19849416498993938, 0.26927981651376165, 0.20037766233766222, 0.17690630323679718, 0.22414265734265723, 0.22891930501930505, 0.18645424292845258, 0.22390678336980294, 0.1776762745098037, 0.23012939999999957, 0.21437878192534363, 0.1769693055555553, 0.21550627218934912, 0.22162187159956476, 0.19308365591397858, 0.17084268537074165, 0.1410374673629242, 0.22106241007194224, 0.1759185567010308, 0.14109879310344814, 0.2046895113230034, 0.2261106104651159, 0.17467057101024866, 0.25417788778877876, 0.21210282485875676, 0.1767814732142857], \"x\": [1, 2, 3, 4, 5, 6, 7, 8, 9, 10, 11, 12, 13, 14, 15, 16, 17, 18, 19, 20, 21, 22, 23, 24, 25, 26, 27, 28, 29, 30, 31]}, {\"name\": \"Timeline-Day\", \"line\": {\"width\": 3, \"color\": \"#FFA500\"}, \"visible\": false, \"type\": \"scatter\", \"y\": [0.24568500000000001, 0.18037843137254908, 0.4041933333333334, 0.25031315789473685, 0.24097333333333334, 0.36729130434782614, 0.32376428571428567, 0.19699811320754715, 0.38514000000000004, 0.2901357142857143, 0.5628294117647058, 0.4033857142857143, 0.4833202531645577, 0.4942439999999999, 0.30151818181818185, 0.41322121212121216, 0.4077066666666667, 0.37948421052631565, 0.28924666666666676, 0.3294027027027028, 0.3482333333333334, 0.14024347826086958, -0.013191666666666697, 0.30886315789473684, 0.3152125, 0.13757000000000003, 0.3366470588235294, 0.5662, 0.265925, 0.28264210526315786, 0.31924285714285716], \"x\": [1, 2, 3, 4, 5, 6, 7, 8, 9, 10, 11, 12, 13, 14, 15, 16, 17, 18, 19, 20, 21, 22, 23, 24, 25, 26, 27, 28, 29, 30, 31]}], {\"title\": \"Messages Sentiment Analysis\", \"updatemenus\": [{\"x\": -0.05, \"buttons\": [{\"args\": [\"visible\", [true, true, false, false, false, false]], \"method\": \"restyle\", \"label\": \"Year\"}, {\"args\": [\"visible\", [false, false, true, true, false, false]], \"method\": \"restyle\", \"label\": \"Month\"}, {\"args\": [\"visible\", [false, false, false, false, true, true]], \"method\": \"restyle\", \"label\": \"Day\"}], \"y\": 1, \"yanchor\": \"top\"}]}, {\"linkText\": \"Export to plot.ly\", \"showLink\": true})});</script>"
      ]
     },
     "metadata": {},
     "output_type": "display_data"
    }
   ],
   "source": [
    "getDropDownChart(messages, timeline)"
   ]
  },
  {
   "cell_type": "markdown",
   "metadata": {},
   "source": [
    "# Machine Learning"
   ]
  },
  {
   "cell_type": "markdown",
   "metadata": {},
   "source": [
    "#### Messages: Linear Regression (Polynomial)\n",
    "<img src=\"messages_linear.png\" alt=\"Drawing\" style=\"width: 600px;\"/>"
   ]
  },
  {
   "cell_type": "markdown",
   "metadata": {},
   "source": [
    "#### Messages: K-Nearest Neighbors\n",
    "<img src=\"messages_k_nearest.png\" alt=\"Drawing\" style=\"width: 600px;\"/>"
   ]
  },
  {
   "cell_type": "markdown",
   "metadata": {},
   "source": [
    "#### Timeline: Linear Regression (Polynomial)\n",
    "<img src=\"timeline_polynomial.png\" alt=\"Drawing\" style=\"width: 600px;\"/>"
   ]
  },
  {
   "cell_type": "markdown",
   "metadata": {},
   "source": [
    "#### Timeline: K-Nearest Neighbors\n",
    "<img src=\"timeline_k_nearest.png\" alt=\"Drawing\" style=\"width: 600px;\"/>"
   ]
  },
  {
   "cell_type": "code",
   "execution_count": 32,
   "metadata": {
    "collapsed": false
   },
   "outputs": [],
   "source": [
    "from machine_functions import *"
   ]
  },
  {
   "cell_type": "code",
   "execution_count": 34,
   "metadata": {
    "collapsed": false
   },
   "outputs": [
    {
     "data": {
      "text/plain": [
       "(array([ 0.34518328]), array([ 0.25116348]))"
      ]
     },
     "execution_count": 34,
     "metadata": {},
     "output_type": "execute_result"
    }
   ],
   "source": [
    "getTimelinePrediction(2015, \"December\", 30, 18, 30, timeline), getMessagePrediction(2015, \"December\", 30, 18, 30, messages)"
   ]
  },
  {
   "cell_type": "code",
   "execution_count": 37,
   "metadata": {
    "collapsed": false
   },
   "outputs": [
    {
     "data": {
      "text/plain": [
       "(array([ 0.27229516]), array([ 0.19269766]))"
      ]
     },
     "execution_count": 37,
     "metadata": {},
     "output_type": "execute_result"
    }
   ],
   "source": [
    "getTimelinePrediction(2017, \"August\", 12, 18, 0, timeline), getMessagePrediction(2017, \"August\", 12, 18, 0, messages)"
   ]
  },
  {
   "cell_type": "markdown",
   "metadata": {},
   "source": [
    "# Conclusion / Lessons Learned"
   ]
  },
  {
   "cell_type": "markdown",
   "metadata": {},
   "source": [
    "<img src=\"zuckerberg.jpg\" alt=\"Drawing\" style=\"width: 400px;\"/>"
   ]
  },
  {
   "cell_type": "code",
   "execution_count": null,
   "metadata": {
    "collapsed": true
   },
   "outputs": [],
   "source": []
  }
 ],
 "metadata": {
  "kernelspec": {
   "display_name": "Python 3",
   "language": "python",
   "name": "python3"
  },
  "language_info": {
   "codemirror_mode": {
    "name": "ipython",
    "version": 3
   },
   "file_extension": ".py",
   "mimetype": "text/x-python",
   "name": "python",
   "nbconvert_exporter": "python",
   "pygments_lexer": "ipython3",
   "version": "3.5.2"
  }
 },
 "nbformat": 4,
 "nbformat_minor": 2
}
