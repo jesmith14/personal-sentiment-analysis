{
 "cells": [
  {
   "cell_type": "markdown",
   "metadata": {},
   "source": [
    "# Data Collection and Cleaning\n",
    "\n"
   ]
  },
  {
   "cell_type": "markdown",
   "metadata": {},
   "source": [
    "### First Step:\n",
    "Get the html files that Facebook gave me and scrape them. Ideally, I want to be able to access every post from my timeline and every message from my messages file, then I can categorize them by the time that they were created."
   ]
  },
  {
   "cell_type": "code",
   "execution_count": 1,
   "metadata": {
    "collapsed": true
   },
   "outputs": [],
   "source": [
    "import requests\n",
    "from bs4 import BeautifulSoup\n",
    "import pandas as pd\n",
    "import numpy as np\n",
    "import datetime as dt\n",
    "from datetime import datetime\n"
   ]
  },
  {
   "cell_type": "code",
   "execution_count": 2,
   "metadata": {
    "collapsed": true
   },
   "outputs": [],
   "source": [
    "#getting my timeline html file that I recieved from Facebook\n",
    "with open(\"timeline.htm\") as f:\n",
    "    req = f.read()"
   ]
  },
  {
   "cell_type": "code",
   "execution_count": 3,
   "metadata": {
    "collapsed": false
   },
   "outputs": [],
   "source": [
    "soup = BeautifulSoup(req, \"html.parser\")"
   ]
  },
  {
   "cell_type": "code",
   "execution_count": 4,
   "metadata": {
    "collapsed": false
   },
   "outputs": [],
   "source": [
    "dates = soup.find_all(\"div\", {\"class\": \"meta\"})"
   ]
  },
  {
   "cell_type": "code",
   "execution_count": 5,
   "metadata": {
    "collapsed": false
   },
   "outputs": [
    {
     "data": {
      "text/plain": [
       "<div class=\"meta\">Wednesday, May 17, 2017 at 1:33pm PDT</div>"
      ]
     },
     "execution_count": 5,
     "metadata": {},
     "output_type": "execute_result"
    }
   ],
   "source": [
    "#scratch workbook to understand how to get the attributes that I need out of the data (you can ignore this cell)\n",
    "dates[2].text.split(\",\")[2].strip()\n",
    "month = dates[2].text.split(\",\")[1].strip().split(\" \")[0]\n",
    "day = dates[2].text.split(\",\")[1].strip().split(\" \")[1]\n",
    "month, day\n",
    "time = dates[2].text.split(\",\")[2].strip().split(\" \")[2]\n",
    "time\n",
    "if \"pm\" in time:\n",
    "    time = time.rstrip(\"pm\")\n",
    "    arr = time.split(\":\")\n",
    "    temp = int(arr[0])\n",
    "    temp += 12\n",
    "    arr[0] = str(temp)\n",
    "    time = \":\".join(arr)\n",
    "time, temp, arr\n",
    "dates[2]\n",
    "dates[2].find_next(\"div\")"
   ]
  },
  {
   "cell_type": "markdown",
   "metadata": {},
   "source": [
    "### Next Step:\n",
    "Now that I understand how my data works, I can create my dataframe. Ideally, for my timeline I want the text from every post that I created, along with the year, month, day, and time that corresponds to that post. Then I want to do the same for every message that I've ever sent. One interesting thing I decided to do was to  not include anything from October 13th for both my messages and my timeline. I did this because October 13th is my birthday and I know that my timeline and messages were almost all incredibly positive on that day, which could have skewed my data a little bit."
   ]
  },
  {
   "cell_type": "code",
   "execution_count": 6,
   "metadata": {
    "collapsed": false
   },
   "outputs": [
    {
     "data": {
      "text/html": [
       "<div>\n",
       "<table border=\"1\" class=\"dataframe\">\n",
       "  <thead>\n",
       "    <tr style=\"text-align: right;\">\n",
       "      <th></th>\n",
       "      <th>Year</th>\n",
       "      <th>Month</th>\n",
       "      <th>Day</th>\n",
       "      <th>Time</th>\n",
       "      <th>Text</th>\n",
       "      <th>Hour</th>\n",
       "      <th>Minutes</th>\n",
       "    </tr>\n",
       "  </thead>\n",
       "  <tbody>\n",
       "  </tbody>\n",
       "</table>\n",
       "</div>"
      ],
      "text/plain": [
       "Empty DataFrame\n",
       "Columns: [Year, Month, Day, Time, Text, Hour, Minutes]\n",
       "Index: []"
      ]
     },
     "execution_count": 6,
     "metadata": {},
     "output_type": "execute_result"
    }
   ],
   "source": [
    "timeline = pd.DataFrame(columns=[\"Year\", \"Month\", \"Day\", \"Time\", \"Text\", \"Hour\", \"Minutes\"])\n",
    "timeline"
   ]
  },
  {
   "cell_type": "code",
   "execution_count": 7,
   "metadata": {
    "collapsed": false
   },
   "outputs": [],
   "source": [
    "Years = []\n",
    "Months = []\n",
    "Days = []\n",
    "Texts = []\n",
    "Times = []\n",
    "Hours = []\n",
    "Minutes = []\n",
    "for comment in soup.find_all(\"div\", {\"class\": \"comment\"}):\n",
    "    date = comment.find_previous(\"div\", {\"class\": \"meta\"})\n",
    "    month = date.text.split(\",\")[1].strip().split(\" \")[0]\n",
    "    day = int(date.text.split(\",\")[1].strip().split(\" \")[1])\n",
    "    year = int(date.text.split(\",\")[2].strip().split(\" \")[0])\n",
    "    time = date.text.split(\",\")[2].strip().split(\" \")[2]\n",
    "    if \"pm\" in time:\n",
    "        time = time.rstrip(\"pm\")\n",
    "        arr = time.split(\":\")\n",
    "        hour = int(arr[0])\n",
    "        minute = int(arr[1])\n",
    "        temp = int(arr[0])\n",
    "        temp += 12\n",
    "        arr[0] = str(temp)\n",
    "        time = \":\".join(arr)\n",
    "    elif \"am\" in time:\n",
    "        time = time.rstrip(\"am\")\n",
    "        arr = time.split(\":\")\n",
    "        hour = arr[0]\n",
    "        minute = arr[1]\n",
    "    if(day != \"October 13\"):\n",
    "        Years.append(year)\n",
    "        Months.append(month)\n",
    "        Days.append(day)\n",
    "        Texts.append(comment.text)\n",
    "        Times.append(time)\n",
    "        Hours.append(hour)\n",
    "        Minutes.append(minute)"
   ]
  },
  {
   "cell_type": "code",
   "execution_count": 8,
   "metadata": {
    "collapsed": false
   },
   "outputs": [
    {
     "data": {
      "text/html": [
       "<div>\n",
       "<table border=\"1\" class=\"dataframe\">\n",
       "  <thead>\n",
       "    <tr style=\"text-align: right;\">\n",
       "      <th></th>\n",
       "      <th>Year</th>\n",
       "      <th>Month</th>\n",
       "      <th>Day</th>\n",
       "      <th>Time</th>\n",
       "      <th>Text</th>\n",
       "      <th>Hour</th>\n",
       "      <th>Minutes</th>\n",
       "    </tr>\n",
       "  </thead>\n",
       "  <tbody>\n",
       "    <tr>\n",
       "      <th>0</th>\n",
       "      <td>2017</td>\n",
       "      <td>May</td>\n",
       "      <td>16</td>\n",
       "      <td>10:48</td>\n",
       "      <td>If anyone wants to see some awesome kids hitti...</td>\n",
       "      <td>10</td>\n",
       "      <td>48</td>\n",
       "    </tr>\n",
       "    <tr>\n",
       "      <th>1</th>\n",
       "      <td>2017</td>\n",
       "      <td>May</td>\n",
       "      <td>7</td>\n",
       "      <td>5:39</td>\n",
       "      <td>Just wanted to share that today at 12:45pm Eas...</td>\n",
       "      <td>5</td>\n",
       "      <td>39</td>\n",
       "    </tr>\n",
       "    <tr>\n",
       "      <th>2</th>\n",
       "      <td>2017</td>\n",
       "      <td>May</td>\n",
       "      <td>4</td>\n",
       "      <td>14:13</td>\n",
       "      <td>So I took a photo of a dog in my chem lab and ...</td>\n",
       "      <td>2</td>\n",
       "      <td>13</td>\n",
       "    </tr>\n",
       "    <tr>\n",
       "      <th>3</th>\n",
       "      <td>2017</td>\n",
       "      <td>April</td>\n",
       "      <td>30</td>\n",
       "      <td>23:21</td>\n",
       "      <td>Can't wait for this weekend! Let's go Poly Pol...</td>\n",
       "      <td>11</td>\n",
       "      <td>21</td>\n",
       "    </tr>\n",
       "    <tr>\n",
       "      <th>4</th>\n",
       "      <td>2017</td>\n",
       "      <td>April</td>\n",
       "      <td>14</td>\n",
       "      <td>12:11</td>\n",
       "      <td>Margarita is ready for tomorrow, are you?</td>\n",
       "      <td>12</td>\n",
       "      <td>11</td>\n",
       "    </tr>\n",
       "  </tbody>\n",
       "</table>\n",
       "</div>"
      ],
      "text/plain": [
       "   Year  Month  Day   Time                                               Text  \\\n",
       "0  2017    May   16  10:48  If anyone wants to see some awesome kids hitti...   \n",
       "1  2017    May    7   5:39  Just wanted to share that today at 12:45pm Eas...   \n",
       "2  2017    May    4  14:13  So I took a photo of a dog in my chem lab and ...   \n",
       "3  2017  April   30  23:21  Can't wait for this weekend! Let's go Poly Pol...   \n",
       "4  2017  April   14  12:11          Margarita is ready for tomorrow, are you?   \n",
       "\n",
       "  Hour Minutes  \n",
       "0   10      48  \n",
       "1    5      39  \n",
       "2    2      13  \n",
       "3   11      21  \n",
       "4   12      11  "
      ]
     },
     "execution_count": 8,
     "metadata": {},
     "output_type": "execute_result"
    }
   ],
   "source": [
    "timeline[\"Year\"] = Years\n",
    "timeline[\"Month\"] = Months\n",
    "timeline[\"Day\"] = Days\n",
    "timeline[\"Text\"] = Texts\n",
    "timeline[\"Time\"] = Times\n",
    "timeline[\"Hour\"] = Hours\n",
    "timeline[\"Minutes\"] = Minutes\n",
    "timeline.head()"
   ]
  },
  {
   "cell_type": "markdown",
   "metadata": {},
   "source": [
    "### Next Step:\n",
    "Now I have all of the data from my timeline posts, so I'll need to do the same for my data from messages. The process is similar, but the HTML files were layed out differently, so in order to scrape this file I needed to specify different classes and tags to get the text and time information that I wanted."
   ]
  },
  {
   "cell_type": "code",
   "execution_count": 9,
   "metadata": {
    "collapsed": true
   },
   "outputs": [],
   "source": [
    "with open(\"messages.htm\") as f:\n",
    "    req = f.read()"
   ]
  },
  {
   "cell_type": "code",
   "execution_count": 10,
   "metadata": {
    "collapsed": true
   },
   "outputs": [],
   "source": [
    "soup = BeautifulSoup(req, \"html.parser\")"
   ]
  },
  {
   "cell_type": "code",
   "execution_count": 11,
   "metadata": {
    "collapsed": false
   },
   "outputs": [],
   "source": [
    "dates = soup.find_all(\"span\", {\"class\": \"meta\"})"
   ]
  },
  {
   "cell_type": "code",
   "execution_count": 12,
   "metadata": {
    "collapsed": false
   },
   "outputs": [
    {
     "data": {
      "text/html": [
       "<div>\n",
       "<table border=\"1\" class=\"dataframe\">\n",
       "  <thead>\n",
       "    <tr style=\"text-align: right;\">\n",
       "      <th></th>\n",
       "      <th>Year</th>\n",
       "      <th>Month</th>\n",
       "      <th>Day</th>\n",
       "      <th>Time</th>\n",
       "      <th>Text</th>\n",
       "    </tr>\n",
       "  </thead>\n",
       "  <tbody>\n",
       "  </tbody>\n",
       "</table>\n",
       "</div>"
      ],
      "text/plain": [
       "Empty DataFrame\n",
       "Columns: [Year, Month, Day, Time, Text]\n",
       "Index: []"
      ]
     },
     "execution_count": 12,
     "metadata": {},
     "output_type": "execute_result"
    }
   ],
   "source": [
    "messages = pd.DataFrame(columns=[\"Year\", \"Month\", \"Day\", \"Time\", \"Text\"])\n",
    "messages"
   ]
  },
  {
   "cell_type": "code",
   "execution_count": 13,
   "metadata": {
    "collapsed": false
   },
   "outputs": [],
   "source": [
    "Years = []\n",
    "Months = []\n",
    "Days = []\n",
    "Texts = []\n",
    "Times = []\n",
    "Hours = []\n",
    "Minutes = []\n",
    "for comment in soup.find_all(\"p\"):\n",
    "    date = comment.find_previous(\"span\", {\"class\": \"meta\"})\n",
    "    month = date.text.split(\",\")[1].strip().split(\" \")[0]\n",
    "    day = int(date.text.split(\",\")[1].strip().split(\" \")[1])\n",
    "    year = int(date.text.split(\",\")[2].strip().split(\" \")[0])\n",
    "    time = date.text.split(\",\")[2].strip().split(\" \")[2]\n",
    "    if \"pm\" in time:\n",
    "        time = time.rstrip(\"pm\")\n",
    "        arr = time.split(\":\")\n",
    "        hour = int(arr[0])\n",
    "        minute = int(arr[1])\n",
    "        temp = int(arr[0])\n",
    "        temp += 12\n",
    "        arr[0] = str(temp)\n",
    "        time = \":\".join(arr)\n",
    "    elif \"am\" in time:\n",
    "        time = time.rstrip(\"am\")\n",
    "        arr = time.split(\":\")\n",
    "        hour = int(arr[0])\n",
    "        minute = int(arr[1])\n",
    "    if(day != \"October 13\"):\n",
    "        Years.append(year)\n",
    "        Months.append(month)\n",
    "        Days.append(day)\n",
    "        Texts.append(comment.text)\n",
    "        Times.append(time)\n",
    "        Hours.append(hour)\n",
    "        Minutes.append(minute)"
   ]
  },
  {
   "cell_type": "code",
   "execution_count": 14,
   "metadata": {
    "collapsed": false
   },
   "outputs": [
    {
     "data": {
      "text/html": [
       "<div>\n",
       "<table border=\"1\" class=\"dataframe\">\n",
       "  <thead>\n",
       "    <tr style=\"text-align: right;\">\n",
       "      <th></th>\n",
       "      <th>Year</th>\n",
       "      <th>Month</th>\n",
       "      <th>Day</th>\n",
       "      <th>Time</th>\n",
       "      <th>Text</th>\n",
       "      <th>Hour</th>\n",
       "      <th>Minutes</th>\n",
       "    </tr>\n",
       "  </thead>\n",
       "  <tbody>\n",
       "    <tr>\n",
       "      <th>0</th>\n",
       "      <td>2015</td>\n",
       "      <td>May</td>\n",
       "      <td>11</td>\n",
       "      <td>24:28</td>\n",
       "      <td>smithygirl@gmail.com :) Good luck Sheridan! Ha...</td>\n",
       "      <td>12</td>\n",
       "      <td>28</td>\n",
       "    </tr>\n",
       "    <tr>\n",
       "      <th>1</th>\n",
       "      <td>2013</td>\n",
       "      <td>August</td>\n",
       "      <td>21</td>\n",
       "      <td>17:00</td>\n",
       "      <td>Haha ya ill convert you next!!!</td>\n",
       "      <td>5</td>\n",
       "      <td>0</td>\n",
       "    </tr>\n",
       "    <tr>\n",
       "      <th>2</th>\n",
       "      <td>2013</td>\n",
       "      <td>August</td>\n",
       "      <td>21</td>\n",
       "      <td>13:28</td>\n",
       "      <td>haha yeah I guess so! I saw that you took Loga...</td>\n",
       "      <td>1</td>\n",
       "      <td>28</td>\n",
       "    </tr>\n",
       "    <tr>\n",
       "      <th>3</th>\n",
       "      <td>2013</td>\n",
       "      <td>August</td>\n",
       "      <td>21</td>\n",
       "      <td>13:26</td>\n",
       "      <td>I know who that is... I just don't know him pe...</td>\n",
       "      <td>1</td>\n",
       "      <td>26</td>\n",
       "    </tr>\n",
       "    <tr>\n",
       "      <th>4</th>\n",
       "      <td>2013</td>\n",
       "      <td>August</td>\n",
       "      <td>21</td>\n",
       "      <td>13:25</td>\n",
       "      <td>Hold on its loading</td>\n",
       "      <td>1</td>\n",
       "      <td>25</td>\n",
       "    </tr>\n",
       "  </tbody>\n",
       "</table>\n",
       "</div>"
      ],
      "text/plain": [
       "   Year   Month  Day   Time  \\\n",
       "0  2015     May   11  24:28   \n",
       "1  2013  August   21  17:00   \n",
       "2  2013  August   21  13:28   \n",
       "3  2013  August   21  13:26   \n",
       "4  2013  August   21  13:25   \n",
       "\n",
       "                                                Text  Hour  Minutes  \n",
       "0  smithygirl@gmail.com :) Good luck Sheridan! Ha...    12       28  \n",
       "1                    Haha ya ill convert you next!!!     5        0  \n",
       "2  haha yeah I guess so! I saw that you took Loga...     1       28  \n",
       "3  I know who that is... I just don't know him pe...     1       26  \n",
       "4                                Hold on its loading     1       25  "
      ]
     },
     "execution_count": 14,
     "metadata": {},
     "output_type": "execute_result"
    }
   ],
   "source": [
    "messages[\"Year\"] = Years\n",
    "messages[\"Month\"] = Months\n",
    "messages[\"Day\"] = Days\n",
    "messages[\"Text\"] = Texts\n",
    "messages[\"Time\"] = Times\n",
    "messages[\"Hour\"] = Hours\n",
    "messages[\"Minutes\"] = Minutes\n",
    "messages.head()"
   ]
  },
  {
   "cell_type": "markdown",
   "metadata": {},
   "source": [
    "### Final Step:\n",
    "Now I have all of my text data for my timeline posts and my messages, with the year, month, day, hours, and minutes that correspond to a specific post or message! I'll need to access this in my other notebooks, so I used pickle to upload it."
   ]
  },
  {
   "cell_type": "code",
   "execution_count": 15,
   "metadata": {
    "collapsed": false
   },
   "outputs": [],
   "source": [
    "import pickle\n",
    "pickle.dump(messages, open(\"messages.pkl\", \"wb\"))\n",
    "pickle.dump(timeline, open(\"timeline.pkl\", \"wb\"))"
   ]
  },
  {
   "cell_type": "code",
   "execution_count": null,
   "metadata": {
    "collapsed": true
   },
   "outputs": [],
   "source": []
  }
 ],
 "metadata": {
  "kernelspec": {
   "display_name": "Python 3",
   "language": "python",
   "name": "python3"
  },
  "language_info": {
   "codemirror_mode": {
    "name": "ipython",
    "version": 3
   },
   "file_extension": ".py",
   "mimetype": "text/x-python",
   "name": "python",
   "nbconvert_exporter": "python",
   "pygments_lexer": "ipython3",
   "version": "3.5.2"
  }
 },
 "nbformat": 4,
 "nbformat_minor": 1
}
