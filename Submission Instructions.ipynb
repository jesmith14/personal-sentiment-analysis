{
 "cells": [
  {
   "cell_type": "markdown",
   "metadata": {},
   "source": [
    "# Submission Instructions\n",
    "\n",
    "**STOP!** If you worked with a partner, double check that your partner has not already submitted the final project. If he/she hasn't submitted the project, make sure that his/her Github (NOT Cal Poly) username is stored as a string in the `partner` variable below.\n",
    "\n",
    "This directory should contain all of the notebooks that you used to do your analysis. Please check [the project instructions](http://calpoly.edu/~dsun09/data301/project.html) for more details about what notebooks you should have in this directory. When you have checked that you have met all of the project specifications, follow the instructions below to submit your project.\n",
    "\n",
    "1. For each of the other notebooks in this directory:\n",
    "    - From the menu, select Kernel > Restart & Run All.\n",
    "    - Make sure the notebook has executed to the very last cell. If there are any errors, fix them and start this process over again.\n",
    "    - From the menu, select File > Save and Checkpoint.\n",
    "2. Once you have finished Step 1, select Kernel > Restart & Run All for this submission notebook. This will copy your files into the submission directory.\n",
    "\n",
    "If you decide to make any changes after submitting, simply repeat all the steps above to resubmit your project."
   ]
  },
  {
   "cell_type": "code",
   "execution_count": 1,
   "metadata": {
    "collapsed": true
   },
   "outputs": [],
   "source": [
    "partner = \"\""
   ]
  },
  {
   "cell_type": "code",
   "execution_count": 2,
   "metadata": {
    "collapsed": true
   },
   "outputs": [],
   "source": [
    "!cp -r ../Final\\ Project /data301/submit/$USER/"
   ]
  }
 ],
 "metadata": {
  "kernelspec": {
   "display_name": "Python 3",
   "language": "python",
   "name": "python3"
  },
  "language_info": {
   "codemirror_mode": {
    "name": "ipython",
    "version": 3
   },
   "file_extension": ".py",
   "mimetype": "text/x-python",
   "name": "python",
   "nbconvert_exporter": "python",
   "pygments_lexer": "ipython3",
   "version": "3.5.2"
  }
 },
 "nbformat": 4,
 "nbformat_minor": 1
}
