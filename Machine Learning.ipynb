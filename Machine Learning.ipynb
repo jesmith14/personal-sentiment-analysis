{
 "cells": [
  {
   "cell_type": "markdown",
   "metadata": {},
   "source": [
    "# Machine Learning"
   ]
  },
  {
   "cell_type": "markdown",
   "metadata": {},
   "source": [
    "For my machine learning model, I wanted to find a way to predict what my expected sentiment online (for private messages and for public timeline data) might be depending on the specific year, month, day of the month, and time of day that I specify."
   ]
  },
  {
   "cell_type": "markdown",
   "metadata": {},
   "source": [
    "### First Step:\n",
    "I first need to determine which model is going to provide the lowest mean squared error based on my training data: I'm going to try a LinearRegression model, a K-Nearest Neighbors model, and a LinearRegression Polynomial model (where the Day is the column in the training-data that becomes the polynomial)."
   ]
  },
  {
   "cell_type": "code",
   "execution_count": 1,
   "metadata": {
    "collapsed": true
   },
   "outputs": [],
   "source": [
    "import pickle\n",
    "import numpy as np\n",
    "import pandas as pd\n",
    "\n",
    "import matplotlib.pyplot as plt\n",
    "%matplotlib inline"
   ]
  },
  {
   "cell_type": "code",
   "execution_count": 2,
   "metadata": {
    "collapsed": true
   },
   "outputs": [],
   "source": [
    "#import my data\n",
    "messages = pickle.load(open(\"messages_score.pkl\", \"rb\"))\n",
    "timeline = pickle.load(open(\"timeline_score.pkl\", \"rb\"))"
   ]
  },
  {
   "cell_type": "code",
   "execution_count": 3,
   "metadata": {
    "collapsed": false
   },
   "outputs": [
    {
     "data": {
      "text/html": [
       "<div>\n",
       "<table border=\"1\" class=\"dataframe\">\n",
       "  <thead>\n",
       "    <tr style=\"text-align: right;\">\n",
       "      <th></th>\n",
       "      <th>Year</th>\n",
       "      <th>Month</th>\n",
       "      <th>Day</th>\n",
       "      <th>Time</th>\n",
       "      <th>Text</th>\n",
       "      <th>Hour</th>\n",
       "      <th>Minutes</th>\n",
       "      <th>compound_score</th>\n",
       "      <th>neg_score</th>\n",
       "      <th>neu_score</th>\n",
       "      <th>pos_score</th>\n",
       "    </tr>\n",
       "  </thead>\n",
       "  <tbody>\n",
       "    <tr>\n",
       "      <th>0</th>\n",
       "      <td>2015</td>\n",
       "      <td>May</td>\n",
       "      <td>11</td>\n",
       "      <td>24:28</td>\n",
       "      <td>smithygirl@gmail.com :) Good luck Sheridan! Ha...</td>\n",
       "      <td>12</td>\n",
       "      <td>28</td>\n",
       "      <td>0.9457</td>\n",
       "      <td>0.056</td>\n",
       "      <td>0.351</td>\n",
       "      <td>0.593</td>\n",
       "    </tr>\n",
       "    <tr>\n",
       "      <th>1</th>\n",
       "      <td>2013</td>\n",
       "      <td>August</td>\n",
       "      <td>21</td>\n",
       "      <td>17:00</td>\n",
       "      <td>Haha ya ill convert you next!!!</td>\n",
       "      <td>5</td>\n",
       "      <td>0</td>\n",
       "      <td>0.2677</td>\n",
       "      <td>0.262</td>\n",
       "      <td>0.375</td>\n",
       "      <td>0.363</td>\n",
       "    </tr>\n",
       "    <tr>\n",
       "      <th>2</th>\n",
       "      <td>2013</td>\n",
       "      <td>August</td>\n",
       "      <td>21</td>\n",
       "      <td>13:28</td>\n",
       "      <td>haha yeah I guess so! I saw that you took Loga...</td>\n",
       "      <td>1</td>\n",
       "      <td>28</td>\n",
       "      <td>0.6988</td>\n",
       "      <td>0.000</td>\n",
       "      <td>0.776</td>\n",
       "      <td>0.224</td>\n",
       "    </tr>\n",
       "    <tr>\n",
       "      <th>3</th>\n",
       "      <td>2013</td>\n",
       "      <td>August</td>\n",
       "      <td>21</td>\n",
       "      <td>13:26</td>\n",
       "      <td>I know who that is... I just don't know him pe...</td>\n",
       "      <td>1</td>\n",
       "      <td>26</td>\n",
       "      <td>0.5502</td>\n",
       "      <td>0.000</td>\n",
       "      <td>0.887</td>\n",
       "      <td>0.113</td>\n",
       "    </tr>\n",
       "    <tr>\n",
       "      <th>4</th>\n",
       "      <td>2013</td>\n",
       "      <td>August</td>\n",
       "      <td>21</td>\n",
       "      <td>13:25</td>\n",
       "      <td>Hold on its loading</td>\n",
       "      <td>1</td>\n",
       "      <td>25</td>\n",
       "      <td>0.0000</td>\n",
       "      <td>0.000</td>\n",
       "      <td>1.000</td>\n",
       "      <td>0.000</td>\n",
       "    </tr>\n",
       "  </tbody>\n",
       "</table>\n",
       "</div>"
      ],
      "text/plain": [
       "   Year   Month  Day   Time  \\\n",
       "0  2015     May   11  24:28   \n",
       "1  2013  August   21  17:00   \n",
       "2  2013  August   21  13:28   \n",
       "3  2013  August   21  13:26   \n",
       "4  2013  August   21  13:25   \n",
       "\n",
       "                                                Text  Hour  Minutes  \\\n",
       "0  smithygirl@gmail.com :) Good luck Sheridan! Ha...    12       28   \n",
       "1                    Haha ya ill convert you next!!!     5        0   \n",
       "2  haha yeah I guess so! I saw that you took Loga...     1       28   \n",
       "3  I know who that is... I just don't know him pe...     1       26   \n",
       "4                                Hold on its loading     1       25   \n",
       "\n",
       "   compound_score  neg_score  neu_score  pos_score  \n",
       "0          0.9457      0.056      0.351      0.593  \n",
       "1          0.2677      0.262      0.375      0.363  \n",
       "2          0.6988      0.000      0.776      0.224  \n",
       "3          0.5502      0.000      0.887      0.113  \n",
       "4          0.0000      0.000      1.000      0.000  "
      ]
     },
     "execution_count": 3,
     "metadata": {},
     "output_type": "execute_result"
    }
   ],
   "source": [
    "messages.head()"
   ]
  },
  {
   "cell_type": "markdown",
   "metadata": {},
   "source": [
    "# Finding the optimal Messages Machine Learning Model:"
   ]
  },
  {
   "cell_type": "markdown",
   "metadata": {},
   "source": [
    "## Linear Model:"
   ]
  },
  {
   "cell_type": "code",
   "execution_count": 4,
   "metadata": {
    "collapsed": false
   },
   "outputs": [
    {
     "data": {
      "text/plain": [
       "LinearRegression(copy_X=True, fit_intercept=True, n_jobs=1, normalize=False)"
      ]
     },
     "execution_count": 4,
     "metadata": {},
     "output_type": "execute_result"
    }
   ],
   "source": [
    "from sklearn.linear_model import LinearRegression\n",
    "model = LinearRegression()\n",
    "months = pd.get_dummies(messages[\"Month\"]).drop(\"January\", axis=1)\n",
    "dfs = [months, messages[[\"Year\", \"Day\", \"Hour\", \"Minutes\", \"compound_score\"]]]\n",
    "data_mess = pd.concat(dfs, axis=1)\n",
    "model.fit(X=data_mess, y=data_mess[\"compound_score\"])"
   ]
  },
  {
   "cell_type": "code",
   "execution_count": 5,
   "metadata": {
    "collapsed": false
   },
   "outputs": [
    {
     "data": {
      "text/plain": [
       "Index(['April', 'August', 'December', 'February', 'July', 'June', 'March',\n",
       "       'May', 'November', 'October', 'September', 'Year', 'Day', 'Hour',\n",
       "       'Minutes', 'compound_score'],\n",
       "      dtype='object')"
      ]
     },
     "execution_count": 5,
     "metadata": {},
     "output_type": "execute_result"
    }
   ],
   "source": [
    "data_mess.columns"
   ]
  },
  {
   "cell_type": "code",
   "execution_count": 6,
   "metadata": {
    "collapsed": false
   },
   "outputs": [
    {
     "data": {
      "text/plain": [
       "0.14370794768130862"
      ]
     },
     "execution_count": 6,
     "metadata": {},
     "output_type": "execute_result"
    }
   ],
   "source": [
    "from sklearn.model_selection import cross_val_score\n",
    "linear_error = -cross_val_score(model, data_mess[['April', 'August', 'December', 'February', 'July', 'June', 'March',\n",
    "       'May', 'November', 'October', 'September', 'Year', 'Day', 'Hour',\n",
    "       'Minutes']], data_mess[\"compound_score\"], cv=10, scoring=\"neg_mean_squared_error\").mean()\n",
    "linear_error"
   ]
  },
  {
   "cell_type": "markdown",
   "metadata": {},
   "source": [
    "## Polynomial Linear Regression:"
   ]
  },
  {
   "cell_type": "code",
   "execution_count": 7,
   "metadata": {
    "collapsed": false
   },
   "outputs": [],
   "source": [
    "# YOUR CODE HERE.\n",
    "y = data_mess[\"compound_score\"]\n",
    "data_mess[\"Day\"] = data_mess[\"Day\"].astype(int)\n",
    "model = LinearRegression()\n",
    "\n",
    "linear = -cross_val_score(model, data_mess[['April', 'August', 'December', 'February', 'July', 'June', 'March',\n",
    "       'May', 'November', 'October', 'September', 'Year', 'Day', 'Hour',\n",
    "       'Minutes']], y, cv=10, scoring=\"neg_mean_squared_error\").mean()\n",
    "\n",
    "#quadratic model\n",
    "data_mess[\"Day^2\"] = data_mess[\"Day\"] ** 2\n",
    "quad = -cross_val_score(model, data_mess[['April', 'August', 'December', 'February', 'July', 'June', 'March',\n",
    "       'May', 'November', 'October', 'September', 'Year', 'Hour',\n",
    "       'Minutes', \"Day\", \"Day^2\"]], y, cv=10, scoring=\"neg_mean_squared_error\").mean()\n",
    "\n",
    "#cubic model\n",
    "data_mess[\"Day^3\"] = data_mess[\"Day\"] ** 3\n",
    "cube = -cross_val_score(model, data_mess[['April', 'August', 'December', 'February', 'July', 'June', 'March',\n",
    "       'May', 'November', 'October', 'September', 'Year', 'Hour',\n",
    "       'Minutes', \"Day\", \"Day^2\", \"Day^3\"]], y, cv=10, scoring=\"neg_mean_squared_error\").mean()\n",
    "\n",
    "#quartic model\n",
    "data_mess[\"Day^4\"] = data_mess[\"Day\"] ** 4\n",
    "quart = -cross_val_score(model, data_mess[['April', 'August', 'December', 'February', 'July', 'June', 'March',\n",
    "       'May', 'November', 'October', 'September', 'Year', 'Hour',\n",
    "       'Minutes', \"Day\", \"Day^2\", \"Day^3\", \"Day^4\"]], y, cv=10, scoring=\"neg_mean_squared_error\").mean()\n",
    "\n",
    "#quintic model\n",
    "data_mess[\"Day^5\"] = data_mess[\"Day\"] ** 5\n",
    "quint = -cross_val_score(model, data_mess[['April', 'August', 'December', 'February', 'July', 'June', 'March',\n",
    "       'May', 'November', 'October', 'September', 'Year', 'Hour',\n",
    "       'Minutes', \"Day\", \"Day^2\", \"Day^3\", \"Day^4\", \"Day^5\"]], y, cv=10, scoring=\"neg_mean_squared_error\").mean()\n",
    "\n",
    "#sixth degree model\n",
    "data_mess[\"Day^6\"] = data_mess[\"Day\"] ** 6\n",
    "six = -cross_val_score(model, data_mess[['April', 'August', 'December', 'February', 'July', 'June', 'March',\n",
    "       'May', 'November', 'October', 'September', 'Year', 'Hour',\n",
    "       'Minutes', \"Day\", \"Day^2\", \"Day^3\", \"Day^4\", \"Day^5\", \"Day^6\"]], y, cv=10, scoring=\"neg_mean_squared_error\").mean()\n",
    "\n",
    "#seventh degree model\n",
    "data_mess[\"Day^7\"] = data_mess[\"Day\"] ** 7\n",
    "seven = -cross_val_score(model, data_mess[['April', 'August', 'December', 'February', 'July', 'June', 'March',\n",
    "       'May', 'November', 'October', 'September', 'Year', 'Hour',\n",
    "       'Minutes', \"Day\", \"Day^2\", \"Day^3\", \"Day^4\", \"Day^5\", \"Day^6\", \"Day^7\"]], y, cv=10, scoring=\"neg_mean_squared_error\").mean()\n",
    "\n",
    "\n",
    "\n",
    "y = [linear, quad, cube, quart, quint, six, seven]"
   ]
  },
  {
   "cell_type": "code",
   "execution_count": 8,
   "metadata": {
    "collapsed": false
   },
   "outputs": [
    {
     "data": {
      "text/plain": [
       "[<matplotlib.lines.Line2D at 0x7f29fd925588>]"
      ]
     },
     "execution_count": 8,
     "metadata": {},
     "output_type": "execute_result"
    },
    {
     "data": {
      "image/png": "[encoded data removed]",
      "text/plain": [
       "<matplotlib.figure.Figure at 0x7f2a03d2d6a0>"
      ]
     },
     "metadata": {},
     "output_type": "display_data"
    }
   ],
   "source": [
    "x = [1, 2, 3, 4, 5, 6, 7]\n",
    "plt.plot(x, y, 'r-')"
   ]
  },
  {
   "cell_type": "markdown",
   "metadata": {},
   "source": [
    "#### Interpretation of Polynomial Models:\n",
    "This shows me that when I create a polynomial model based on the Day attribute, my mean squared error is actually most optimized at the first degree (a linear model)."
   ]
  },
  {
   "cell_type": "markdown",
   "metadata": {},
   "source": [
    "## K-Nearest Neighbors:\n",
    "(First I'll need to determine the optimal number of neighbors)\n",
    "## WARNING: \n",
    "The cell below takes about 15 to 16 minutes to run, I was computing all of the testing errors for different values of k. It does finish after about 16 minutes, but I wanted to warn you ahead of time!"
   ]
  },
  {
   "cell_type": "code",
   "execution_count": 9,
   "metadata": {
    "collapsed": false
   },
   "outputs": [
    {
     "data": {
      "text/plain": [
       "[<matplotlib.lines.Line2D at 0x7f29fbf1b0f0>]"
      ]
     },
     "execution_count": 9,
     "metadata": {},
     "output_type": "execute_result"
    },
    {
     "data": {
      "image/png": "[encoded data removed]",
      "text/plain": [
       "<matplotlib.figure.Figure at 0x7f2a06e97978>"
      ]
     },
     "metadata": {},
     "output_type": "display_data"
    }
   ],
   "source": [
    "from sklearn.neighbors import KNeighborsRegressor\n",
    "x = range(1, 2000, 20)\n",
    "X = data_mess[['April', 'August', 'December', 'February', 'July', 'June', 'March',\n",
    "       'May', 'November', 'October', 'September', 'Year', 'Hour',\n",
    "       'Minutes', \"Day\"]]\n",
    "y_test_errs = []\n",
    "for k in range(1, 2000, 20):\n",
    "    model2 = KNeighborsRegressor(n_neighbors=k)\n",
    "    \n",
    "    #test error\n",
    "    y_test_errs.append(-cross_val_score(model2, X, data_mess[\"compound_score\"], cv=10, scoring=\"neg_mean_squared_error\").mean())\n",
    "\n",
    "import matplotlib.pyplot as plt\n",
    "#testing\n",
    "plt.plot(x, y_test_errs, 'r-')"
   ]
  },
  {
   "cell_type": "markdown",
   "metadata": {},
   "source": [
    "##### Interpretation:\n",
    "This was very interesting, because it seems that my k-nearest neighbors model flatlines at about k = 25. I checked the y_test_errs array and found that once k = 20, the values do continually decrease still, but at a very very small rate. I did notice though that by the 25th point in my y_test_errs aray, my mean-squared-error value was at about the lowest it could be before it started fluctuating back and forth. So I decided to go with the k_neighbors at x = 25, in this case that was k =  501"
   ]
  },
  {
   "cell_type": "code",
   "execution_count": 10,
   "metadata": {
    "collapsed": false
   },
   "outputs": [
    {
     "data": {
      "text/plain": [
       "501"
      ]
     },
     "execution_count": 10,
     "metadata": {},
     "output_type": "execute_result"
    }
   ],
   "source": [
    "x = range(1, 2000, 20)\n",
    "x[25]"
   ]
  },
  {
   "cell_type": "code",
   "execution_count": 11,
   "metadata": {
    "collapsed": false
   },
   "outputs": [
    {
     "data": {
      "text/plain": [
       "[0.30669049536244541,\n",
       " 0.1525090555524759,\n",
       " 0.14784507659837171,\n",
       " 0.14628077498802489,\n",
       " 0.14549557496013274,\n",
       " 0.14505378041192279,\n",
       " 0.14487096936213079,\n",
       " 0.14471125307812605,\n",
       " 0.14461319297556391,\n",
       " 0.14457003818710135,\n",
       " 0.14445383228754105,\n",
       " 0.14439722791134979,\n",
       " 0.14430149211779553,\n",
       " 0.1442017092878643,\n",
       " 0.14408793875771334,\n",
       " 0.14408519282496857,\n",
       " 0.1440426476238344,\n",
       " 0.14401480313037165,\n",
       " 0.14394673773155689,\n",
       " 0.14389187236822693,\n",
       " 0.14387707853106463,\n",
       " 0.14390791842971543,\n",
       " 0.14386268415828657,\n",
       " 0.14388022334505859,\n",
       " 0.14385813819078724,\n",
       " 0.14378864268893499,\n",
       " 0.14378889298404141,\n",
       " 0.14380987183973523,\n",
       " 0.14382351709708865,\n",
       " 0.1438435366281422,\n",
       " 0.14385351490040293,\n",
       " 0.14382704324676437,\n",
       " 0.14382163463618203,\n",
       " 0.14382567647862748,\n",
       " 0.14381651675751922,\n",
       " 0.14380480308180138,\n",
       " 0.14384284285733995,\n",
       " 0.14385451664830937,\n",
       " 0.14384891035895891,\n",
       " 0.14386121563653526,\n",
       " 0.14384556317769093,\n",
       " 0.14385559264452388,\n",
       " 0.14384348248423676,\n",
       " 0.14383873624679377,\n",
       " 0.14384771022765877,\n",
       " 0.14383964673687324,\n",
       " 0.14385552363821369,\n",
       " 0.14387234698558241,\n",
       " 0.14386708794061603,\n",
       " 0.14386994436037204,\n",
       " 0.14386837515406273,\n",
       " 0.14386259833262818,\n",
       " 0.14384933320576862,\n",
       " 0.14382287419765255,\n",
       " 0.14381090501324573,\n",
       " 0.14379535577557209,\n",
       " 0.14379476794584584,\n",
       " 0.14378705296135297,\n",
       " 0.14378755008053179,\n",
       " 0.14378685416420614,\n",
       " 0.14379683559712148,\n",
       " 0.14379558565342246,\n",
       " 0.14377124494376778,\n",
       " 0.1437788992519056,\n",
       " 0.14376337925707319,\n",
       " 0.14377268697678675,\n",
       " 0.14377928951188065,\n",
       " 0.14377699864574836,\n",
       " 0.14376370878514069,\n",
       " 0.14376718839055547,\n",
       " 0.14376698106309976,\n",
       " 0.14376166521687661,\n",
       " 0.1437715006425053,\n",
       " 0.1437822141124277,\n",
       " 0.14378734741940066,\n",
       " 0.14379098810190336,\n",
       " 0.14378817812508268,\n",
       " 0.14376709753899633,\n",
       " 0.14376730301829296,\n",
       " 0.14378135568346684,\n",
       " 0.14377807122438466,\n",
       " 0.14377673007362182,\n",
       " 0.14377150645276426,\n",
       " 0.14377057467753412,\n",
       " 0.14376482347133451,\n",
       " 0.14377445476500328,\n",
       " 0.14376790263308334,\n",
       " 0.14377000749201124,\n",
       " 0.14376605174940366,\n",
       " 0.14377622252613548,\n",
       " 0.14377955929360153,\n",
       " 0.14377805593423904,\n",
       " 0.14377695420374839,\n",
       " 0.14377286274941919,\n",
       " 0.14376615682036059,\n",
       " 0.14376424580674013,\n",
       " 0.14376535664441104,\n",
       " 0.14376373641682508,\n",
       " 0.1437639557438499,\n",
       " 0.14376386583140571]"
      ]
     },
     "execution_count": 11,
     "metadata": {},
     "output_type": "execute_result"
    }
   ],
   "source": [
    "y_test_errs"
   ]
  },
  {
   "cell_type": "markdown",
   "metadata": {},
   "source": [
    "##### This proves that my k-nearest neighbors model with n_neighbors = 301 isn't as optimal of a model for my training-data as the linear model is for messages, so the winner for my messages data is the Linear model of degree 1:"
   ]
  },
  {
   "cell_type": "code",
   "execution_count": 12,
   "metadata": {
    "collapsed": false
   },
   "outputs": [
    {
     "data": {
      "text/plain": [
       "(0.14379053840571326, 0.14370794768130862)"
      ]
     },
     "execution_count": 12,
     "metadata": {},
     "output_type": "execute_result"
    }
   ],
   "source": [
    "X = data_mess[[\"Year\", 'April',\n",
    "       'August', 'December', 'February', 'July', 'June', 'March', 'May',\n",
    "       'November', 'October', 'September', 'Day', 'Hour', 'Minutes']]\n",
    "model2 = KNeighborsRegressor(n_neighbors=501)\n",
    "    \n",
    "k_neighbors_error = -cross_val_score(model2, X, data_mess[\"compound_score\"], cv=10, scoring=\"neg_mean_squared_error\").mean()\n",
    "k_neighbors_error, linear_error"
   ]
  },
  {
   "cell_type": "markdown",
   "metadata": {},
   "source": [
    "# Finding the optimal Timeline Machine Learning Model:\n",
    "(Same explorations as above, but for my timeline data to figure out which model has the smallest error)"
   ]
  },
  {
   "cell_type": "markdown",
   "metadata": {},
   "source": [
    "## Linear Model"
   ]
  },
  {
   "cell_type": "code",
   "execution_count": 13,
   "metadata": {
    "collapsed": false
   },
   "outputs": [
    {
     "data": {
      "text/plain": [
       "LinearRegression(copy_X=True, fit_intercept=True, n_jobs=1, normalize=False)"
      ]
     },
     "execution_count": 13,
     "metadata": {},
     "output_type": "execute_result"
    }
   ],
   "source": [
    "from sklearn.linear_model import LinearRegression\n",
    "model = LinearRegression()\n",
    "months = pd.get_dummies(timeline[\"Month\"]).drop(\"January\", axis=1)\n",
    "dfs = [months, timeline[[\"Year\", \"Day\", \"Hour\", \"Minutes\", \"compound_score\"]]]\n",
    "data_time = pd.concat(dfs, axis=1)\n",
    "model.fit(X=data_time, y=data_time[\"compound_score\"])"
   ]
  },
  {
   "cell_type": "code",
   "execution_count": 14,
   "metadata": {
    "collapsed": false
   },
   "outputs": [
    {
     "data": {
      "text/plain": [
       "Index(['April', 'August', 'December', 'February', 'July', 'June', 'March',\n",
       "       'May', 'November', 'October', 'September', 'Year', 'Day', 'Hour',\n",
       "       'Minutes', 'compound_score'],\n",
       "      dtype='object')"
      ]
     },
     "execution_count": 14,
     "metadata": {},
     "output_type": "execute_result"
    }
   ],
   "source": [
    "data_time.columns"
   ]
  },
  {
   "cell_type": "code",
   "execution_count": 15,
   "metadata": {
    "collapsed": false
   },
   "outputs": [
    {
     "data": {
      "text/plain": [
       "0.16967377765275374"
      ]
     },
     "execution_count": 15,
     "metadata": {},
     "output_type": "execute_result"
    }
   ],
   "source": [
    "from sklearn.model_selection import cross_val_score\n",
    "-cross_val_score(model, data_time[[\"Year\", 'April',\n",
    "       'August', 'December', 'February', 'July', 'June', 'March', 'May',\n",
    "       'November', 'October', 'September', 'Day', 'Hour', 'Minutes']], data_time[\"compound_score\"], cv=10, scoring=\"neg_mean_squared_error\").mean()"
   ]
  },
  {
   "cell_type": "markdown",
   "metadata": {},
   "source": [
    "## K-Nearest Neighbors"
   ]
  },
  {
   "cell_type": "code",
   "execution_count": 16,
   "metadata": {
    "collapsed": false
   },
   "outputs": [
    {
     "data": {
      "text/plain": [
       "[<matplotlib.lines.Line2D at 0x7f29fbe96dd8>]"
      ]
     },
     "execution_count": 16,
     "metadata": {},
     "output_type": "execute_result"
    },
    {
     "data": {
      "image/png": "[encoded data removed]",
      "text/plain": [
       "<matplotlib.figure.Figure at 0x7f29fd934240>"
      ]
     },
     "metadata": {},
     "output_type": "display_data"
    }
   ],
   "source": [
    "from sklearn.neighbors import KNeighborsRegressor\n",
    "x = range(1, 200, 5)\n",
    "X = data_time[[\"Year\", 'April',\n",
    "       'August', 'December', 'February', 'July', 'June', 'March', 'May',\n",
    "       'November', 'October', 'September', 'Day', 'Hour', 'Minutes']]\n",
    "y_test_errs = []\n",
    "for k in range(1, 200, 5):\n",
    "    model2 = KNeighborsRegressor(n_neighbors=k)\n",
    "    \n",
    "    #test error\n",
    "    y_test_errs.append(-cross_val_score(model2, X, data_time[\"compound_score\"], cv=10, scoring=\"neg_mean_squared_error\").mean())\n",
    "\n",
    "import matplotlib.pyplot as plt\n",
    "#testing\n",
    "plt.plot(x, y_test_errs, 'r-')"
   ]
  },
  {
   "cell_type": "markdown",
   "metadata": {},
   "source": [
    "##### Interpretation:\n",
    "It seems as though my timeline data doesn't flatline as the number of neighbors increases like my messages data did! For the timeline, the optimized number of neighbors was at the 10th data point, in this case that is when n_neighbors = 51."
   ]
  },
  {
   "cell_type": "code",
   "execution_count": 17,
   "metadata": {
    "collapsed": false
   },
   "outputs": [
    {
     "data": {
      "text/plain": [
       "51"
      ]
     },
     "execution_count": 17,
     "metadata": {},
     "output_type": "execute_result"
    }
   ],
   "source": [
    "x[10]"
   ]
  },
  {
   "cell_type": "code",
   "execution_count": 18,
   "metadata": {
    "collapsed": false
   },
   "outputs": [
    {
     "data": {
      "text/plain": [
       "0.18340554586767893"
      ]
     },
     "execution_count": 18,
     "metadata": {},
     "output_type": "execute_result"
    }
   ],
   "source": [
    "model2 = KNeighborsRegressor(n_neighbors=51)\n",
    "    \n",
    "k_neighbors_error = -cross_val_score(model2, X, data_time[\"compound_score\"], cv=10, scoring=\"neg_mean_squared_error\").mean()\n",
    "k_neighbors_error"
   ]
  },
  {
   "cell_type": "markdown",
   "metadata": {},
   "source": [
    "## Polynomial Linear Regression"
   ]
  },
  {
   "cell_type": "code",
   "execution_count": 19,
   "metadata": {
    "collapsed": false
   },
   "outputs": [],
   "source": [
    "# YOUR CODE HERE.\n",
    "y = data_time[\"compound_score\"]\n",
    "data_time[\"Day\"] = data_time[\"Day\"].astype(int)\n",
    "model = LinearRegression()\n",
    "\n",
    "linear = -cross_val_score(model, data_time[[\"Year\", 'April',\n",
    "       'August', 'December', 'February', 'July', 'June', 'March', 'May',\n",
    "       'November', 'October', 'September', 'Hour', 'Minutes', \"Day\"]], y, cv=10, scoring=\"neg_mean_squared_error\").mean()\n",
    "\n",
    "#quadratic model\n",
    "data_time[\"Day^2\"] = data_time[\"Day\"] ** 2\n",
    "quad = -cross_val_score(model, data_time[[\"Year\", 'April',\n",
    "       'August', 'December', 'February', 'July', 'June', 'March', 'May',\n",
    "       'November', 'October', 'September', 'Hour', 'Minutes', \"Day\", \"Day^2\"]], y, cv=10, scoring=\"neg_mean_squared_error\").mean()\n",
    "\n",
    "#cubic model\n",
    "data_time[\"Day^3\"] = data_time[\"Day\"] ** 3\n",
    "cube = -cross_val_score(model, data_time[[\"Year\", 'April',\n",
    "       'August', 'December', 'February', 'July', 'June', 'March', 'May',\n",
    "       'November', 'October', 'September', 'Hour', 'Minutes', \"Day\", \"Day^2\", \"Day^3\"]], y, cv=10, scoring=\"neg_mean_squared_error\").mean()\n",
    "\n",
    "#quartic model\n",
    "data_time[\"Day^4\"] = data_time[\"Day\"] ** 4\n",
    "quart = -cross_val_score(model, data_time[[\"Year\", 'April',\n",
    "       'August', 'December', 'February', 'July', 'June', 'March', 'May',\n",
    "       'November', 'October', 'September', 'Hour', 'Minutes', \"Day\", \"Day^2\", \"Day^3\", \"Day^4\"]], y, cv=10, scoring=\"neg_mean_squared_error\").mean()\n",
    "\n",
    "#quintic model\n",
    "data_time[\"Day^5\"] = data_time[\"Day\"] ** 5\n",
    "quint = -cross_val_score(model, data_time[[\"Year\", 'April',\n",
    "       'August', 'December', 'February', 'July', 'June', 'March', 'May',\n",
    "       'November', 'October', 'September', 'Hour', 'Minutes', \"Day\", \"Day^2\", \"Day^3\", \"Day^4\", \"Day^5\"]], y, cv=10, scoring=\"neg_mean_squared_error\").mean()\n",
    "\n",
    "#sixth degree model\n",
    "data_time[\"Day^6\"] = data_time[\"Day\"] ** 6\n",
    "six = -cross_val_score(model, data_time[[\"Year\", 'April',\n",
    "       'August', 'December', 'February', 'July', 'June', 'March', 'May',\n",
    "       'November', 'October', 'September', 'Hour', 'Minutes', \"Day\", \"Day^2\", \"Day^3\", \"Day^4\", \"Day^5\", \"Day^6\"]], y, cv=10, scoring=\"neg_mean_squared_error\").mean()\n",
    "\n",
    "#seventh degree model\n",
    "data_time[\"Day^7\"] = data_time[\"Day\"] ** 7\n",
    "seven = -cross_val_score(model, data_time[[\"Year\", 'April',\n",
    "       'August', 'December', 'February', 'July', 'June', 'March', 'May',\n",
    "       'November', 'October', 'September', 'Hour', 'Minutes', \"Day\", \"Day^2\", \"Day^3\", \"Day^4\", \"Day^5\", \"Day^6\", \"Day^7\"]], y, cv=10, scoring=\"neg_mean_squared_error\").mean()\n",
    "\n",
    "\n",
    "\n",
    "y = [linear, quad, cube, quart, quint, six, seven]"
   ]
  },
  {
   "cell_type": "code",
   "execution_count": 20,
   "metadata": {
    "collapsed": false
   },
   "outputs": [
    {
     "data": {
      "text/plain": [
       "[<matplotlib.lines.Line2D at 0x7f29fbe927b8>]"
      ]
     },
     "execution_count": 20,
     "metadata": {},
     "output_type": "execute_result"
    },
    {
     "data": {
      "image/png": "[encoded data removed]",
      "text/plain": [
       "<matplotlib.figure.Figure at 0x7f29fbebf630>"
      ]
     },
     "metadata": {},
     "output_type": "display_data"
    }
   ],
   "source": [
    "x = [1, 2, 3, 4, 5, 6, 7]\n",
    "plt.plot(x, y, 'r-')"
   ]
  },
  {
   "cell_type": "markdown",
   "metadata": {},
   "source": [
    "##### Interpretation:\n",
    "Looks like for my timeline data, the optimal polynomial model to be fit on the Days is actually a 3rd degree model! I will compare this to my k-nearest neighbors model to see which actually produces the smallest error."
   ]
  },
  {
   "cell_type": "code",
   "execution_count": 21,
   "metadata": {
    "collapsed": false
   },
   "outputs": [
    {
     "data": {
      "text/plain": [
       "(0.16656193465951877, 0.18340554586767893)"
      ]
     },
     "execution_count": 21,
     "metadata": {},
     "output_type": "execute_result"
    }
   ],
   "source": [
    "cube, k_neighbors_error"
   ]
  },
  {
   "cell_type": "markdown",
   "metadata": {},
   "source": [
    "### Next Step:\n",
    "Looks like the most optimal models for my data are:\n",
    "- For my timeline data it is using a cubic linear regression model for the Day, and then also using the values for Year, Month, Hour, and Minute in my training-data.\n",
    "- For my messages, it's using a linear regression model for day, and then also using the values for Year, Month, Hour, and Minute in my training-data\n",
    "\n",
    "Time to create functions that allow me to specify which attributes I'd like to know my predicted compound_score for sentiment!"
   ]
  },
  {
   "cell_type": "code",
   "execution_count": 22,
   "metadata": {
    "collapsed": false
   },
   "outputs": [],
   "source": [
    "#helper function to make the input easier on the user but convert it to a useable array for the prediction values\n",
    "def get_prediction_array_timeline(year, month, day, hour, minute):\n",
    "\n",
    "    months = [0, 0, 0, 0, 0, 0, 0, 0, 0, 0, 0]\n",
    "    if(month == 'April'):\n",
    "        months[1] = 1\n",
    "    elif(month == 'August'):\n",
    "        months[2] = 1\n",
    "    elif(month == 'December'):\n",
    "        months[3] = 1\n",
    "    elif(month == 'February'):\n",
    "        months[4] = 1\n",
    "    elif(month == 'July'):\n",
    "        months[5] = 1\n",
    "    elif(month == 'June'):\n",
    "        months[6] = 1\n",
    "    elif(month == 'March'):\n",
    "        months[7] = 1\n",
    "    elif(month == 'May'):\n",
    "        months[8] = 1\n",
    "    elif(month == 'November'):\n",
    "        months[9] = 1\n",
    "    elif(month == 'October'):\n",
    "        months[10] = 1\n",
    "    elif(month == 'September'):\n",
    "        months[11] = 1\n",
    "        \n",
    "    return_year = [year]\n",
    "    return_hour = [hour]\n",
    "    return_minutes = [minute]\n",
    "    return_day = [day]\n",
    "    return_day_2 = [day ** 2]\n",
    "    return_day_3 = [day ** 3]\n",
    "    total_return = return_year + months + return_hour + return_minutes + return_day + return_day_2 + return_day_3\n",
    "    return(total_return)\n",
    "    "
   ]
  },
  {
   "cell_type": "code",
   "execution_count": 23,
   "metadata": {
    "collapsed": false
   },
   "outputs": [],
   "source": [
    "# Timeline\n",
    "def getTimelinePrediction(year, month, day, hour, minute):\n",
    "    prediction_values = get_prediction_array_timeline(year, month, day, hour, minute)\n",
    "    X = data_time[[\"Year\", 'April',\n",
    "       'August', 'December', 'February', 'July', 'June', 'March', 'May',\n",
    "       'November', 'October', 'September', 'Hour', 'Minutes', \"Day\", \"Day^2\", \"Day^3\"]]\n",
    "    model = LinearRegression()\n",
    "    model.fit(X, data_time[\"compound_score\"])\n",
    "    return(model.predict([prediction_values]))"
   ]
  },
  {
   "cell_type": "code",
   "execution_count": 24,
   "metadata": {
    "collapsed": false
   },
   "outputs": [
    {
     "data": {
      "text/plain": [
       "array([ 0.40532781])"
      ]
     },
     "execution_count": 24,
     "metadata": {},
     "output_type": "execute_result"
    }
   ],
   "source": [
    "#Test for Timeline\n",
    "getTimelinePrediction(2020, \"February\", 30, 9, 40)"
   ]
  },
  {
   "cell_type": "code",
   "execution_count": 25,
   "metadata": {
    "collapsed": true
   },
   "outputs": [],
   "source": [
    "#helper function to make the input easier on the user but convert it to a useable array for the prediction values\n",
    "def get_prediction_array_messages(year, month, day, hour, minute):\n",
    "    \n",
    "    months = [0, 0, 0, 0, 0, 0, 0, 0, 0, 0, 0]\n",
    "    if(month == 'April'):\n",
    "        months[1] = 1\n",
    "    elif(month == 'August'):\n",
    "        months[2] = 1\n",
    "    elif(month == 'December'):\n",
    "        months[3] = 1\n",
    "    elif(month == 'February'):\n",
    "        months[4] = 1\n",
    "    elif(month == 'July'):\n",
    "        months[5] = 1\n",
    "    elif(month == 'June'):\n",
    "        months[6] = 1\n",
    "    elif(month == 'March'):\n",
    "        months[7] = 1\n",
    "    elif(month == 'May'):\n",
    "        months[8] = 1\n",
    "    elif(month == 'November'):\n",
    "        months[9] = 1\n",
    "    elif(month == 'October'):\n",
    "        months[10] = 1\n",
    "    elif(month == 'September'):\n",
    "        months[11] = 1\n",
    "        \n",
    "    return_year = [year]\n",
    "    return_hour = [hour]\n",
    "    return_minutes = [minute]\n",
    "    return_day = [day]\n",
    "    total_return = return_year + months + return_hour + return_minutes + return_day\n",
    "    return(total_return)\n",
    "    "
   ]
  },
  {
   "cell_type": "code",
   "execution_count": 26,
   "metadata": {
    "collapsed": false
   },
   "outputs": [],
   "source": [
    "# Messages\n",
    "def getMessagePrediction(year, month, day, hour, minute):\n",
    "    prediction_values = get_prediction_array_messages(year, month, day, hour, minute)\n",
    "    X = data_mess[[\"Year\", 'April',\n",
    "       'August', 'December', 'February', 'July', 'June', 'March', 'May',\n",
    "       'November', 'October', 'September', 'Day', 'Hour', 'Minutes']]\n",
    "    model2 = LinearRegression()\n",
    "    model2.fit(X, data_mess[\"compound_score\"])\n",
    "    return(model2.predict([prediction_values]))"
   ]
  },
  {
   "cell_type": "code",
   "execution_count": 27,
   "metadata": {
    "collapsed": false
   },
   "outputs": [
    {
     "data": {
      "text/plain": [
       "array([ 0.30208632])"
      ]
     },
     "execution_count": 27,
     "metadata": {},
     "output_type": "execute_result"
    }
   ],
   "source": [
    "#Test for messages\n",
    "getMessagePrediction(2020, \"February\", 30, 9, 40)"
   ]
  },
  {
   "cell_type": "markdown",
   "metadata": {},
   "source": [
    "### Examples:\n",
    "Now I have created functions that allow me input the year, month, day, hour, and minute and recieve an estimated value for my sentiment at that exact moment for both my timeline posts and my messages! I decided to try it out below with some future predictions and then some past predictions:"
   ]
  },
  {
   "cell_type": "code",
   "execution_count": 28,
   "metadata": {
    "collapsed": false
   },
   "outputs": [
    {
     "data": {
      "text/plain": [
       "(array([ 0.46432285]), array([ 0.26760247]))"
      ]
     },
     "execution_count": 28,
     "metadata": {},
     "output_type": "execute_result"
    }
   ],
   "source": [
    "getTimelinePrediction(2020, \"December\", 30, 9, 40), getMessagePrediction(2020, \"December\", 30, 9, 40)"
   ]
  },
  {
   "cell_type": "code",
   "execution_count": 29,
   "metadata": {
    "collapsed": false
   },
   "outputs": [
    {
     "data": {
      "text/plain": [
       "(array([ 0.40532781]), array([ 0.30208632]))"
      ]
     },
     "execution_count": 29,
     "metadata": {},
     "output_type": "execute_result"
    }
   ],
   "source": [
    "getTimelinePrediction(2020, \"February\", 30, 9, 40), getMessagePrediction(2020, \"February\", 30, 9, 40)"
   ]
  },
  {
   "cell_type": "code",
   "execution_count": 30,
   "metadata": {
    "collapsed": false
   },
   "outputs": [
    {
     "data": {
      "text/plain": [
       "(array([ 0.0347635]), array([ 0.35929838]))"
      ]
     },
     "execution_count": 30,
     "metadata": {},
     "output_type": "execute_result"
    }
   ],
   "source": [
    "getTimelinePrediction(2005, \"February\", 30, 9, 40), getMessagePrediction(2000, \"February\", 30, 9, 40)"
   ]
  },
  {
   "cell_type": "code",
   "execution_count": 31,
   "metadata": {
    "collapsed": false
   },
   "outputs": [
    {
     "data": {
      "text/plain": [
       "(array([ 0.18298923]), array([ 0.32783175]))"
      ]
     },
     "execution_count": 31,
     "metadata": {},
     "output_type": "execute_result"
    }
   ],
   "source": [
    "getTimelinePrediction(2011, \"February\", 30, 9, 40), getMessagePrediction(2011, \"February\", 30, 9, 40)"
   ]
  },
  {
   "cell_type": "markdown",
   "metadata": {},
   "source": [
    "##### Note: This also proves my discoveries from my analysis before because all of my timeline values are higher than my message values after 2014, but they are lower before then (which was when I determined that I used Facebook as more of a blog and posted personal, and more negative things on my Timeline than my messages)."
   ]
  },
  {
   "cell_type": "markdown",
   "metadata": {},
   "source": [
    "## Final Analysis:\n",
    "Overall, this was definitely a very interesting experiment for me. Throughout this class, I not only found out how to conduct research on data, but I also realized the incredible power of big data and how it could so easily be used in unethical ways. It was very interesting to experience both sides of big data with my classes this quarter: learning how to collect, analyze, and draw conclusions from it in Data Science, and then learning the implications of this in the real world through my Computer Ethics class. In this experiment specifically, I learned so much about my sentiment and my private vs. my public life just by taking two samples of the giant dataset that Facebook has collected from me. It has definitely convinced me to be a more mindful social media user, not only to be more truthful to my honest sentiment pubicly, but also to be more aware of how people could use my data to define and identify me. I think that I couldn't have asked for a better eye-opener."
   ]
  },
  {
   "cell_type": "code",
   "execution_count": null,
   "metadata": {
    "collapsed": true
   },
   "outputs": [],
   "source": []
  }
 ],
 "metadata": {
  "kernelspec": {
   "display_name": "Python 3",
   "language": "python",
   "name": "python3"
  },
  "language_info": {
   "codemirror_mode": {
    "name": "ipython",
    "version": 3
   },
   "file_extension": ".py",
   "mimetype": "text/x-python",
   "name": "python",
   "nbconvert_exporter": "python",
   "pygments_lexer": "ipython3",
   "version": "3.5.2"
  }
 },
 "nbformat": 4,
 "nbformat_minor": 2
}
