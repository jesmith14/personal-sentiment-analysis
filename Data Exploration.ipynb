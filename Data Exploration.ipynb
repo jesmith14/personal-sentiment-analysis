{
 "cells": [
  {
   "cell_type": "markdown",
   "metadata": {},
   "source": [
    "# DATA EXPLORATION"
   ]
  },
  {
   "cell_type": "markdown",
   "metadata": {},
   "source": [
    "## Introduction:"
   ]
  },
  {
   "cell_type": "markdown",
   "metadata": {},
   "source": [
    "For my data exploration, I wanted to find a way to see my sentiment of private messages compared to that of my public timeline posts. My hypothesis was that my timeline (public) posts would be more positive on average than my messages (private). In order to do this, I needed to first find out which method I would use to perform sentiment analysis on my raw text. I narrowed it down to the Watson Sentiment Analysis API and the VADER sentiment analysis from the nltk python package. After careful deliberation, I decided to use nltk VADER because I was able to not only obtain a composite score for all of my text, but also a negative, neutral, and positive score."
   ]
  },
  {
   "cell_type": "code",
   "execution_count": 1,
   "metadata": {
    "collapsed": true
   },
   "outputs": [],
   "source": [
    "import pickle\n",
    "messages = pickle.load(open(\"messages.pkl\", \"rb\"))\n",
    "timeline = pickle.load(open(\"timeline.pkl\", \"rb\"))"
   ]
  },
  {
   "cell_type": "code",
   "execution_count": 2,
   "metadata": {
    "collapsed": false
   },
   "outputs": [
    {
     "name": "stderr",
     "output_type": "stream",
     "text": [
      "/opt/conda/lib/python3.5/site-packages/nltk/twitter/__init__.py:20: UserWarning: The twython library has not been installed. Some functionality from the twitter package will not be available.\n",
      "  warnings.warn(\"The twython library has not been installed. \"\n"
     ]
    }
   ],
   "source": [
    "from nltk.sentiment.vader import SentimentIntensityAnalyzer\n",
    "from nltk import tokenize\n",
    "sid = SentimentIntensityAnalyzer()\n",
    "temp = messages.iloc[1][\"Text\"]\n",
    "ss = sid.polarity_scores(temp)"
   ]
  },
  {
   "cell_type": "code",
   "execution_count": 3,
   "metadata": {
    "collapsed": false
   },
   "outputs": [],
   "source": [
    "compoundData = []\n",
    "negData = []\n",
    "neuData = []\n",
    "posData = []\n",
    "\n",
    "for row in range(len(messages)):\n",
    "    text = messages.iloc[row][\"Text\"]\n",
    "    ss = sid.polarity_scores(text)\n",
    "    compoundData.append(ss[\"compound\"])\n",
    "    negData.append(ss[\"neg\"])\n",
    "    neuData.append(ss[\"neu\"])\n",
    "    posData.append(ss[\"pos\"])"
   ]
  },
  {
   "cell_type": "code",
   "execution_count": 4,
   "metadata": {
    "collapsed": false
   },
   "outputs": [],
   "source": [
    "messages[\"compound_score\"] = compoundData\n",
    "messages[\"neg_score\"] = negData\n",
    "messages[\"neu_score\"] = neuData\n",
    "messages[\"pos_score\"] = posData"
   ]
  },
  {
   "cell_type": "code",
   "execution_count": 5,
   "metadata": {
    "collapsed": false
   },
   "outputs": [],
   "source": [
    "compoundData = []\n",
    "negData = []\n",
    "neuData = []\n",
    "posData = []\n",
    "\n",
    "for row in range(len(timeline)):\n",
    "    text = timeline.iloc[row][\"Text\"]\n",
    "    ss = sid.polarity_scores(text)\n",
    "    compoundData.append(ss[\"compound\"])\n",
    "    negData.append(ss[\"neg\"])\n",
    "    neuData.append(ss[\"neu\"])\n",
    "    posData.append(ss[\"pos\"])\n",
    "\n",
    "timeline[\"compound_score\"] = compoundData\n",
    "timeline[\"neg_score\"] = negData\n",
    "timeline[\"neu_score\"] = neuData\n",
    "timeline[\"pos_score\"] = posData"
   ]
  },
  {
   "cell_type": "code",
   "execution_count": 6,
   "metadata": {
    "collapsed": false
   },
   "outputs": [
    {
     "data": {
      "text/html": [
       "<div>\n",
       "<table border=\"1\" class=\"dataframe\">\n",
       "  <thead>\n",
       "    <tr style=\"text-align: right;\">\n",
       "      <th></th>\n",
       "      <th>Year</th>\n",
       "      <th>Month</th>\n",
       "      <th>Day</th>\n",
       "      <th>Time</th>\n",
       "      <th>Text</th>\n",
       "      <th>Hour</th>\n",
       "      <th>Minutes</th>\n",
       "      <th>compound_score</th>\n",
       "      <th>neg_score</th>\n",
       "      <th>neu_score</th>\n",
       "      <th>pos_score</th>\n",
       "    </tr>\n",
       "  </thead>\n",
       "  <tbody>\n",
       "    <tr>\n",
       "      <th>0</th>\n",
       "      <td>2017</td>\n",
       "      <td>May</td>\n",
       "      <td>16</td>\n",
       "      <td>10:48</td>\n",
       "      <td>If anyone wants to see some awesome kids hitti...</td>\n",
       "      <td>10</td>\n",
       "      <td>48</td>\n",
       "      <td>0.9430</td>\n",
       "      <td>0.0</td>\n",
       "      <td>0.732</td>\n",
       "      <td>0.268</td>\n",
       "    </tr>\n",
       "    <tr>\n",
       "      <th>1</th>\n",
       "      <td>2017</td>\n",
       "      <td>May</td>\n",
       "      <td>7</td>\n",
       "      <td>5:39</td>\n",
       "      <td>Just wanted to share that today at 12:45pm Eas...</td>\n",
       "      <td>5</td>\n",
       "      <td>39</td>\n",
       "      <td>0.9827</td>\n",
       "      <td>0.0</td>\n",
       "      <td>0.638</td>\n",
       "      <td>0.362</td>\n",
       "    </tr>\n",
       "    <tr>\n",
       "      <th>2</th>\n",
       "      <td>2017</td>\n",
       "      <td>May</td>\n",
       "      <td>4</td>\n",
       "      <td>14:13</td>\n",
       "      <td>So I took a photo of a dog in my chem lab and ...</td>\n",
       "      <td>2</td>\n",
       "      <td>13</td>\n",
       "      <td>0.4215</td>\n",
       "      <td>0.0</td>\n",
       "      <td>0.912</td>\n",
       "      <td>0.088</td>\n",
       "    </tr>\n",
       "    <tr>\n",
       "      <th>3</th>\n",
       "      <td>2017</td>\n",
       "      <td>April</td>\n",
       "      <td>30</td>\n",
       "      <td>23:21</td>\n",
       "      <td>Can't wait for this weekend! Let's go Poly Pol...</td>\n",
       "      <td>11</td>\n",
       "      <td>21</td>\n",
       "      <td>0.5399</td>\n",
       "      <td>0.0</td>\n",
       "      <td>0.721</td>\n",
       "      <td>0.279</td>\n",
       "    </tr>\n",
       "    <tr>\n",
       "      <th>4</th>\n",
       "      <td>2017</td>\n",
       "      <td>April</td>\n",
       "      <td>14</td>\n",
       "      <td>12:11</td>\n",
       "      <td>Margarita is ready for tomorrow, are you?</td>\n",
       "      <td>12</td>\n",
       "      <td>11</td>\n",
       "      <td>0.3612</td>\n",
       "      <td>0.0</td>\n",
       "      <td>0.706</td>\n",
       "      <td>0.294</td>\n",
       "    </tr>\n",
       "  </tbody>\n",
       "</table>\n",
       "</div>"
      ],
      "text/plain": [
       "   Year  Month  Day   Time                                               Text  \\\n",
       "0  2017    May   16  10:48  If anyone wants to see some awesome kids hitti...   \n",
       "1  2017    May    7   5:39  Just wanted to share that today at 12:45pm Eas...   \n",
       "2  2017    May    4  14:13  So I took a photo of a dog in my chem lab and ...   \n",
       "3  2017  April   30  23:21  Can't wait for this weekend! Let's go Poly Pol...   \n",
       "4  2017  April   14  12:11          Margarita is ready for tomorrow, are you?   \n",
       "\n",
       "  Hour Minutes  compound_score  neg_score  neu_score  pos_score  \n",
       "0   10      48          0.9430        0.0      0.732      0.268  \n",
       "1    5      39          0.9827        0.0      0.638      0.362  \n",
       "2    2      13          0.4215        0.0      0.912      0.088  \n",
       "3   11      21          0.5399        0.0      0.721      0.279  \n",
       "4   12      11          0.3612        0.0      0.706      0.294  "
      ]
     },
     "execution_count": 6,
     "metadata": {},
     "output_type": "execute_result"
    }
   ],
   "source": [
    "timeline.head()"
   ]
  },
  {
   "cell_type": "markdown",
   "metadata": {},
   "source": [
    "### Primary Analysis:\n",
    "I initially thought the best idea would be to chart the compound_score for every single message and timeline post that I had in my data frames against eachother to see the difference between the two. But, as you can see it the code and graph below, I learned that it was almost impossible to analyze the visuals because there were too many data points for me to understand what was actually happening."
   ]
  },
  {
   "cell_type": "code",
   "execution_count": 7,
   "metadata": {
    "collapsed": false
   },
   "outputs": [
    {
     "data": {
      "text/plain": [
       "[<matplotlib.lines.Line2D at 0x7f53f21d7198>]"
      ]
     },
     "execution_count": 7,
     "metadata": {},
     "output_type": "execute_result"
    },
    {
     "data": {
      "image/png": "[encoded data removed]",
      "text/plain": [
       "<matplotlib.figure.Figure at 0x7f53f21d7160>"
      ]
     },
     "metadata": {},
     "output_type": "display_data"
    }
   ],
   "source": [
    "y_1 = messages[\"compound_score\"]\n",
    "y_2 = timeline[\"compound_score\"]\n",
    "#x = range()\n",
    "\n",
    "import matplotlib.pyplot as plt\n",
    "%matplotlib inline\n",
    "\n",
    "plt.plot(y_1.index.values, y_1)\n",
    "plt.plot(y_2.index.values, y_2)\n",
    "#plt.show()"
   ]
  },
  {
   "cell_type": "markdown",
   "metadata": {},
   "source": [
    "### Solution:\n",
    "\n",
    "In order to solve this problem, I realized that it would make more sense to chart out the average scores of my messages vs. my timeline text. But I wasn't sure if I should plot the years, months, days, or time for each. I decided the best starting point was to plot my monthly sentiment analysis for every year just to see if I could draw any correlations or conclusions from my data."
   ]
  },
  {
   "cell_type": "code",
   "execution_count": 8,
   "metadata": {
    "collapsed": false
   },
   "outputs": [
    {
     "data": {
      "text/html": [
       "<script>requirejs.config({paths: { 'plotly': ['https://cdn.plot.ly/plotly-latest.min']},});if(!window.Plotly) {{require(['plotly'],function(plotly) {window.Plotly=plotly;});}}</script>"
      ],
      "text/vnd.plotly.v1+html": [
       "<script>requirejs.config({paths: { 'plotly': ['https://cdn.plot.ly/plotly-latest.min']},});if(!window.Plotly) {{require(['plotly'],function(plotly) {window.Plotly=plotly;});}}</script>"
      ]
     },
     "metadata": {},
     "output_type": "display_data"
    }
   ],
   "source": [
    "from plotly.graph_objs import *\n",
    "import pandas as pd\n",
    "import plotly.offline as py\n",
    "py.init_notebook_mode(connected=True)"
   ]
  },
  {
   "cell_type": "code",
   "execution_count": 9,
   "metadata": {
    "collapsed": false
   },
   "outputs": [],
   "source": [
    "months = pd.DataFrame(columns=[\"Month\", \"Num\"])\n",
    "months[\"Month\"] = [\"January\", \"February\", \"March\", \"April\", \"May\", \"June\", \"July\", \"August\", \"September\", \"October\", \"November\", \"December\"]\n",
    "months[\"Num\"] = [1, 2, 3, 4, 5, 6, 7, 8, 9, 10, 11, 12]\n",
    "yearlyMeanScore = messages.groupby([\"Year\", \"Month\"])[\"compound_score\"].agg([\"mean\", \"count\", \"std\"]).reset_index()\n",
    "temp = months.merge(yearlyMeanScore, how=\"outer\", on=\"Month\")\n",
    "messagesFinal = temp.sort_values([\"Year\", \"Num\"])\n",
    "\n",
    "\"\"\"\n",
    "I decided to drop 2009 because that was the year I created my Facebook account and so I didn't have a full year's\n",
    "worth of data. This skewed my results a little bit when I tried to find mean compound_score values\n",
    "\"\"\"\n",
    "messagesFinal = messagesFinal[messagesFinal[\"Year\"] != 2009]"
   ]
  },
  {
   "cell_type": "code",
   "execution_count": 10,
   "metadata": {
    "collapsed": false
   },
   "outputs": [
    {
     "data": {
      "application/vnd.plotly.v1+json": {
       "data": [
        {
         "mode": "lines",
         "name": 2010,
         "type": "scatter",
         "x": [
          "January",
          "February",
          "March",
          "April",
          "May",
          "June",
          "July",
          "August",
          "September",
          "October",
          "November",
          "December"
         ],
         "y": [
          0.15156258064516126,
          0.14776,
          0.3988,
          0.99075,
          0.30056956521739137,
          0.23230265486725657,
          0.3089592592592591,
          0.32508360655737695,
          0.2507377049180328,
          0,
          0.433385,
          0.29212015503875965
         ]
        },
        {
         "mode": "lines",
         "name": 2011,
         "type": "scatter",
         "x": [
          "January",
          "February",
          "March",
          "April",
          "May",
          "June",
          "July",
          "August",
          "September",
          "October",
          "November",
          "December"
         ],
         "y": [
          0.5497631578947368,
          0.47133181818181824,
          0.3123129032258063,
          0.27378125000000003,
          0.2584503311258278,
          0.1836222797927461,
          0.23865212947189066,
          0.05585238095238095,
          0.2196130434782608,
          0.18062874999999995,
          0.07422472527472528,
          0.13723181818181818
         ]
        },
        {
         "mode": "lines",
         "name": 2012,
         "type": "scatter",
         "x": [
          "January",
          "February",
          "March",
          "April",
          "May",
          "June",
          "July",
          "August",
          "September",
          "October",
          "November",
          "December"
         ],
         "y": [
          0.07691641791044775,
          0.15781428571428574,
          0.07871559633027521,
          0.31740157480314934,
          0.21801673640167352,
          0.38558787878787887,
          0.4604780487804878,
          0.19558529411764705,
          0.334310843373494,
          0.211174025974026,
          0.31226043956043953,
          0.35220000000000007
         ]
        },
        {
         "mode": "lines",
         "name": 2013,
         "type": "scatter",
         "x": [
          "January",
          "February",
          "March",
          "April",
          "May",
          "June",
          "July",
          "August",
          "September",
          "October",
          "November",
          "December"
         ],
         "y": [
          0.2262246376811594,
          0.2645473684210527,
          0.2713466666666667,
          0.30138695652173914,
          0.13604482758620692,
          0.25838,
          0.1468,
          0.17562909090909093,
          0.24275999999999998,
          0.23193783783783783,
          -0.14049999999999999,
          0.17414666666666667
         ]
        },
        {
         "mode": "lines",
         "name": 2014,
         "type": "scatter",
         "x": [
          "January",
          "February",
          "April",
          "May",
          "June",
          "July",
          "August",
          "September",
          "October",
          "November",
          "December"
         ],
         "y": [
          0.12476000000000001,
          0.10255624999999997,
          0.6122359999999998,
          0.2974333333333333,
          0.5555555555555555,
          0.16638620689655176,
          0.4996727272727273,
          0.6052,
          -0.02532000000000001,
          0.5751846153846153,
          0
         ]
        },
        {
         "mode": "lines",
         "name": 2015,
         "type": "scatter",
         "x": [
          "January",
          "February",
          "March",
          "April",
          "May",
          "June",
          "July",
          "August",
          "September",
          "October",
          "November",
          "December"
         ],
         "y": [
          0.235475,
          0.40385000000000004,
          0.12785806451612902,
          0.38730000000000003,
          0.24137857142857144,
          0.13020066666666666,
          0.1863200000000001,
          0.2651650485436893,
          0.2999999999999999,
          0.233375652173913,
          0.16406976744186047,
          0.20370537084398954
         ]
        },
        {
         "mode": "lines",
         "name": 2016,
         "type": "scatter",
         "x": [
          "January",
          "February",
          "March",
          "April",
          "May",
          "June",
          "July",
          "August",
          "September",
          "October",
          "November",
          "December"
         ],
         "y": [
          0.12413557692307688,
          0.17604814159292034,
          0.13367099999999982,
          0.2003168407310703,
          0.20663005366726286,
          0.2218174181593581,
          0.1995361736334402,
          0.1952612549800799,
          0.19584012638230616,
          0.17919984496124028,
          0.2092694386694385,
          0.2165922997946613
         ]
        },
        {
         "mode": "lines",
         "name": 2017,
         "type": "scatter",
         "x": [
          "January",
          "February",
          "March",
          "April",
          "May"
         ],
         "y": [
          0.10610308788598566,
          0.19427315175097265,
          0.20342560283687933,
          0.26230336842105273,
          0.26305495145631064
         ]
        }
       ],
       "layout": {
        "title": "Monthly Message Sentiment Analysis by Year",
        "xaxis": {
         "title": "Month"
        },
        "yaxis": {
         "title": "Mean Compound Score"
        }
       }
      },
      "text/html": [
       "<div id=\"95f8d050-90e4-485c-bb2c-6794c4199886\" style=\"height: 525px; width: 100%;\" class=\"plotly-graph-div\"></div><script type=\"text/javascript\">require([\"plotly\"], function(Plotly) { window.PLOTLYENV=window.PLOTLYENV || {};window.PLOTLYENV.BASE_URL=\"https://plot.ly\";Plotly.newPlot(\"95f8d050-90e4-485c-bb2c-6794c4199886\", [{\"y\": [0.15156258064516126, 0.14776, 0.3988, 0.99075, 0.30056956521739137, 0.23230265486725657, 0.3089592592592591, 0.32508360655737695, 0.2507377049180328, 0.0, 0.433385, 0.29212015503875965], \"mode\": \"lines\", \"type\": \"scatter\", \"name\": 2010, \"x\": [\"January\", \"February\", \"March\", \"April\", \"May\", \"June\", \"July\", \"August\", \"September\", \"October\", \"November\", \"December\"]}, {\"y\": [0.5497631578947368, 0.47133181818181824, 0.3123129032258063, 0.27378125000000003, 0.2584503311258278, 0.1836222797927461, 0.23865212947189066, 0.05585238095238095, 0.2196130434782608, 0.18062874999999995, 0.07422472527472528, 0.13723181818181818], \"mode\": \"lines\", \"type\": \"scatter\", \"name\": 2011, \"x\": [\"January\", \"February\", \"March\", \"April\", \"May\", \"June\", \"July\", \"August\", \"September\", \"October\", \"November\", \"December\"]}, {\"y\": [0.07691641791044775, 0.15781428571428574, 0.07871559633027521, 0.31740157480314934, 0.21801673640167352, 0.38558787878787887, 0.4604780487804878, 0.19558529411764705, 0.334310843373494, 0.211174025974026, 0.31226043956043953, 0.35220000000000007], \"mode\": \"lines\", \"type\": \"scatter\", \"name\": 2012, \"x\": [\"January\", \"February\", \"March\", \"April\", \"May\", \"June\", \"July\", \"August\", \"September\", \"October\", \"November\", \"December\"]}, {\"y\": [0.2262246376811594, 0.2645473684210527, 0.2713466666666667, 0.30138695652173914, 0.13604482758620692, 0.25838, 0.1468, 0.17562909090909093, 0.24275999999999998, 0.23193783783783783, -0.14049999999999999, 0.17414666666666667], \"mode\": \"lines\", \"type\": \"scatter\", \"name\": 2013, \"x\": [\"January\", \"February\", \"March\", \"April\", \"May\", \"June\", \"July\", \"August\", \"September\", \"October\", \"November\", \"December\"]}, {\"y\": [0.12476000000000001, 0.10255624999999997, 0.6122359999999998, 0.2974333333333333, 0.5555555555555555, 0.16638620689655176, 0.4996727272727273, 0.6052, -0.02532000000000001, 0.5751846153846153, 0.0], \"mode\": \"lines\", \"type\": \"scatter\", \"name\": 2014, \"x\": [\"January\", \"February\", \"April\", \"May\", \"June\", \"July\", \"August\", \"September\", \"October\", \"November\", \"December\"]}, {\"y\": [0.235475, 0.40385000000000004, 0.12785806451612902, 0.38730000000000003, 0.24137857142857144, 0.13020066666666666, 0.1863200000000001, 0.2651650485436893, 0.2999999999999999, 0.233375652173913, 0.16406976744186047, 0.20370537084398954], \"mode\": \"lines\", \"type\": \"scatter\", \"name\": 2015, \"x\": [\"January\", \"February\", \"March\", \"April\", \"May\", \"June\", \"July\", \"August\", \"September\", \"October\", \"November\", \"December\"]}, {\"y\": [0.12413557692307688, 0.17604814159292034, 0.13367099999999982, 0.2003168407310703, 0.20663005366726286, 0.2218174181593581, 0.1995361736334402, 0.1952612549800799, 0.19584012638230616, 0.17919984496124028, 0.2092694386694385, 0.2165922997946613], \"mode\": \"lines\", \"type\": \"scatter\", \"name\": 2016, \"x\": [\"January\", \"February\", \"March\", \"April\", \"May\", \"June\", \"July\", \"August\", \"September\", \"October\", \"November\", \"December\"]}, {\"y\": [0.10610308788598566, 0.19427315175097265, 0.20342560283687933, 0.26230336842105273, 0.26305495145631064], \"mode\": \"lines\", \"type\": \"scatter\", \"name\": 2017, \"x\": [\"January\", \"February\", \"March\", \"April\", \"May\"]}], {\"title\": \"Monthly Message Sentiment Analysis by Year\", \"yaxis\": {\"title\": \"Mean Compound Score\"}, \"xaxis\": {\"title\": \"Month\"}}, {\"linkText\": \"Export to plot.ly\", \"showLink\": true})});</script>"
      ],
      "text/vnd.plotly.v1+html": [
       "<div id=\"95f8d050-90e4-485c-bb2c-6794c4199886\" style=\"height: 525px; width: 100%;\" class=\"plotly-graph-div\"></div><script type=\"text/javascript\">require([\"plotly\"], function(Plotly) { window.PLOTLYENV=window.PLOTLYENV || {};window.PLOTLYENV.BASE_URL=\"https://plot.ly\";Plotly.newPlot(\"95f8d050-90e4-485c-bb2c-6794c4199886\", [{\"y\": [0.15156258064516126, 0.14776, 0.3988, 0.99075, 0.30056956521739137, 0.23230265486725657, 0.3089592592592591, 0.32508360655737695, 0.2507377049180328, 0.0, 0.433385, 0.29212015503875965], \"mode\": \"lines\", \"type\": \"scatter\", \"name\": 2010, \"x\": [\"January\", \"February\", \"March\", \"April\", \"May\", \"June\", \"July\", \"August\", \"September\", \"October\", \"November\", \"December\"]}, {\"y\": [0.5497631578947368, 0.47133181818181824, 0.3123129032258063, 0.27378125000000003, 0.2584503311258278, 0.1836222797927461, 0.23865212947189066, 0.05585238095238095, 0.2196130434782608, 0.18062874999999995, 0.07422472527472528, 0.13723181818181818], \"mode\": \"lines\", \"type\": \"scatter\", \"name\": 2011, \"x\": [\"January\", \"February\", \"March\", \"April\", \"May\", \"June\", \"July\", \"August\", \"September\", \"October\", \"November\", \"December\"]}, {\"y\": [0.07691641791044775, 0.15781428571428574, 0.07871559633027521, 0.31740157480314934, 0.21801673640167352, 0.38558787878787887, 0.4604780487804878, 0.19558529411764705, 0.334310843373494, 0.211174025974026, 0.31226043956043953, 0.35220000000000007], \"mode\": \"lines\", \"type\": \"scatter\", \"name\": 2012, \"x\": [\"January\", \"February\", \"March\", \"April\", \"May\", \"June\", \"July\", \"August\", \"September\", \"October\", \"November\", \"December\"]}, {\"y\": [0.2262246376811594, 0.2645473684210527, 0.2713466666666667, 0.30138695652173914, 0.13604482758620692, 0.25838, 0.1468, 0.17562909090909093, 0.24275999999999998, 0.23193783783783783, -0.14049999999999999, 0.17414666666666667], \"mode\": \"lines\", \"type\": \"scatter\", \"name\": 2013, \"x\": [\"January\", \"February\", \"March\", \"April\", \"May\", \"June\", \"July\", \"August\", \"September\", \"October\", \"November\", \"December\"]}, {\"y\": [0.12476000000000001, 0.10255624999999997, 0.6122359999999998, 0.2974333333333333, 0.5555555555555555, 0.16638620689655176, 0.4996727272727273, 0.6052, -0.02532000000000001, 0.5751846153846153, 0.0], \"mode\": \"lines\", \"type\": \"scatter\", \"name\": 2014, \"x\": [\"January\", \"February\", \"April\", \"May\", \"June\", \"July\", \"August\", \"September\", \"October\", \"November\", \"December\"]}, {\"y\": [0.235475, 0.40385000000000004, 0.12785806451612902, 0.38730000000000003, 0.24137857142857144, 0.13020066666666666, 0.1863200000000001, 0.2651650485436893, 0.2999999999999999, 0.233375652173913, 0.16406976744186047, 0.20370537084398954], \"mode\": \"lines\", \"type\": \"scatter\", \"name\": 2015, \"x\": [\"January\", \"February\", \"March\", \"April\", \"May\", \"June\", \"July\", \"August\", \"September\", \"October\", \"November\", \"December\"]}, {\"y\": [0.12413557692307688, 0.17604814159292034, 0.13367099999999982, 0.2003168407310703, 0.20663005366726286, 0.2218174181593581, 0.1995361736334402, 0.1952612549800799, 0.19584012638230616, 0.17919984496124028, 0.2092694386694385, 0.2165922997946613], \"mode\": \"lines\", \"type\": \"scatter\", \"name\": 2016, \"x\": [\"January\", \"February\", \"March\", \"April\", \"May\", \"June\", \"July\", \"August\", \"September\", \"October\", \"November\", \"December\"]}, {\"y\": [0.10610308788598566, 0.19427315175097265, 0.20342560283687933, 0.26230336842105273, 0.26305495145631064], \"mode\": \"lines\", \"type\": \"scatter\", \"name\": 2017, \"x\": [\"January\", \"February\", \"March\", \"April\", \"May\"]}], {\"title\": \"Monthly Message Sentiment Analysis by Year\", \"yaxis\": {\"title\": \"Mean Compound Score\"}, \"xaxis\": {\"title\": \"Month\"}}, {\"linkText\": \"Export to plot.ly\", \"showLink\": true})});</script>"
      ]
     },
     "metadata": {},
     "output_type": "display_data"
    }
   ],
   "source": [
    "layout = Layout({\n",
    "        'title':\"Monthly Message Sentiment Analysis by Year\",\n",
    "        'xaxis':{'title':'Month'},\n",
    "        #xaxis also takes in a dictionary, just like layout does\n",
    "        'yaxis':{'title':'Mean Compound Score'}\n",
    "    })\n",
    "split_traces = [] \n",
    "\n",
    "for year in messagesFinal.Year.unique():\n",
    "    split_traces.append(\n",
    "        Scatter({\n",
    "            'x':messagesFinal[\"Month\"][messagesFinal.Year == year],\n",
    "            'y':messagesFinal[\"mean\"][messagesFinal.Year == year],\n",
    "            'mode':'lines',\n",
    "            'name':year\n",
    "        })\n",
    "    )\n",
    "\n",
    "split_fig = Figure(data = split_traces, layout = layout)\n",
    "\n",
    "py.iplot(split_fig)"
   ]
  },
  {
   "cell_type": "code",
   "execution_count": 11,
   "metadata": {
    "collapsed": false
   },
   "outputs": [
    {
     "data": {
      "application/vnd.plotly.v1+json": {
       "data": [
        {
         "mode": "lines",
         "name": 2010,
         "type": "scatter",
         "x": [
          "January",
          "February",
          "March",
          "April",
          "May",
          "June",
          "July",
          "August",
          "September",
          "October",
          "November",
          "December"
         ],
         "y": [
          0.32370000000000004,
          0.31351111111111113,
          0.6139333333333333,
          0.32744285714285715,
          0.64115,
          0.5041,
          0.3133071428571429,
          0.12591666666666668,
          0.22821428571428573,
          0.6938351351351351,
          0.6094272727272727,
          0.09578888888888888
         ]
        },
        {
         "mode": "lines",
         "name": 2011,
         "type": "scatter",
         "x": [
          "January",
          "February",
          "March",
          "May",
          "June",
          "July",
          "August",
          "September",
          "October",
          "November",
          "December"
         ],
         "y": [
          0.2187,
          0.0851,
          0.21545,
          0.59435,
          0.4292875,
          0.4258666666666666,
          0.2892,
          -0.3072571428571429,
          0.6358112903225809,
          0.6571800000000001,
          0.028327343749999997
         ]
        },
        {
         "mode": "lines",
         "name": 2012,
         "type": "scatter",
         "x": [
          "January",
          "February",
          "March",
          "April",
          "May",
          "June",
          "July",
          "August",
          "September",
          "October",
          "November",
          "December"
         ],
         "y": [
          0.10593333333333334,
          0.700475,
          0.6047166666666667,
          -0.1423,
          0.5155666666666666,
          0.4237375,
          0.36965625,
          0.24364666666666668,
          0.4897857142857142,
          0.659005882352941,
          -0.21921666666666664,
          0.26168571428571424
         ]
        },
        {
         "mode": "lines",
         "name": 2013,
         "type": "scatter",
         "x": [
          "January",
          "February",
          "March",
          "April",
          "May",
          "June",
          "August",
          "September",
          "October",
          "November",
          "December"
         ],
         "y": [
          0.35465714285714284,
          0.45499999999999996,
          0.18980000000000002,
          0.5185000000000001,
          0.6786999999999999,
          0.5584,
          0.41509999999999997,
          0.3053407407407408,
          0.5150297297297296,
          0.4903999999999999,
          0.4756666666666667
         ]
        },
        {
         "mode": "lines",
         "name": 2014,
         "type": "scatter",
         "x": [
          "January",
          "February",
          "March",
          "April",
          "May",
          "June",
          "July",
          "August",
          "September",
          "October",
          "November"
         ],
         "y": [
          0.3016083333333333,
          0.3124,
          -0.2503444444444445,
          0.62265,
          0.2945,
          0.10094864864864865,
          0.22488000000000005,
          0.26715,
          0.6227199999999999,
          0.7073512195121953,
          0.25660000000000005
         ]
        },
        {
         "mode": "lines",
         "name": 2015,
         "type": "scatter",
         "x": [
          "January",
          "February",
          "March",
          "April",
          "May",
          "June",
          "July",
          "August",
          "September",
          "October",
          "November",
          "December"
         ],
         "y": [
          0.21915384615384614,
          0.8478,
          0.241875,
          0.30016666666666664,
          0.8118,
          0.36137,
          0.5244,
          0.91955,
          0.41973999999999995,
          0.723275,
          0.3982,
          0.16015454545454544
         ]
        },
        {
         "mode": "lines",
         "name": 2016,
         "type": "scatter",
         "x": [
          "January",
          "March",
          "April",
          "May",
          "June",
          "August",
          "September",
          "October",
          "November",
          "December"
         ],
         "y": [
          0,
          0.9248,
          0.9459,
          0.776925,
          0.8244,
          0.1191,
          0.8283333333333333,
          0.6575551724137931,
          -0.2059,
          0.3062
         ]
        },
        {
         "mode": "lines",
         "name": 2017,
         "type": "scatter",
         "x": [
          "January",
          "February",
          "March",
          "April",
          "May"
         ],
         "y": [
          0,
          0.19179999999999997,
          0.55,
          0.5235666666666666,
          0.7824
         ]
        }
       ],
       "layout": {
        "title": "Monthly Timeline Sentiment Analysis by Year",
        "xaxis": {
         "title": "Month"
        },
        "yaxis": {
         "title": "Mean Compound Score"
        }
       }
      },
      "text/html": [
       "<div id=\"c3e559c9-f4da-447a-b246-f348364926f8\" style=\"height: 525px; width: 100%;\" class=\"plotly-graph-div\"></div><script type=\"text/javascript\">require([\"plotly\"], function(Plotly) { window.PLOTLYENV=window.PLOTLYENV || {};window.PLOTLYENV.BASE_URL=\"https://plot.ly\";Plotly.newPlot(\"c3e559c9-f4da-447a-b246-f348364926f8\", [{\"y\": [0.32370000000000004, 0.31351111111111113, 0.6139333333333333, 0.32744285714285715, 0.64115, 0.5041, 0.3133071428571429, 0.12591666666666668, 0.22821428571428573, 0.6938351351351351, 0.6094272727272727, 0.09578888888888888], \"mode\": \"lines\", \"type\": \"scatter\", \"name\": 2010, \"x\": [\"January\", \"February\", \"March\", \"April\", \"May\", \"June\", \"July\", \"August\", \"September\", \"October\", \"November\", \"December\"]}, {\"y\": [0.2187, 0.0851, 0.21545, 0.59435, 0.4292875, 0.4258666666666666, 0.2892, -0.3072571428571429, 0.6358112903225809, 0.6571800000000001, 0.028327343749999997], \"mode\": \"lines\", \"type\": \"scatter\", \"name\": 2011, \"x\": [\"January\", \"February\", \"March\", \"May\", \"June\", \"July\", \"August\", \"September\", \"October\", \"November\", \"December\"]}, {\"y\": [0.10593333333333334, 0.700475, 0.6047166666666667, -0.1423, 0.5155666666666666, 0.4237375, 0.36965625, 0.24364666666666668, 0.4897857142857142, 0.659005882352941, -0.21921666666666664, 0.26168571428571424], \"mode\": \"lines\", \"type\": \"scatter\", \"name\": 2012, \"x\": [\"January\", \"February\", \"March\", \"April\", \"May\", \"June\", \"July\", \"August\", \"September\", \"October\", \"November\", \"December\"]}, {\"y\": [0.35465714285714284, 0.45499999999999996, 0.18980000000000002, 0.5185000000000001, 0.6786999999999999, 0.5584, 0.41509999999999997, 0.3053407407407408, 0.5150297297297296, 0.4903999999999999, 0.4756666666666667], \"mode\": \"lines\", \"type\": \"scatter\", \"name\": 2013, \"x\": [\"January\", \"February\", \"March\", \"April\", \"May\", \"June\", \"August\", \"September\", \"October\", \"November\", \"December\"]}, {\"y\": [0.3016083333333333, 0.3124, -0.2503444444444445, 0.62265, 0.2945, 0.10094864864864865, 0.22488000000000005, 0.26715, 0.6227199999999999, 0.7073512195121953, 0.25660000000000005], \"mode\": \"lines\", \"type\": \"scatter\", \"name\": 2014, \"x\": [\"January\", \"February\", \"March\", \"April\", \"May\", \"June\", \"July\", \"August\", \"September\", \"October\", \"November\"]}, {\"y\": [0.21915384615384614, 0.8478, 0.241875, 0.30016666666666664, 0.8118, 0.36137, 0.5244, 0.91955, 0.41973999999999995, 0.723275, 0.3982, 0.16015454545454544], \"mode\": \"lines\", \"type\": \"scatter\", \"name\": 2015, \"x\": [\"January\", \"February\", \"March\", \"April\", \"May\", \"June\", \"July\", \"August\", \"September\", \"October\", \"November\", \"December\"]}, {\"y\": [0.0, 0.9248, 0.9459, 0.776925, 0.8244, 0.1191, 0.8283333333333333, 0.6575551724137931, -0.2059, 0.3062], \"mode\": \"lines\", \"type\": \"scatter\", \"name\": 2016, \"x\": [\"January\", \"March\", \"April\", \"May\", \"June\", \"August\", \"September\", \"October\", \"November\", \"December\"]}, {\"y\": [0.0, 0.19179999999999997, 0.55, 0.5235666666666666, 0.7824], \"mode\": \"lines\", \"type\": \"scatter\", \"name\": 2017, \"x\": [\"January\", \"February\", \"March\", \"April\", \"May\"]}], {\"title\": \"Monthly Timeline Sentiment Analysis by Year\", \"yaxis\": {\"title\": \"Mean Compound Score\"}, \"xaxis\": {\"title\": \"Month\"}}, {\"linkText\": \"Export to plot.ly\", \"showLink\": true})});</script>"
      ],
      "text/vnd.plotly.v1+html": [
       "<div id=\"c3e559c9-f4da-447a-b246-f348364926f8\" style=\"height: 525px; width: 100%;\" class=\"plotly-graph-div\"></div><script type=\"text/javascript\">require([\"plotly\"], function(Plotly) { window.PLOTLYENV=window.PLOTLYENV || {};window.PLOTLYENV.BASE_URL=\"https://plot.ly\";Plotly.newPlot(\"c3e559c9-f4da-447a-b246-f348364926f8\", [{\"y\": [0.32370000000000004, 0.31351111111111113, 0.6139333333333333, 0.32744285714285715, 0.64115, 0.5041, 0.3133071428571429, 0.12591666666666668, 0.22821428571428573, 0.6938351351351351, 0.6094272727272727, 0.09578888888888888], \"mode\": \"lines\", \"type\": \"scatter\", \"name\": 2010, \"x\": [\"January\", \"February\", \"March\", \"April\", \"May\", \"June\", \"July\", \"August\", \"September\", \"October\", \"November\", \"December\"]}, {\"y\": [0.2187, 0.0851, 0.21545, 0.59435, 0.4292875, 0.4258666666666666, 0.2892, -0.3072571428571429, 0.6358112903225809, 0.6571800000000001, 0.028327343749999997], \"mode\": \"lines\", \"type\": \"scatter\", \"name\": 2011, \"x\": [\"January\", \"February\", \"March\", \"May\", \"June\", \"July\", \"August\", \"September\", \"October\", \"November\", \"December\"]}, {\"y\": [0.10593333333333334, 0.700475, 0.6047166666666667, -0.1423, 0.5155666666666666, 0.4237375, 0.36965625, 0.24364666666666668, 0.4897857142857142, 0.659005882352941, -0.21921666666666664, 0.26168571428571424], \"mode\": \"lines\", \"type\": \"scatter\", \"name\": 2012, \"x\": [\"January\", \"February\", \"March\", \"April\", \"May\", \"June\", \"July\", \"August\", \"September\", \"October\", \"November\", \"December\"]}, {\"y\": [0.35465714285714284, 0.45499999999999996, 0.18980000000000002, 0.5185000000000001, 0.6786999999999999, 0.5584, 0.41509999999999997, 0.3053407407407408, 0.5150297297297296, 0.4903999999999999, 0.4756666666666667], \"mode\": \"lines\", \"type\": \"scatter\", \"name\": 2013, \"x\": [\"January\", \"February\", \"March\", \"April\", \"May\", \"June\", \"August\", \"September\", \"October\", \"November\", \"December\"]}, {\"y\": [0.3016083333333333, 0.3124, -0.2503444444444445, 0.62265, 0.2945, 0.10094864864864865, 0.22488000000000005, 0.26715, 0.6227199999999999, 0.7073512195121953, 0.25660000000000005], \"mode\": \"lines\", \"type\": \"scatter\", \"name\": 2014, \"x\": [\"January\", \"February\", \"March\", \"April\", \"May\", \"June\", \"July\", \"August\", \"September\", \"October\", \"November\"]}, {\"y\": [0.21915384615384614, 0.8478, 0.241875, 0.30016666666666664, 0.8118, 0.36137, 0.5244, 0.91955, 0.41973999999999995, 0.723275, 0.3982, 0.16015454545454544], \"mode\": \"lines\", \"type\": \"scatter\", \"name\": 2015, \"x\": [\"January\", \"February\", \"March\", \"April\", \"May\", \"June\", \"July\", \"August\", \"September\", \"October\", \"November\", \"December\"]}, {\"y\": [0.0, 0.9248, 0.9459, 0.776925, 0.8244, 0.1191, 0.8283333333333333, 0.6575551724137931, -0.2059, 0.3062], \"mode\": \"lines\", \"type\": \"scatter\", \"name\": 2016, \"x\": [\"January\", \"March\", \"April\", \"May\", \"June\", \"August\", \"September\", \"October\", \"November\", \"December\"]}, {\"y\": [0.0, 0.19179999999999997, 0.55, 0.5235666666666666, 0.7824], \"mode\": \"lines\", \"type\": \"scatter\", \"name\": 2017, \"x\": [\"January\", \"February\", \"March\", \"April\", \"May\"]}], {\"title\": \"Monthly Timeline Sentiment Analysis by Year\", \"yaxis\": {\"title\": \"Mean Compound Score\"}, \"xaxis\": {\"title\": \"Month\"}}, {\"linkText\": \"Export to plot.ly\", \"showLink\": true})});</script>"
      ]
     },
     "metadata": {},
     "output_type": "display_data"
    }
   ],
   "source": [
    "yearlyMeanScore = timeline.groupby([\"Year\", \"Month\"])[\"compound_score\"].agg([\"mean\", \"count\", \"std\"]).reset_index()\n",
    "temp = months.merge(yearlyMeanScore, how=\"outer\", on=\"Month\")\n",
    "timelineFinal = temp.sort_values([\"Year\", \"Num\"])\n",
    "\n",
    "\"\"\"\n",
    "I decided to drop 2009 because that was the year I created my Facebook account and so I didn't have a full year's\n",
    "worth of data. This skewed my results a little bit when I tried to find mean compound_score values\n",
    "\"\"\"\n",
    "timelineFinal = timelineFinal[timelineFinal[\"Year\"] != 2009]\n",
    "layout = Layout({\n",
    "        'title':\"Monthly Timeline Sentiment Analysis by Year\",\n",
    "        'xaxis':{'title':'Month'},\n",
    "        #xaxis also takes in a dictionary, just like layout does\n",
    "        'yaxis':{'title':'Mean Compound Score'}\n",
    "    })\n",
    "split_traces = [] \n",
    "\n",
    "for year in timelineFinal.Year.unique():\n",
    "    split_traces.append(\n",
    "        Scatter({\n",
    "            'x':timelineFinal[\"Month\"][timelineFinal.Year == year],\n",
    "            'y':timelineFinal[\"mean\"][timelineFinal.Year == year],\n",
    "            'mode':'lines',\n",
    "            'name':year\n",
    "        })\n",
    "    )\n",
    "\n",
    "split_fig = Figure(data = split_traces, layout = layout)\n",
    "\n",
    "py.iplot(split_fig)"
   ]
  },
  {
   "cell_type": "code",
   "execution_count": 12,
   "metadata": {
    "collapsed": false
   },
   "outputs": [
    {
     "data": {
      "text/plain": [
       "(20729, 1169)"
      ]
     },
     "execution_count": 12,
     "metadata": {},
     "output_type": "execute_result"
    }
   ],
   "source": [
    "len(messages), len(timeline)"
   ]
  },
  {
   "cell_type": "markdown",
   "metadata": {},
   "source": [
    "### Secondary Analysis\n",
    "\n",
    "This did give me what I wanted to chart and I found a few interesting observations:\n",
    "##### For my Messages\n",
    "- April of 2010 had an amazing score\n",
    "- 2014 seemed to be pretty high scoring on average\n",
    "- November of 2013 had a very low score\n",
    "- For the most part (minus the outliers), my averages throughout the year stay relatively steady\n",
    "\n",
    "Reasons for the outliers:\n",
    "- April 2010: I actually only had two messages total in April 2010, they were very positive messages but that wasn't really indicative of the month as a whole. Because of this, I consider that month to be an outlier in the data.\n",
    "- 2014 was not only the year that I graduated high school, but also the year that I started college. It makes sense that my messages were positive because the first half of the year I was saying good luck to friends as we said our goodbyes and the second half of the year I was being courteous as I met new friends in SLO.\n",
    "- November 2013: Similar to April 2010, there were only 3 messages total during this month, and one was particularly negative. I again categorized this as an outlier.\n",
    "\n",
    "##### For my Timeline\n",
    "- I was going to analyze the reasons for specific outliers, but I realized that the reason for so much variance within the timeline data for this visualization was because of the size of my timeline data. My messages array has 20729 elements in it while my timeline only had 1169. Because of this my data was very skewed for my timeline posts simply because some months I may have only posted once, if even at all. (December 2014 didn't have any posts because I briefly deleted my Facebook account during that time)\n",
    "\n",
    "### The Next Step:\n",
    "Since the data in both of these charts were kind of all over the place and there was no way I could plot my yearly timeline averages on top of my yearly message averages without creating an incredibly confusing matrix of lines, I wanted to try something else. So I decided to simplify the data even further, and only graph the yearly averages of my timeline text and message text against eachother:"
   ]
  },
  {
   "cell_type": "code",
   "execution_count": 13,
   "metadata": {
    "collapsed": false
   },
   "outputs": [],
   "source": [
    "annualMessScore = messages.groupby([\"Year\"])[\"compound_score\"].agg([\"mean\",\"std\",\"count\"]).reset_index()\n",
    "annualTimeScore = timeline.groupby([\"Year\"])[\"compound_score\"].agg([\"mean\",\"std\",\"count\"]).reset_index()"
   ]
  },
  {
   "cell_type": "code",
   "execution_count": 14,
   "metadata": {
    "collapsed": false
   },
   "outputs": [
    {
     "data": {
      "text/html": [
       "<div>\n",
       "<table border=\"1\" class=\"dataframe\">\n",
       "  <thead>\n",
       "    <tr style=\"text-align: right;\">\n",
       "      <th></th>\n",
       "      <th>Year</th>\n",
       "      <th>mean</th>\n",
       "      <th>std</th>\n",
       "      <th>count</th>\n",
       "      <th>height_err</th>\n",
       "    </tr>\n",
       "  </thead>\n",
       "  <tbody>\n",
       "    <tr>\n",
       "      <th>0</th>\n",
       "      <td>2009</td>\n",
       "      <td>0.134719</td>\n",
       "      <td>0.473628</td>\n",
       "      <td>166</td>\n",
       "      <td>0.073521</td>\n",
       "    </tr>\n",
       "    <tr>\n",
       "      <th>1</th>\n",
       "      <td>2010</td>\n",
       "      <td>0.463254</td>\n",
       "      <td>0.481680</td>\n",
       "      <td>127</td>\n",
       "      <td>0.085484</td>\n",
       "    </tr>\n",
       "    <tr>\n",
       "      <th>2</th>\n",
       "      <td>2011</td>\n",
       "      <td>0.242324</td>\n",
       "      <td>0.394094</td>\n",
       "      <td>238</td>\n",
       "      <td>0.051091</td>\n",
       "    </tr>\n",
       "    <tr>\n",
       "      <th>3</th>\n",
       "      <td>2012</td>\n",
       "      <td>0.444689</td>\n",
       "      <td>0.416868</td>\n",
       "      <td>132</td>\n",
       "      <td>0.072567</td>\n",
       "    </tr>\n",
       "    <tr>\n",
       "      <th>4</th>\n",
       "      <td>2013</td>\n",
       "      <td>0.457665</td>\n",
       "      <td>0.402295</td>\n",
       "      <td>146</td>\n",
       "      <td>0.066588</td>\n",
       "    </tr>\n",
       "    <tr>\n",
       "      <th>5</th>\n",
       "      <td>2014</td>\n",
       "      <td>0.334450</td>\n",
       "      <td>0.403591</td>\n",
       "      <td>181</td>\n",
       "      <td>0.059997</td>\n",
       "    </tr>\n",
       "    <tr>\n",
       "      <th>6</th>\n",
       "      <td>2015</td>\n",
       "      <td>0.489440</td>\n",
       "      <td>0.384082</td>\n",
       "      <td>118</td>\n",
       "      <td>0.070715</td>\n",
       "    </tr>\n",
       "    <tr>\n",
       "      <th>7</th>\n",
       "      <td>2016</td>\n",
       "      <td>0.587017</td>\n",
       "      <td>0.373211</td>\n",
       "      <td>47</td>\n",
       "      <td>0.108877</td>\n",
       "    </tr>\n",
       "    <tr>\n",
       "      <th>8</th>\n",
       "      <td>2017</td>\n",
       "      <td>0.478093</td>\n",
       "      <td>0.408662</td>\n",
       "      <td>14</td>\n",
       "      <td>0.218439</td>\n",
       "    </tr>\n",
       "  </tbody>\n",
       "</table>\n",
       "</div>"
      ],
      "text/plain": [
       "   Year      mean       std  count  height_err\n",
       "0  2009  0.134719  0.473628    166    0.073521\n",
       "1  2010  0.463254  0.481680    127    0.085484\n",
       "2  2011  0.242324  0.394094    238    0.051091\n",
       "3  2012  0.444689  0.416868    132    0.072567\n",
       "4  2013  0.457665  0.402295    146    0.066588\n",
       "5  2014  0.334450  0.403591    181    0.059997\n",
       "6  2015  0.489440  0.384082    118    0.070715\n",
       "7  2016  0.587017  0.373211     47    0.108877\n",
       "8  2017  0.478093  0.408662     14    0.218439"
      ]
     },
     "execution_count": 14,
     "metadata": {},
     "output_type": "execute_result"
    }
   ],
   "source": [
    "annualTimeScore[\"height_err\"] = (2 * (annualTimeScore[\"std\"] / (annualTimeScore[\"count\"] ** 0.5)))\n",
    "annualMessScore[\"height_err\"] = (2 * (annualMessScore[\"std\"] / (annualMessScore[\"count\"] ** 0.5)))\n",
    "#lower = mean - (2 * (sd(box) / sqrt(count)))\n",
    "#higher = mean + (2 * (sd(box) / sqrt(count)))\n",
    "annualTimeScore"
   ]
  },
  {
   "cell_type": "code",
   "execution_count": 15,
   "metadata": {
    "collapsed": false
   },
   "outputs": [
    {
     "data": {
      "application/vnd.plotly.v1+json": {
       "data": [
        {
         "error_y": {
          "array": [
           0.040777006042799845,
           0.02822529800298468,
           0.01801337434187778,
           0.020628434212442204,
           0.041924440485477485,
           0.056742729188457325,
           0.014609334044961154,
           0.00766572447496329,
           0.012075513021536395
          ],
          "type": "data",
          "visible": true
         },
         "marker": {
          "color": "#add8e6"
         },
         "name": "Messages",
         "type": "bar",
         "x": [
          2009,
          2010,
          2011,
          2012,
          2013,
          2014,
          2015,
          2016,
          2017
         ],
         "y": [
          0.14611799999999994,
          0.25846571719226874,
          0.19832337514253104,
          0.21071694677871164,
          0.21827821522309684,
          0.4362290598290598,
          0.18852873747494983,
          0.1936009581497795,
          0.20401575239053876
         ]
        },
        {
         "error_y": {
          "array": [
           0.07352135695169641,
           0.0854844140521864,
           0.05109065353304726,
           0.07256748730669146,
           0.06658842367534452,
           0.05999739649813546,
           0.07071523210188257,
           0.10887686215464681,
           0.21843883391037774
          ],
          "type": "data",
          "visible": true
         },
         "marker": {
          "color": "#FFA500"
         },
         "name": "Timeline",
         "type": "bar",
         "x": [
          2009,
          2010,
          2011,
          2012,
          2013,
          2014,
          2015,
          2016,
          2017
         ],
         "y": [
          0.13471867469879523,
          0.4632535433070864,
          0.24232352941176483,
          0.4446893939393936,
          0.45766506849315036,
          0.33444972375690585,
          0.48943983050847467,
          0.5870170212765957,
          0.4780928571428572
         ]
        }
       ],
       "layout": {
        "barmode": "group"
       }
      },
      "text/html": [
       "<div id=\"fc04d768-92c5-46bf-a1c6-b4882c012445\" style=\"height: 525px; width: 100%;\" class=\"plotly-graph-div\"></div><script type=\"text/javascript\">require([\"plotly\"], function(Plotly) { window.PLOTLYENV=window.PLOTLYENV || {};window.PLOTLYENV.BASE_URL=\"https://plot.ly\";Plotly.newPlot(\"fc04d768-92c5-46bf-a1c6-b4882c012445\", [{\"y\": [0.14611799999999994, 0.25846571719226874, 0.19832337514253104, 0.21071694677871164, 0.21827821522309684, 0.4362290598290598, 0.18852873747494983, 0.1936009581497795, 0.20401575239053876], \"type\": \"bar\", \"x\": [2009, 2010, 2011, 2012, 2013, 2014, 2015, 2016, 2017], \"name\": \"Messages\", \"error_y\": {\"visible\": true, \"type\": \"data\", \"array\": [0.040777006042799845, 0.02822529800298468, 0.01801337434187778, 0.020628434212442204, 0.041924440485477485, 0.056742729188457325, 0.014609334044961154, 0.00766572447496329, 0.012075513021536395]}, \"marker\": {\"color\": \"#add8e6\"}}, {\"y\": [0.13471867469879523, 0.4632535433070864, 0.24232352941176483, 0.4446893939393936, 0.45766506849315036, 0.33444972375690585, 0.48943983050847467, 0.5870170212765957, 0.4780928571428572], \"type\": \"bar\", \"x\": [2009, 2010, 2011, 2012, 2013, 2014, 2015, 2016, 2017], \"name\": \"Timeline\", \"error_y\": {\"visible\": true, \"type\": \"data\", \"array\": [0.07352135695169641, 0.0854844140521864, 0.05109065353304726, 0.07256748730669146, 0.06658842367534452, 0.05999739649813546, 0.07071523210188257, 0.10887686215464681, 0.21843883391037774]}, \"marker\": {\"color\": \"#FFA500\"}}], {\"barmode\": \"group\"}, {\"linkText\": \"Export to plot.ly\", \"showLink\": true})});</script>"
      ],
      "text/vnd.plotly.v1+html": [
       "<div id=\"fc04d768-92c5-46bf-a1c6-b4882c012445\" style=\"height: 525px; width: 100%;\" class=\"plotly-graph-div\"></div><script type=\"text/javascript\">require([\"plotly\"], function(Plotly) { window.PLOTLYENV=window.PLOTLYENV || {};window.PLOTLYENV.BASE_URL=\"https://plot.ly\";Plotly.newPlot(\"fc04d768-92c5-46bf-a1c6-b4882c012445\", [{\"y\": [0.14611799999999994, 0.25846571719226874, 0.19832337514253104, 0.21071694677871164, 0.21827821522309684, 0.4362290598290598, 0.18852873747494983, 0.1936009581497795, 0.20401575239053876], \"type\": \"bar\", \"x\": [2009, 2010, 2011, 2012, 2013, 2014, 2015, 2016, 2017], \"name\": \"Messages\", \"error_y\": {\"visible\": true, \"type\": \"data\", \"array\": [0.040777006042799845, 0.02822529800298468, 0.01801337434187778, 0.020628434212442204, 0.041924440485477485, 0.056742729188457325, 0.014609334044961154, 0.00766572447496329, 0.012075513021536395]}, \"marker\": {\"color\": \"#add8e6\"}}, {\"y\": [0.13471867469879523, 0.4632535433070864, 0.24232352941176483, 0.4446893939393936, 0.45766506849315036, 0.33444972375690585, 0.48943983050847467, 0.5870170212765957, 0.4780928571428572], \"type\": \"bar\", \"x\": [2009, 2010, 2011, 2012, 2013, 2014, 2015, 2016, 2017], \"name\": \"Timeline\", \"error_y\": {\"visible\": true, \"type\": \"data\", \"array\": [0.07352135695169641, 0.0854844140521864, 0.05109065353304726, 0.07256748730669146, 0.06658842367534452, 0.05999739649813546, 0.07071523210188257, 0.10887686215464681, 0.21843883391037774]}, \"marker\": {\"color\": \"#FFA500\"}}], {\"barmode\": \"group\"}, {\"linkText\": \"Export to plot.ly\", \"showLink\": true})});</script>"
      ]
     },
     "metadata": {},
     "output_type": "display_data"
    }
   ],
   "source": [
    "import plotly.graph_objs as go\n",
    "\n",
    "trace1 = go.Bar(\n",
    "            x=annualMessScore.Year,\n",
    "            y=annualMessScore[\"mean\"],\n",
    "            marker=dict(\n",
    "                color='#add8e6'\n",
    "            ),\n",
    "            name='Messages',\n",
    "            error_y=dict(\n",
    "                type='data',\n",
    "                array=annualMessScore[\"height_err\"],\n",
    "                visible=True\n",
    "            )\n",
    "        )\n",
    "\n",
    "\n",
    "trace2 = go.Bar(\n",
    "            x=annualTimeScore.Year,\n",
    "            y=annualTimeScore[\"mean\"],\n",
    "            marker=dict(\n",
    "                color='#FFA500'\n",
    "            ),\n",
    "            name='Timeline',\n",
    "            error_y=dict(\n",
    "                type='data',\n",
    "                array=annualTimeScore[\"height_err\"],\n",
    "                visible=True\n",
    "            )\n",
    "        )\n",
    "data = [trace1, trace2]\n",
    "\n",
    "layout = go.Layout(\n",
    "    barmode='group'\n",
    ")\n",
    "\n",
    "fig = go.Figure(data=data, layout=layout)\n",
    "py.iplot(fig, filename='grouped-bar')\n"
   ]
  },
  {
   "cell_type": "code",
   "execution_count": 16,
   "metadata": {
    "collapsed": false
   },
   "outputs": [
    {
     "data": {
      "text/plain": [
       "(166, 14)"
      ]
     },
     "execution_count": 16,
     "metadata": {},
     "output_type": "execute_result"
    }
   ],
   "source": [
    "len(timeline[timeline[\"Year\"] == 2009]), len(timeline[timeline[\"Year\"] == 2017])"
   ]
  },
  {
   "cell_type": "code",
   "execution_count": 20,
   "metadata": {
    "collapsed": false
   },
   "outputs": [
    {
     "data": {
      "text/plain": [
       "(1169, 20729)"
      ]
     },
     "execution_count": 20,
     "metadata": {},
     "output_type": "execute_result"
    }
   ],
   "source": [
    "len(timeline), len(messages)"
   ]
  },
  {
   "cell_type": "markdown",
   "metadata": {},
   "source": [
    "### Third Analysis\n",
    "\n",
    "This visualization was definitely heading in the right direction. Based on my yearly sentiment averages, I found that for almost every year that I've had Facebook, my Timeline sentiment (public) is far higher than my messages sentiment (private). The exceptions to this were 2009 and 2014.\n",
    "\n",
    "After analyzing my timeline posts from 2009, I actually had some interesting realizations:\n",
    "- In 2009, I posted more on my timeline than every other year (with the exception of 2011 and 2014), this was for two reasons:\n",
    "1) The first reason was because I was only 13 years old and I had just created my Facebook so I was constantly posting updates and getting the hang of how Facebook worked.\n",
    "2) The second reason was because Facebook as a platform was actually very different in 2009. It used to be more similar to a blog in that people would post their thoughts wether they were good or bad. It was less about trying to please your friends and obtain \"likes\" and more about posting whatever was on your mind. This meant that I was more likely to post something that was personal or sad in 2009 than I would have been in 2017.\n",
    "- After adding error bars, I was able to prove that there is a much larger error for the timeline annual averages than the messages annual averages. This was because I have many many more messages annually than I do timeline posts. Especially as the years went on, like in 2017 (where I only had a total of 14 timeline posts), the error was huge in comparison. This could mean that my data for timeline posts has much more variance, and there is a higher probability that the averages aren't as accurate. I made sure to keep this in mind throughout the rest of my analysis.\n",
    "- I actually found it interesting that Facebook's transition from more of a blog and thought sharing platform to a \"likeability\" platform that forces people to try and present the best version of themselves matched pretty well with my data in the amount of times per year that I posted to my timeline. It was especially obvious that the big shift started to occur around 2014:"
   ]
  },
  {
   "cell_type": "code",
   "execution_count": 17,
   "metadata": {
    "collapsed": false
   },
   "outputs": [
    {
     "data": {
      "text/plain": [
       "[<matplotlib.lines.Line2D at 0x7f53f07b2710>]"
      ]
     },
     "execution_count": 17,
     "metadata": {},
     "output_type": "execute_result"
    },
    {
     "data": {
      "image/png": "[encoded data removed]",
      "text/plain": [
       "<matplotlib.figure.Figure at 0x7f5424e65048>"
      ]
     },
     "metadata": {},
     "output_type": "display_data"
    }
   ],
   "source": [
    "x = [2009, 2010, 2011, 2012, 2013, 2014, 2015, 2016, 2017]\n",
    "y = timeline.groupby(\"Year\")[\"Text\"].count().reset_index()[\"Text\"]\n",
    "plt.plot(x,y, 'k-')"
   ]
  },
  {
   "cell_type": "markdown",
   "metadata": {},
   "source": [
    "## The Final Step:\n",
    "\n",
    "There was still something missing with my analysis. I wanted to make sure that my hypothesis was correct: did I really post more positively publicly than I did privately? So far the yearly averages proved this theory. But what about my monthly averages and my weekly averages? This was the final step:"
   ]
  },
  {
   "cell_type": "code",
   "execution_count": 18,
   "metadata": {
    "collapsed": false
   },
   "outputs": [
    {
     "data": {
      "application/vnd.plotly.v1+json": {
       "data": [
        {
         "line": {
          "color": "#3b5998",
          "width": 3
         },
         "name": "Messages-Year",
         "type": "scatter",
         "visible": true,
         "x": [
          2010,
          2011,
          2012,
          2013,
          2014,
          2015,
          2016,
          2017
         ],
         "y": [
          0.14611799999999994,
          0.25846571719226874,
          0.19832337514253104,
          0.21071694677871164,
          0.21827821522309684,
          0.4362290598290598,
          0.18852873747494983,
          0.1936009581497795,
          0.20401575239053876
         ]
        },
        {
         "line": {
          "color": "#FFA500",
          "width": 3
         },
         "name": "Timeline-Year",
         "type": "scatter",
         "visible": true,
         "x": [
          2010,
          2011,
          2012,
          2013,
          2014,
          2015,
          2016,
          2017
         ],
         "y": [
          0.13471867469879523,
          0.4632535433070864,
          0.24232352941176483,
          0.4446893939393936,
          0.45766506849315036,
          0.33444972375690585,
          0.48943983050847467,
          0.5870170212765957,
          0.4780928571428572
         ]
        },
        {
         "line": {
          "color": "#3b5998",
          "width": 3
         },
         "name": "Messages-Month",
         "type": "scatter",
         "visible": false,
         "x": [
          1,
          2,
          3,
          4,
          5,
          6,
          7,
          8,
          9,
          10,
          11,
          12
         ],
         "y": [
          0.26462677053824374,
          0.19961663157894724,
          0.2189482911392403,
          0.18897996254681648,
          0.12333594559585487,
          0.2324436950146626,
          0.21179807127882638,
          0.17260726119139963,
          0.23439541169076059,
          0.16707897911832909,
          0.19255072815533997,
          0.22148626728110613
         ]
        },
        {
         "line": {
          "color": "#FFA500",
          "width": 3
         },
         "name": "Timeline-Month",
         "type": "scatter",
         "visible": false,
         "x": [
          1,
          2,
          3,
          4,
          5,
          6,
          7,
          8,
          9,
          10,
          11,
          12
         ],
         "y": [
          0.4215900000000001,
          0.1703277108433735,
          0.0776230769230769,
          0.3493181818181818,
          0.25367058823529415,
          0.20595392156862743,
          0.2636630136986302,
          0.2846216216216216,
          0.522054347826087,
          0.2725590163934426,
          0.6038215633423191,
          0.32652450980392145
         ]
        },
        {
         "line": {
          "color": "#3b5998",
          "width": 3
         },
         "name": "Messages-Day",
         "type": "scatter",
         "visible": false,
         "x": [
          1,
          2,
          3,
          4,
          5,
          6,
          7,
          8,
          9,
          10,
          11,
          12,
          13,
          14,
          15,
          16,
          17,
          18,
          19,
          20,
          21,
          22,
          23,
          24,
          25,
          26,
          27,
          28,
          29,
          30,
          31
         ],
         "y": [
          0.17235637663885559,
          0.28840267857142865,
          0.1719943181818178,
          0.2142562962962961,
          0.1949820662768028,
          0.19849416498993938,
          0.26927981651376165,
          0.20037766233766222,
          0.17690630323679718,
          0.22414265734265723,
          0.22891930501930505,
          0.18645424292845258,
          0.22390678336980294,
          0.1776762745098037,
          0.23012939999999957,
          0.21437878192534363,
          0.1769693055555553,
          0.21550627218934912,
          0.22162187159956476,
          0.19308365591397858,
          0.17084268537074165,
          0.1410374673629242,
          0.22106241007194224,
          0.1759185567010308,
          0.14109879310344814,
          0.2046895113230034,
          0.2261106104651159,
          0.17467057101024866,
          0.25417788778877876,
          0.21210282485875676,
          0.1767814732142857
         ]
        },
        {
         "line": {
          "color": "#FFA500",
          "width": 3
         },
         "name": "Timeline-Day",
         "type": "scatter",
         "visible": false,
         "x": [
          1,
          2,
          3,
          4,
          5,
          6,
          7,
          8,
          9,
          10,
          11,
          12,
          13,
          14,
          15,
          16,
          17,
          18,
          19,
          20,
          21,
          22,
          23,
          24,
          25,
          26,
          27,
          28,
          29,
          30,
          31
         ],
         "y": [
          0.24568500000000001,
          0.18037843137254908,
          0.4041933333333334,
          0.25031315789473685,
          0.24097333333333334,
          0.36729130434782614,
          0.32376428571428567,
          0.19699811320754715,
          0.38514000000000004,
          0.2901357142857143,
          0.5628294117647058,
          0.4033857142857143,
          0.4833202531645577,
          0.4942439999999999,
          0.30151818181818185,
          0.41322121212121216,
          0.4077066666666667,
          0.37948421052631565,
          0.28924666666666676,
          0.3294027027027028,
          0.3482333333333334,
          0.14024347826086958,
          -0.013191666666666697,
          0.30886315789473684,
          0.3152125,
          0.13757000000000003,
          0.3366470588235294,
          0.5662,
          0.265925,
          0.28264210526315786,
          0.31924285714285716
         ]
        }
       ],
       "layout": {
        "title": "Messages Sentiment Analysis",
        "updatemenus": [
         {
          "buttons": [
           {
            "args": [
             "visible",
             [
              true,
              true,
              false,
              false,
              false,
              false
             ]
            ],
            "label": "Year",
            "method": "restyle"
           },
           {
            "args": [
             "visible",
             [
              false,
              false,
              true,
              true,
              false,
              false
             ]
            ],
            "label": "Month",
            "method": "restyle"
           },
           {
            "args": [
             "visible",
             [
              false,
              false,
              false,
              false,
              true,
              true
             ]
            ],
            "label": "Day",
            "method": "restyle"
           }
          ],
          "x": -0.05,
          "y": 1,
          "yanchor": "top"
         }
        ]
       }
      },
      "text/html": [
       "<div id=\"c11c55cb-9eb0-4f2d-a31d-42550426faea\" style=\"height: 525px; width: 100%;\" class=\"plotly-graph-div\"></div><script type=\"text/javascript\">require([\"plotly\"], function(Plotly) { window.PLOTLYENV=window.PLOTLYENV || {};window.PLOTLYENV.BASE_URL=\"https://plot.ly\";Plotly.newPlot(\"c11c55cb-9eb0-4f2d-a31d-42550426faea\", [{\"y\": [0.14611799999999994, 0.25846571719226874, 0.19832337514253104, 0.21071694677871164, 0.21827821522309684, 0.4362290598290598, 0.18852873747494983, 0.1936009581497795, 0.20401575239053876], \"type\": \"scatter\", \"x\": [2010, 2011, 2012, 2013, 2014, 2015, 2016, 2017], \"name\": \"Messages-Year\", \"visible\": true, \"line\": {\"color\": \"#3b5998\", \"width\": 3}}, {\"y\": [0.13471867469879523, 0.4632535433070864, 0.24232352941176483, 0.4446893939393936, 0.45766506849315036, 0.33444972375690585, 0.48943983050847467, 0.5870170212765957, 0.4780928571428572], \"type\": \"scatter\", \"x\": [2010, 2011, 2012, 2013, 2014, 2015, 2016, 2017], \"name\": \"Timeline-Year\", \"visible\": true, \"line\": {\"color\": \"#FFA500\", \"width\": 3}}, {\"y\": [0.26462677053824374, 0.19961663157894724, 0.2189482911392403, 0.18897996254681648, 0.12333594559585487, 0.2324436950146626, 0.21179807127882638, 0.17260726119139963, 0.23439541169076059, 0.16707897911832909, 0.19255072815533997, 0.22148626728110613], \"type\": \"scatter\", \"x\": [1, 2, 3, 4, 5, 6, 7, 8, 9, 10, 11, 12], \"name\": \"Messages-Month\", \"visible\": false, \"line\": {\"color\": \"#3b5998\", \"width\": 3}}, {\"y\": [0.4215900000000001, 0.1703277108433735, 0.0776230769230769, 0.3493181818181818, 0.25367058823529415, 0.20595392156862743, 0.2636630136986302, 0.2846216216216216, 0.522054347826087, 0.2725590163934426, 0.6038215633423191, 0.32652450980392145], \"type\": \"scatter\", \"x\": [1, 2, 3, 4, 5, 6, 7, 8, 9, 10, 11, 12], \"name\": \"Timeline-Month\", \"visible\": false, \"line\": {\"color\": \"#FFA500\", \"width\": 3}}, {\"y\": [0.17235637663885559, 0.28840267857142865, 0.1719943181818178, 0.2142562962962961, 0.1949820662768028, 0.19849416498993938, 0.26927981651376165, 0.20037766233766222, 0.17690630323679718, 0.22414265734265723, 0.22891930501930505, 0.18645424292845258, 0.22390678336980294, 0.1776762745098037, 0.23012939999999957, 0.21437878192534363, 0.1769693055555553, 0.21550627218934912, 0.22162187159956476, 0.19308365591397858, 0.17084268537074165, 0.1410374673629242, 0.22106241007194224, 0.1759185567010308, 0.14109879310344814, 0.2046895113230034, 0.2261106104651159, 0.17467057101024866, 0.25417788778877876, 0.21210282485875676, 0.1767814732142857], \"type\": \"scatter\", \"x\": [1, 2, 3, 4, 5, 6, 7, 8, 9, 10, 11, 12, 13, 14, 15, 16, 17, 18, 19, 20, 21, 22, 23, 24, 25, 26, 27, 28, 29, 30, 31], \"name\": \"Messages-Day\", \"visible\": false, \"line\": {\"color\": \"#3b5998\", \"width\": 3}}, {\"y\": [0.24568500000000001, 0.18037843137254908, 0.4041933333333334, 0.25031315789473685, 0.24097333333333334, 0.36729130434782614, 0.32376428571428567, 0.19699811320754715, 0.38514000000000004, 0.2901357142857143, 0.5628294117647058, 0.4033857142857143, 0.4833202531645577, 0.4942439999999999, 0.30151818181818185, 0.41322121212121216, 0.4077066666666667, 0.37948421052631565, 0.28924666666666676, 0.3294027027027028, 0.3482333333333334, 0.14024347826086958, -0.013191666666666697, 0.30886315789473684, 0.3152125, 0.13757000000000003, 0.3366470588235294, 0.5662, 0.265925, 0.28264210526315786, 0.31924285714285716], \"type\": \"scatter\", \"x\": [1, 2, 3, 4, 5, 6, 7, 8, 9, 10, 11, 12, 13, 14, 15, 16, 17, 18, 19, 20, 21, 22, 23, 24, 25, 26, 27, 28, 29, 30, 31], \"name\": \"Timeline-Day\", \"visible\": false, \"line\": {\"color\": \"#FFA500\", \"width\": 3}}], {\"updatemenus\": [{\"y\": 1, \"x\": -0.05, \"buttons\": [{\"label\": \"Year\", \"method\": \"restyle\", \"args\": [\"visible\", [true, true, false, false, false, false]]}, {\"label\": \"Month\", \"method\": \"restyle\", \"args\": [\"visible\", [false, false, true, true, false, false]]}, {\"label\": \"Day\", \"method\": \"restyle\", \"args\": [\"visible\", [false, false, false, false, true, true]]}], \"yanchor\": \"top\"}], \"title\": \"Messages Sentiment Analysis\"}, {\"linkText\": \"Export to plot.ly\", \"showLink\": true})});</script>"
      ],
      "text/vnd.plotly.v1+html": [
       "<div id=\"c11c55cb-9eb0-4f2d-a31d-42550426faea\" style=\"height: 525px; width: 100%;\" class=\"plotly-graph-div\"></div><script type=\"text/javascript\">require([\"plotly\"], function(Plotly) { window.PLOTLYENV=window.PLOTLYENV || {};window.PLOTLYENV.BASE_URL=\"https://plot.ly\";Plotly.newPlot(\"c11c55cb-9eb0-4f2d-a31d-42550426faea\", [{\"y\": [0.14611799999999994, 0.25846571719226874, 0.19832337514253104, 0.21071694677871164, 0.21827821522309684, 0.4362290598290598, 0.18852873747494983, 0.1936009581497795, 0.20401575239053876], \"type\": \"scatter\", \"x\": [2010, 2011, 2012, 2013, 2014, 2015, 2016, 2017], \"name\": \"Messages-Year\", \"visible\": true, \"line\": {\"color\": \"#3b5998\", \"width\": 3}}, {\"y\": [0.13471867469879523, 0.4632535433070864, 0.24232352941176483, 0.4446893939393936, 0.45766506849315036, 0.33444972375690585, 0.48943983050847467, 0.5870170212765957, 0.4780928571428572], \"type\": \"scatter\", \"x\": [2010, 2011, 2012, 2013, 2014, 2015, 2016, 2017], \"name\": \"Timeline-Year\", \"visible\": true, \"line\": {\"color\": \"#FFA500\", \"width\": 3}}, {\"y\": [0.26462677053824374, 0.19961663157894724, 0.2189482911392403, 0.18897996254681648, 0.12333594559585487, 0.2324436950146626, 0.21179807127882638, 0.17260726119139963, 0.23439541169076059, 0.16707897911832909, 0.19255072815533997, 0.22148626728110613], \"type\": \"scatter\", \"x\": [1, 2, 3, 4, 5, 6, 7, 8, 9, 10, 11, 12], \"name\": \"Messages-Month\", \"visible\": false, \"line\": {\"color\": \"#3b5998\", \"width\": 3}}, {\"y\": [0.4215900000000001, 0.1703277108433735, 0.0776230769230769, 0.3493181818181818, 0.25367058823529415, 0.20595392156862743, 0.2636630136986302, 0.2846216216216216, 0.522054347826087, 0.2725590163934426, 0.6038215633423191, 0.32652450980392145], \"type\": \"scatter\", \"x\": [1, 2, 3, 4, 5, 6, 7, 8, 9, 10, 11, 12], \"name\": \"Timeline-Month\", \"visible\": false, \"line\": {\"color\": \"#FFA500\", \"width\": 3}}, {\"y\": [0.17235637663885559, 0.28840267857142865, 0.1719943181818178, 0.2142562962962961, 0.1949820662768028, 0.19849416498993938, 0.26927981651376165, 0.20037766233766222, 0.17690630323679718, 0.22414265734265723, 0.22891930501930505, 0.18645424292845258, 0.22390678336980294, 0.1776762745098037, 0.23012939999999957, 0.21437878192534363, 0.1769693055555553, 0.21550627218934912, 0.22162187159956476, 0.19308365591397858, 0.17084268537074165, 0.1410374673629242, 0.22106241007194224, 0.1759185567010308, 0.14109879310344814, 0.2046895113230034, 0.2261106104651159, 0.17467057101024866, 0.25417788778877876, 0.21210282485875676, 0.1767814732142857], \"type\": \"scatter\", \"x\": [1, 2, 3, 4, 5, 6, 7, 8, 9, 10, 11, 12, 13, 14, 15, 16, 17, 18, 19, 20, 21, 22, 23, 24, 25, 26, 27, 28, 29, 30, 31], \"name\": \"Messages-Day\", \"visible\": false, \"line\": {\"color\": \"#3b5998\", \"width\": 3}}, {\"y\": [0.24568500000000001, 0.18037843137254908, 0.4041933333333334, 0.25031315789473685, 0.24097333333333334, 0.36729130434782614, 0.32376428571428567, 0.19699811320754715, 0.38514000000000004, 0.2901357142857143, 0.5628294117647058, 0.4033857142857143, 0.4833202531645577, 0.4942439999999999, 0.30151818181818185, 0.41322121212121216, 0.4077066666666667, 0.37948421052631565, 0.28924666666666676, 0.3294027027027028, 0.3482333333333334, 0.14024347826086958, -0.013191666666666697, 0.30886315789473684, 0.3152125, 0.13757000000000003, 0.3366470588235294, 0.5662, 0.265925, 0.28264210526315786, 0.31924285714285716], \"type\": \"scatter\", \"x\": [1, 2, 3, 4, 5, 6, 7, 8, 9, 10, 11, 12, 13, 14, 15, 16, 17, 18, 19, 20, 21, 22, 23, 24, 25, 26, 27, 28, 29, 30, 31], \"name\": \"Timeline-Day\", \"visible\": false, \"line\": {\"color\": \"#FFA500\", \"width\": 3}}], {\"updatemenus\": [{\"y\": 1, \"x\": -0.05, \"buttons\": [{\"label\": \"Year\", \"method\": \"restyle\", \"args\": [\"visible\", [true, true, false, false, false, false]]}, {\"label\": \"Month\", \"method\": \"restyle\", \"args\": [\"visible\", [false, false, true, true, false, false]]}, {\"label\": \"Day\", \"method\": \"restyle\", \"args\": [\"visible\", [false, false, false, false, true, true]]}], \"yanchor\": \"top\"}], \"title\": \"Messages Sentiment Analysis\"}, {\"linkText\": \"Export to plot.ly\", \"showLink\": true})});</script>"
      ]
     },
     "metadata": {},
     "output_type": "display_data"
    }
   ],
   "source": [
    "x_months = [1, 2, 3, 4, 5, 6, 7, 8, 9, 10, 11, 12]\n",
    "x_days = [1, 2,3, 4, 5, 6, 7, 8, 9, 10, 11, 12, 13, 14, 15, 16, 17, 18, 19, 20, 21, 22, 23, 24, 25, 26, 27, 28, 29, 30, 31]\n",
    "x_years = [2010, 2011, 2012, 2013, 2014, 2015, 2016, 2017]\n",
    "\n",
    "y_year_mes = messages.groupby(\"Year\")[\"compound_score\"].mean()\n",
    "y_month_mes = messages.groupby(\"Month\")[\"compound_score\"].mean()\n",
    "y_day_mes = messages.groupby(\"Day\")[\"compound_score\"].mean()\n",
    "\n",
    "y_year_time = timeline.groupby(\"Year\")[\"compound_score\"].mean()\n",
    "y_month_time = timeline.groupby(\"Month\")[\"compound_score\"].mean()\n",
    "y_day_time = timeline.groupby(\"Day\")[\"compound_score\"].mean()\n",
    "\n",
    "trace1_messages_year = Scatter(\n",
    "    x=x_years, y=y_year_mes,\n",
    "    line=Line(\n",
    "        color='#3b5998',\n",
    "        width=3\n",
    "    ),\n",
    "    name='Messages-Year',\n",
    "    visible=True\n",
    ")\n",
    "\n",
    "trace1_timeline_year = Scatter(\n",
    "    x=x_years, y=y_year_time,\n",
    "    line=Line(\n",
    "        color='#FFA500',\n",
    "        width=3\n",
    "    ),\n",
    "    name='Timeline-Year',\n",
    "    visible=True\n",
    ")\n",
    "\n",
    "\n",
    "trace2_messages_month = Scatter(\n",
    "    x=x_months, y=y_month_mes,\n",
    "    line=Line(\n",
    "        color='#3b5998',\n",
    "        width=3\n",
    "    ),\n",
    "    name='Messages-Month',\n",
    "    visible=False\n",
    ")\n",
    "\n",
    "trace2_timeline_month = Scatter(\n",
    "    x=x_months, y=y_month_time,\n",
    "    line=Line(\n",
    "        color='#FFA500',\n",
    "        width=3\n",
    "    ),\n",
    "    name='Timeline-Month',\n",
    "    visible=False\n",
    ")\n",
    "\n",
    "trace3_messages_day = Scatter(\n",
    "    x=x_days, y=y_day_mes,\n",
    "    line=Line(\n",
    "        color='#3b5998',\n",
    "        width=3\n",
    "    ),\n",
    "    name='Messages-Day',\n",
    "    visible=False\n",
    ")\n",
    "\n",
    "trace3_timeline_day = Scatter(\n",
    "    x=x_days, y=y_day_time,\n",
    "    line=Line(\n",
    "        color='#FFA500',\n",
    "        width=3\n",
    "    ),\n",
    "    name='Timeline-Day',\n",
    "    visible=False\n",
    ")\n",
    "\n",
    "data = Data([trace1_messages_year, trace1_timeline_year, trace2_messages_month, trace2_timeline_month, trace3_messages_day, trace3_timeline_day])\n",
    "layout = Layout(\n",
    "    title='Messages Sentiment Analysis',\n",
    "    updatemenus=list([\n",
    "        dict(\n",
    "            x=-0.05,\n",
    "            y=1,\n",
    "            yanchor='top',\n",
    "            buttons=list([\n",
    "                dict(\n",
    "                    args=['visible', [True, True, False, False, False, False]],\n",
    "                    label='Year',\n",
    "                    method='restyle'\n",
    "                ),\n",
    "                dict(\n",
    "                    args=['visible', [False, False, True, True, False, False]],\n",
    "                    label='Month',\n",
    "                    method='restyle'\n",
    "                ),\n",
    "                dict(\n",
    "                    args=['visible', [False, False, False, False, True, True]],\n",
    "                    label='Day',\n",
    "                    method='restyle'\n",
    "                )\n",
    "            ]),\n",
    "        )\n",
    "    ]),\n",
    ")\n",
    "fig = Figure(data=data, layout=layout)\n",
    "py.iplot(fig)"
   ]
  },
  {
   "cell_type": "markdown",
   "metadata": {},
   "source": [
    "# Final Analysis\n",
    "\n",
    "This proved my theory. My timeline was more positive than my messages for:\n",
    "- 83% of the time yearly\n",
    "- 75% of the time monthly\n",
    "- 93% of the time daily\n",
    "\n",
    "A few outliers in the data created more variance in my messages while the sheer size of the messages versus the timeline posts (shown in my error bars on the annual average chart) created more variance in my timeline data.\n",
    "\n",
    "Overall, through this process I learned a lot about my personal sharing and social media habits as well as the general shift in the way that people use Facebook. I realized that I did start to inflate my public posts to be more positive when Facebook became more of a social ranking platform. Now I can take this analysis and apply it to my everyday life. Is social media my way of perpetuating who I want to be seen as to my peers? I definitely think so. Since I deleted my Facebook, I can't say that I'll be able to change my posting habits now. But, I do know that I will be more vigilant, transparent, and honest when I post on other social media platforms from now on."
   ]
  },
  {
   "cell_type": "code",
   "execution_count": 19,
   "metadata": {
    "collapsed": true
   },
   "outputs": [],
   "source": [
    "#I used pickle again to dump the updated dataframes with the VADER scores attached for reference in other notebooks\n",
    "pickle.dump(messages, open(\"messages_score.pkl\", \"wb\"))\n",
    "pickle.dump(timeline, open(\"timeline_score.pkl\", \"wb\"))"
   ]
  },
  {
   "cell_type": "markdown",
   "metadata": {},
   "source": [
    "##### Citations:\n",
    "\"\"\"\n",
    "If you use the VADER sentiment analysis tools, please cite:\n",
    "\n",
    "Hutto, C.J. & Gilbert, E.E. (2014). VADER: A Parsimonious Rule-based Model for\n",
    "Sentiment Analysis of Social Media Text. Eighth International Conference on\n",
    "Weblogs and Social Media (ICWSM-14). Ann Arbor, MI, June 2014.\n",
    "\"\"\""
   ]
  },
  {
   "cell_type": "code",
   "execution_count": null,
   "metadata": {
    "collapsed": true
   },
   "outputs": [],
   "source": []
  }
 ],
 "metadata": {
  "kernelspec": {
   "display_name": "Python 3",
   "language": "python",
   "name": "python3"
  },
  "language_info": {
   "codemirror_mode": {
    "name": "ipython",
    "version": 3
   },
   "file_extension": ".py",
   "mimetype": "text/x-python",
   "name": "python",
   "nbconvert_exporter": "python",
   "pygments_lexer": "ipython3",
   "version": "3.5.2"
  }
 },
 "nbformat": 4,
 "nbformat_minor": 1
}
